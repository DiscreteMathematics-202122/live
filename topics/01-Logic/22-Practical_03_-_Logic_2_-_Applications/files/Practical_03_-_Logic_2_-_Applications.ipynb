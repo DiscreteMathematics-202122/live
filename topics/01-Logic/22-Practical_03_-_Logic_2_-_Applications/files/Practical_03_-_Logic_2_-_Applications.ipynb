{
 "cells": [
  {
   "cell_type": "markdown",
   "metadata": {},
   "source": [
    "# Practical 03 - Logic 2 (Applications)"
   ]
  },
  {
   "cell_type": "markdown",
   "metadata": {},
   "source": [
    "## Setup"
   ]
  },
  {
   "cell_type": "code",
   "execution_count": 36,
   "metadata": {
    "label": "bio"
   },
   "outputs": [],
   "source": [
    "# specify your student id and your name, then press Shift+Enter\n",
    "\n",
    "student_id = 'W00000000'\n",
    "student_name = 'Firstname Surname'"
   ]
  },
  {
   "cell_type": "code",
   "execution_count": 41,
   "metadata": {
    "label": "setup"
   },
   "outputs": [
    {
     "data": {
      "text/html": [
       "<script>alert('Make sure to specify your student ID and your name in the Setup section of this notebook.');</script>"
      ],
      "text/plain": [
       "<IPython.core.display.HTML object>"
      ]
     },
     "metadata": {},
     "output_type": "display_data"
    },
    {
     "data": {
      "text/html": [
       "<style>\n",
       "\n",
       "\n",
       "\n",
       "/* counting headers and my styling */\n",
       "\n",
       ".navbar-collapse.collapse {\n",
       "display: block!important;\n",
       "}\n",
       "\n",
       ".navbar-nav>li, .navbar-nav {\n",
       "float: left !important;\n",
       "}\n",
       "\n",
       ".navbar-nav.navbar-right:last-child {\n",
       "margin-right: -15px !important;\n",
       "}\n",
       "\n",
       ".navbar-right {\n",
       "float: right!important;\n",
       "}\n",
       "\n",
       "#notebook_name {\n",
       "    font-weight: 600;\n",
       "}\n",
       "\n",
       "h1 {\n",
       "\ttext-align: center;\n",
       "\tbackground-color: rgba(0,255,1,0.15);\n",
       "\tborder-bottom: 1px solid #cccccc;\n",
       "\tcounter-reset: h2counter;\t\n",
       "}\n",
       "\n",
       "h2 {\n",
       "\ttext-align: center;\n",
       "\twidth: 75%;\n",
       "\tmargin-left: 25%;\n",
       "\tbackground-color: rgba(255,255,1,0.15);\n",
       "\tborder-bottom: 1px solid #cccccc;\n",
       "\tcounter-reset: h3counter;\t\n",
       "}\n",
       "h2:before {\n",
       "\tcounter-increment: h2counter;\n",
       "}\n",
       "\n",
       "h3 {\n",
       "\tborder-bottom: 1px solid #cccccc;\t\n",
       "}\n",
       "h3:before {\n",
       "\tcounter-increment: h3counter;\n",
       "}\n",
       "\n",
       "h4 {\n",
       "\tborder-bottom: 1px solid #cccccc;\t\n",
       "}\n",
       "h4:before {\n",
       "\tcounter-increment: h4counter;\n",
       "}\n",
       " </style>Python practical setup tools version 0.2. See <a target=\"_blank\" href=\"http://kmurphy.bitbucket.io/modules/Discrete_Mathematics/topics/00-Module_Introduction/33-Python_Practicals\">kmurphy.bitbucket.io/modules/Discrete_mathematics</a>"
      ],
      "text/plain": [
       "<IPython.core.display.HTML object>"
      ]
     },
     "execution_count": 41,
     "metadata": {},
     "output_type": "execute_result"
    }
   ],
   "source": [
    "# setup magic, do not edit this! Just press Shift+Enter\n",
    "\n",
    "%matplotlib inline\n",
    "import urllib.request\n",
    "\n",
    "try:\n",
    "    content = urllib.request.urlretrieve (\"http://kmurphy.bitbucket.io/modules/Discrete_Mathematics/files/setup_practical_magic.py\")\n",
    "    exec(open(content[0]).read())\n",
    "except:\n",
    "    from setup_practical_magic import *\n",
    "setup_practical(locals())"
   ]
  },
  {
   "cell_type": "markdown",
   "metadata": {},
   "source": [
    "## Introduction"
   ]
  },
  {
   "cell_type": "markdown",
   "metadata": {},
   "source": [
    "In this practical we will use logic to study some small problems from the world of computing.  \n",
    " \n",
    "  * Logic circuits \n",
    "  * Determining conditions under which different code branches are executed.\n",
    "  \n",
    "\n",
    "### Mathematics Concepts\n",
    "\n",
    " * Propositions\n",
    " * Fundamental logical connectives __not__, __and__, and __or__.\n",
    " * Satisfiability, tautologies and contradictions.\n",
    " * logical equivalent expressions. \n",
    "\n",
    "\n",
    "### Python Syntax/Modules/Commands\n",
    "\n",
    " * Logical operators __not__, __and__, and __or__.\n",
    " * Command __TruthTable__ to build a truth table of an expression.\n",
    " * Conditional control statements using __if__\n",
    " \n",
    " \n",
    "\n",
    " "
   ]
  },
  {
   "cell_type": "markdown",
   "metadata": {},
   "source": [
    "## Logic Circuits\n",
    "\n",
    "In the tutorials we discussed the relationship between logical circuits logical propositions. \n",
    "\n",
    "To recap, consider the following circuit\n",
    "\n",
    "![](https://study.com/cimages/multimages/16/933307c6-4251-4e6d-9294-014ee7b09fee_example1.png)\n",
    "\n",
    "The corresponding logical proposition is \n",
    "\n",
    "\\\\[\n",
    "    (A \\land C) \\lor (C \\land B)\n",
    "\\\\]\n",
    "\n",
    "Using our python function __TruthTable__ to do the work for us we write\n",
    "\n",
    "~~~.python\n",
    "TruthTable(\"(A and C) or (C and B)\")\n",
    "~~~\n",
    "to get truth table \n",
    "\n",
    "|A|B|C|(A and C) or (C and B)|\n",
    "|-|-|-|------------------|\n",
    "|False|False|False|False|\n",
    "|False|False|True|False|\n",
    "|False|True|False|False|\n",
    "|False|True|True|True|\n",
    "|True|False|False|False|\n",
    "|True|False|True|True|\n",
    "|True|True|False|False|\n",
    "|True|True|True|True|\n",
    "\n",
    "And from this truth table we can determine input for which the output is on or off."
   ]
  },
  {
   "cell_type": "markdown",
   "metadata": {},
   "source": [
    "## Exercises"
   ]
  },
  {
   "cell_type": "markdown",
   "metadata": {},
   "source": [
    "**Question 1**\n",
    "\n",
    "**a)** Using __TruthTable__, construct the truth table for the logical circuit in the following diagram. \n",
    "\n",
    "**a)** Using the generated truth table or otherwise, is there an input (False/True values for \\\\(x\\\\) and \\\\(y\\\\)) for which the output is True (i.e. 1 or on)? \n",
    " \n",
    "![](http://www.toves.org/books/logic/circ-xor.png)"
   ]
  },
  {
   "cell_type": "code",
   "execution_count": 3,
   "metadata": {
    "label": "Q1a"
   },
   "outputs": [],
   "source": [
    "# Question 1 (a)\n",
    "# call to TruthTable with expression representing circuit \n"
   ]
  },
  {
   "cell_type": "code",
   "execution_count": 4,
   "metadata": {
    "label": "Q1b"
   },
   "outputs": [],
   "source": [
    "# Question 1 (b) \n",
    "# Replace \"None\" by False/True or 0/1 if you have found a solution\n",
    "x = None\n",
    "y = None"
   ]
  },
  {
   "cell_type": "markdown",
   "metadata": {},
   "source": [
    "**Question 2**\n",
    "\n",
    "**a)** Using __TruthTable__, construct the truth table for the logical circuit in the following diagram. \n",
    "\n",
    "**a)** Using the generated truth table or otherwise, is there an input (False/True values for \\\\(x\\\\), \\\\(y\\\\), and \\\\(z\\\\)) for which the output is True (i.e. 1 or on)? \n",
    " \n",
    " ![](http://www.toves.org/books/logic/circ-simp.png)"
   ]
  },
  {
   "cell_type": "code",
   "execution_count": 5,
   "metadata": {
    "label": "Q2a"
   },
   "outputs": [],
   "source": [
    "# Question 2 (a)\n",
    "# call to TruthTable with expression representing circuit \n"
   ]
  },
  {
   "cell_type": "code",
   "execution_count": 6,
   "metadata": {
    "label": "Q2b"
   },
   "outputs": [],
   "source": [
    "# Question 2 (b) \n",
    "# Replace \"None\" by False/True or 0/1 if you have found a solution\n",
    "x = None\n",
    "y = None\n",
    "z = None"
   ]
  },
  {
   "cell_type": "markdown",
   "metadata": {},
   "source": [
    "**Question 3**\n",
    "\n",
    "**a)** Using __TruthTable__, construct the truth table for the logical circuit in the following diagram. \n",
    "\n",
    "**a)** Using the generated truth table or otherwise, is there an input (False/True values for \\\\(A\\\\), \\\\(B\\\\), and \\\\(C\\\\)) for which the output is True (i.e. 1 or on)? \n",
    " \n",
    " ![](https://sub.allaboutcircuits.com/images/04287.png)"
   ]
  },
  {
   "cell_type": "code",
   "execution_count": 7,
   "metadata": {
    "label": "Q3a"
   },
   "outputs": [],
   "source": [
    "# Question 3 (a)\n",
    "# call to TruthTable with expression representing circuit \n"
   ]
  },
  {
   "cell_type": "code",
   "execution_count": 8,
   "metadata": {
    "label": "Q3b"
   },
   "outputs": [],
   "source": [
    "# Question 3 (b) \n",
    "# Replace \"None\" by False/True or 0/1 if you have found a solution\n",
    "A = None\n",
    "B = None\n",
    "C = None"
   ]
  },
  {
   "cell_type": "markdown",
   "metadata": {},
   "source": [
    "## Conditional Control Statements\n",
    "\n",
    "A fundamental feature of programming languages is to make decisions and to then run different code based on the outcomes of these decisions. In python the simplest control statement is the __if__ statement and look like\n",
    "\n",
    "~~~.python\n",
    "if condition:\n",
    "    code to run when CONDITION is True\n",
    "    code to run when CONDITION is True\n",
    "    code to run when CONDITION is True\n",
    "else:\n",
    "    code to run when CONDITION is False\n",
    "    code to run when CONDITION is False\n",
    "    code to run when CONDITION is False\n",
    "~~~\n",
    "**Notes**\n",
    "\n",
    " * The colon and the indentation is critical in python to specify a block of code statements, other languages such a java/processing use braces \"{}\". \n",
    " * Don't confuse the __if__ statement with the logical __IfThen__ \\\\((\\to\\\\)) operator."
   ]
  },
  {
   "cell_type": "markdown",
   "metadata": {},
   "source": [
    "**Example**\n",
    "\n",
    "In the following cell\n",
    "\n",
    " * change the values of the integer \\\\(n\\\\) and rerun to see output.\n",
    " * What happens if \\\\(n\\\\) is set to a float? say n=2.5?\n",
    " * What happens if \\\\(n\\\\) is set to a string? say n=\"4\"?"
   ]
  },
  {
   "cell_type": "code",
   "execution_count": 9,
   "metadata": {},
   "outputs": [
    {
     "name": "stdout",
     "output_type": "stream",
     "text": [
      "4 is an even integer\n"
     ]
    }
   ],
   "source": [
    "n = 4\n",
    "\n",
    "if n % 2==0:\n",
    "    print (n, \"is an even integer\")\n",
    "else:\n",
    "    print (n, \"is an odd integer\")"
   ]
  },
  {
   "cell_type": "markdown",
   "metadata": {},
   "source": [
    "## Exercises"
   ]
  },
  {
   "cell_type": "markdown",
   "metadata": {},
   "source": [
    "**Question 4**\n",
    "\n",
    "In lecture room TL225 the projector setup is a bit weird. To get the projector to display the notes we need\n",
    "\n",
    " * both the computer and the projector turned on (obviously)\n",
    " * if the computer display mode is set to mirror both screen then the projector mode needs to be set to VGA input (i.e. not the default HDMI input).\n",
    " * if the computer display mode is set to extended screen mode (i.e. not mirror mode), then the projector mode needs to be set to the default HDMI input.\n",
    " \n",
    "If we use symbols\n",
    "\n",
    " * __c__ stores __True__ whenever computer is on\n",
    " * __p__ stores __True__ whenever projector is on\n",
    " * __m__ stores __True__ whenever dual display mirroring is on\n",
    " * __h__ stores __True__ whenever projector is set to default HDMI input is true.\n",
    "\n",
    "then the above situation can be expressed as a logical expression (note the parenthesis)\n",
    "\\\\[\n",
    "    c \\land p \\land ((m \\land \\lnot h) \\lor (\\lnot m \\land h))\n",
    "\\\\]\n",
    "\n",
    "Modify the values of the symbols in the following code to ensure that the condition in the __if__ statement is __True__.\n"
   ]
  },
  {
   "cell_type": "code",
   "execution_count": 10,
   "metadata": {
    "label": "Q4"
   },
   "outputs": [
    {
     "name": "stdout",
     "output_type": "stream",
     "text": [
      "His writing is terrible, lets go to canteen for coffee instead\n"
     ]
    }
   ],
   "source": [
    "# Question 4\n",
    "\n",
    "# symbols to modify\n",
    "c = False\n",
    "p = False\n",
    "m = False\n",
    "h = False\n",
    "\n",
    "if c and p and ((m and not h) or (not m and h)):\n",
    "    print (\"Hey we can have a maths lecture!\")\n",
    "else:\n",
    "    print (\"His writing is terrible, lets go to canteen for coffee instead\")"
   ]
  },
  {
   "cell_type": "markdown",
   "metadata": {},
   "source": [
    "** Question 5**\n",
    "\n",
    "Construct a truth table for the condition in the previous example. "
   ]
  },
  {
   "cell_type": "code",
   "execution_count": 80,
   "metadata": {
    "label": "Q5"
   },
   "outputs": [],
   "source": [
    "# Question 5\n"
   ]
  },
  {
   "cell_type": "markdown",
   "metadata": {},
   "source": [
    "**Question 6**\n",
    "\n",
    "Determine values for __p__, __q__, and __r__ for which the condition in the __if__ statement is __True__?\n",
    "\n",
    "Hint: Use a Truth Table"
   ]
  },
  {
   "cell_type": "code",
   "execution_count": 11,
   "metadata": {
    "label": "Q6"
   },
   "outputs": [
    {
     "name": "stdout",
     "output_type": "stream",
     "text": [
      "No, condition is False\n"
     ]
    }
   ],
   "source": [
    "# Question 6\n",
    "\n",
    "p = True\n",
    "q = True\n",
    "r = True\n",
    "t = True\n",
    "if (p and q and not t) or (q and r and not t) or (r and t and not r):\n",
    "    print (\"Condition is True\")\n",
    "else:\n",
    "    print (\"No, condition is False\")"
   ]
  },
  {
   "cell_type": "code",
   "execution_count": null,
   "metadata": {},
   "outputs": [],
   "source": []
  }
 ],
 "metadata": {
  "kernelspec": {
   "display_name": "Python 3",
   "language": "python",
   "name": "python3"
  },
  "language_info": {
   "codemirror_mode": {
    "name": "ipython",
    "version": 3
   },
   "file_extension": ".py",
   "mimetype": "text/x-python",
   "name": "python",
   "nbconvert_exporter": "python",
   "pygments_lexer": "ipython3",
   "version": "3.6.5"
  },
  "toc": {
   "toc_cell": false,
   "toc_number_sections": true,
   "toc_threshold": 6,
   "toc_window_display": false
  }
 },
 "nbformat": 4,
 "nbformat_minor": 2
}
