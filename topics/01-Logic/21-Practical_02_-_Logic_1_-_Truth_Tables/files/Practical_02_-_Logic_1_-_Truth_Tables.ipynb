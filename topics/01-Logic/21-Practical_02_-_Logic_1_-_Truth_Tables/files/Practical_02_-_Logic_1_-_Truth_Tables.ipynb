{
 "cells": [
  {
   "cell_type": "markdown",
   "metadata": {},
   "source": [
    "# Practical 02 - Logic 1 (Truth tables)"
   ]
  },
  {
   "cell_type": "markdown",
   "metadata": {},
   "source": [
    "## Setup"
   ]
  },
  {
   "cell_type": "code",
   "execution_count": 1,
   "metadata": {
    "slideshow": {
     "slide_type": "-"
    }
   },
   "outputs": [],
   "source": [
    "# specify your student id and your name, then press Shift+Enter\n",
    "\n",
    "student_id = 'W00000000'\n",
    "student_name = 'Firstname Surname'"
   ]
  },
  {
   "cell_type": "code",
   "execution_count": 2,
   "metadata": {},
   "outputs": [
    {
     "data": {
      "text/html": [
       "<script>alert('Make sure to specify your student ID and your name in the Setup section of this notebook.');</script>"
      ],
      "text/plain": [
       "<IPython.core.display.HTML object>"
      ]
     },
     "metadata": {},
     "output_type": "display_data"
    },
    {
     "data": {
      "text/html": [
       "<style>\n",
       "\n",
       "\n",
       "\n",
       "/* counting headers and my styling */\n",
       "\n",
       ".navbar-collapse.collapse {\n",
       "display: block!important;\n",
       "}\n",
       "\n",
       ".navbar-nav>li, .navbar-nav {\n",
       "float: left !important;\n",
       "}\n",
       "\n",
       ".navbar-nav.navbar-right:last-child {\n",
       "margin-right: -15px !important;\n",
       "}\n",
       "\n",
       ".navbar-right {\n",
       "float: right!important;\n",
       "}\n",
       "\n",
       "#notebook_name {\n",
       "    font-weight: 600;\n",
       "}\n",
       "\n",
       "h1 {\n",
       "\ttext-align: center;\n",
       "\tbackground-color: rgba(0,255,1,0.15);\n",
       "\tborder-bottom: 1px solid #cccccc;\n",
       "\tcounter-reset: h2counter;\t\n",
       "}\n",
       "\n",
       "h2 {\n",
       "\ttext-align: center;\n",
       "\twidth: 75%;\n",
       "\tmargin-left: 25%;\n",
       "\tbackground-color: rgba(255,255,1,0.15);\n",
       "\tborder-bottom: 1px solid #cccccc;\n",
       "\tcounter-reset: h3counter;\t\n",
       "}\n",
       "h2:before {\n",
       "\tcounter-increment: h2counter;\n",
       "}\n",
       "\n",
       "h3 {\n",
       "\tborder-bottom: 1px solid #cccccc;\t\n",
       "}\n",
       "h3:before {\n",
       "\tcounter-increment: h3counter;\n",
       "}\n",
       "\n",
       "h4 {\n",
       "\tborder-bottom: 1px solid #cccccc;\t\n",
       "}\n",
       "h4:before {\n",
       "\tcounter-increment: h4counter;\n",
       "}\n",
       " </style>Python practical setup tools version 0.2. See <a target=\"_blank\" href=\"http://kmurphy.bitbucket.io/modules/Discrete_Mathematics/topics/00-Module_Introduction/33-Python_Practicals\">kmurphy.bitbucket.io/modules/Discrete_mathematics</a>"
      ],
      "text/plain": [
       "<IPython.core.display.HTML object>"
      ]
     },
     "execution_count": 2,
     "metadata": {},
     "output_type": "execute_result"
    }
   ],
   "source": [
    "# setup magic, do not edit this! Just press Shift+Enter\n",
    "\n",
    "%matplotlib inline\n",
    "import urllib.request\n",
    "content = urllib.request.urlretrieve (\"http://kmurphy.bitbucket.io/modules/Discrete_Mathematics/files/setup_practical_magic.py\")\n",
    "exec(open(content[0]).read())\n",
    "setup_practical(locals())"
   ]
  },
  {
   "cell_type": "markdown",
   "metadata": {},
   "source": [
    "## Introduction"
   ]
  },
  {
   "cell_type": "markdown",
   "metadata": {},
   "source": [
    "In this practical we will\n",
    " \n",
    "  * Demonstrate the Python implementation of the logical connectives that we covered in lectures,\n",
    "  * Use Python to build the (easy but boring and error-prone) truth tables.\n",
    "  * Use truth table to check expressions.\n",
    "\n",
    "\n",
    "### Mathematics Concepts\n",
    "\n",
    " * Propositions\n",
    " * Fundamental logical connectives __not__, __and__, and __or__.\n",
    " * Satisfiability, tautologies and contradictions.\n",
    " * logical equivalent expressions. \n",
    "\n",
    "\n",
    "### Python Syntax/Modules/Commands\n",
    "\n",
    " * Logical operators __not__, __and__, and __or__.\n",
    " * Command __TruthTable__ to build a truth table of an expression.\n",
    " \n",
    " "
   ]
  },
  {
   "cell_type": "markdown",
   "metadata": {},
   "source": [
    "## Boolean Values and Expressions \n",
    "\n",
    "A Boolean value is either true or false. It is named after the British mathematician, George Boole, who first formulated Boolean algebra — some rules for reasoning about and combining these values. This is the basis of all modern computer logic.\n",
    "\n",
    "In Python, the two Boolean values are __True__ and __False__ (the capitalization must be exactly as shown), and the Python type is __bool__."
   ]
  },
  {
   "cell_type": "code",
   "execution_count": null,
   "metadata": {},
   "outputs": [],
   "source": [
    "type(True)"
   ]
  },
  {
   "cell_type": "code",
   "execution_count": null,
   "metadata": {},
   "outputs": [],
   "source": [
    "# running the following line SHOULD produce an error\n",
    "type(true)"
   ]
  },
  {
   "cell_type": "markdown",
   "metadata": {},
   "source": [
    "In Python __False__ and __True__, map to __0__ and __1__ respectively."
   ]
  },
  {
   "cell_type": "code",
   "execution_count": null,
   "metadata": {},
   "outputs": [],
   "source": [
    "int(True)"
   ]
  },
  {
   "cell_type": "code",
   "execution_count": null,
   "metadata": {},
   "outputs": [],
   "source": [
    "True + 1"
   ]
  },
  {
   "cell_type": "markdown",
   "metadata": {},
   "source": [
    "A __Boolean expression__ is an expression that evaluates to produce a result which is a Boolean value. For example, the operator == tests if two values are equal. It produces (or yields) a Boolean value:"
   ]
  },
  {
   "cell_type": "code",
   "execution_count": null,
   "metadata": {},
   "outputs": [],
   "source": [
    "5 == (3 + 2)   # Is five equal 5 to the result of 3 + 2?"
   ]
  },
  {
   "cell_type": "code",
   "execution_count": null,
   "metadata": {},
   "outputs": [],
   "source": [
    "5 == 6"
   ]
  },
  {
   "cell_type": "code",
   "execution_count": null,
   "metadata": {},
   "outputs": [],
   "source": [
    "3 == \"3\"    # a number and a string containing a number are different"
   ]
  },
  {
   "cell_type": "markdown",
   "metadata": {},
   "source": [
    "## Logical Operators\n",
    "\n",
    "The logical connectives that we use in Mathmatics have corresponding operators in Python.  \n",
    "\n",
    "|Mathematics | Python| precedence |\n",
    "|------------|-------|------------|\n",
    "| $\\lnot$    |  not  | high       |\n",
    "| $\\land$    |  and  | medium     |\n",
    "| $\\lor$     |   or  | low        |\n",
    "\n",
    "These logical operators can be used to construct arbitrary complex logical expressions.  Note that the operators have different precedence  (similar to multiplication over addition).  \n",
    "\n",
    "**When in doubt use brackets !!**"
   ]
  },
  {
   "cell_type": "code",
   "execution_count": null,
   "metadata": {},
   "outputs": [],
   "source": [
    "not not True"
   ]
  },
  {
   "cell_type": "markdown",
   "metadata": {},
   "source": [
    "### Logical Operator precedence "
   ]
  },
  {
   "cell_type": "code",
   "execution_count": null,
   "metadata": {},
   "outputs": [],
   "source": [
    "# which operator is computed first ?\n",
    "True or False and False"
   ]
  },
  {
   "cell_type": "code",
   "execution_count": null,
   "metadata": {
    "scrolled": false
   },
   "outputs": [],
   "source": [
    "# Applying the or operator first ...\n",
    "(True or False) and False"
   ]
  },
  {
   "cell_type": "code",
   "execution_count": null,
   "metadata": {},
   "outputs": [],
   "source": [
    "# Applying the and operator first ...\n",
    "True or (False and False)"
   ]
  },
  {
   "cell_type": "markdown",
   "metadata": {},
   "source": [
    "## Truth Tables\n",
    "\n",
    "Later in this module we will use Python loops to build truth tables. In the meantime, we will use a helper functino, __TruthTable__ to make life easier. You can use  \n",
    "\n",
    " * __TruthTable('expression')__ to build the truth table for __expression__\n",
    "\n",
    "    This function can be used to check if an expression is _satisfiable_, is a _tautology_ or is a _contrdiction_.\n",
    " \n",
    " * __TruthTable(['expression 1','expression 2'])__ to build the truth table for __expression 1__ and __expression 2__\n",
    " * __TruthTable(['expression 1','expression 2''expression 3'])__ to build the truth table for __expression 1__, __expression 2__ and __expression 3__, etc.\n",
    "\n",
    "  \n",
    " This function can be used to check if logical expressions are equivalent.\n",
    " \n",
    " * Finaly if you append option __ints=True__ then the __0__/__1__ will be used for __False__/__True__.\n",
    " "
   ]
  },
  {
   "cell_type": "code",
   "execution_count": null,
   "metadata": {},
   "outputs": [],
   "source": [
    "TruthTable('not (not a or b)')"
   ]
  },
  {
   "cell_type": "code",
   "execution_count": null,
   "metadata": {},
   "outputs": [],
   "source": [
    "TruthTable(['a or b', 'a and b'])"
   ]
  },
  {
   "cell_type": "code",
   "execution_count": null,
   "metadata": {},
   "outputs": [],
   "source": [
    "TruthTable([\"(p or (p and q)) and (p or not r)\", \"p or (q and not r)\"])"
   ]
  },
  {
   "cell_type": "markdown",
   "metadata": {},
   "source": [
    "## Exercises"
   ]
  },
  {
   "cell_type": "markdown",
   "metadata": {},
   "source": [
    "**Question 1**\n",
    "\n",
    "Construct the truth table for $p \\lor (\\lnot p \\land q)$"
   ]
  },
  {
   "cell_type": "code",
   "execution_count": null,
   "metadata": {},
   "outputs": [],
   "source": [
    "# Question 1\n"
   ]
  },
  {
   "cell_type": "markdown",
   "metadata": {},
   "source": [
    "**Question 2**\n",
    "\n",
    "Construct the truth table for $\\lnot p \\land (p\\to q)$\n",
    "\n",
    "Note that you will need to express the conditional operator in terms of __not__, __and__, and __or__. (see notes)"
   ]
  },
  {
   "cell_type": "code",
   "execution_count": null,
   "metadata": {},
   "outputs": [],
   "source": [
    "# Question 2\n"
   ]
  },
  {
   "cell_type": "markdown",
   "metadata": {},
   "source": [
    "**Question 3**\n",
    "\n",
    " **a)** Construct the truth table for $(p \\land (\\lnot(\\lnot p \\lor q))) \\lor (p \\land q)$\n",
    " \n",
    " **b)** Is the expression in part **a)** logically equivalent to $p$ (Given reason) ?"
   ]
  },
  {
   "cell_type": "code",
   "execution_count": null,
   "metadata": {},
   "outputs": [],
   "source": [
    "# Question 3(a)\n"
   ]
  },
  {
   "cell_type": "markdown",
   "metadata": {},
   "source": [
    "Question 3(b)\n",
    "\n",
    "This is a markdown cell (not a code cell), so just type answer here as normal text.\n",
    "\n"
   ]
  },
  {
   "cell_type": "markdown",
   "metadata": {},
   "source": [
    "**Question 4**\n",
    "\n",
    " **a)** Construct truth tables to determine whether the logical expressions \n",
    " \n",
    " \\\\[\n",
    "     \\lnot(p \\lor q)\n",
    "     \\qquad\\text{and}\\qquad\n",
    "     (\\lnot p) \\land (\\lnot q)\n",
    " \\\\]\n",
    " are logically equivalent. \n",
    " \n",
    " **Hint:** They are and are called __De Morgan's laws__)"
   ]
  },
  {
   "cell_type": "code",
   "execution_count": null,
   "metadata": {},
   "outputs": [],
   "source": [
    "# Question 4\n"
   ]
  },
  {
   "cell_type": "markdown",
   "metadata": {},
   "source": [
    "**Question 5**\n",
    "\n",
    "Construct the truth table for $p \\lor (\\lnot p \\land q) \\to (p \\land q)$.\n",
    "\n",
    "**Hint:** You need to replace the conditional operator with a logical equivalent expression in terms of given operators (see notes). "
   ]
  },
  {
   "cell_type": "code",
   "execution_count": null,
   "metadata": {},
   "outputs": [],
   "source": [
    "# Question 5\n"
   ]
  }
 ],
 "metadata": {
  "kernelspec": {
   "display_name": "Python 3",
   "language": "python",
   "name": "python3"
  },
  "language_info": {
   "codemirror_mode": {
    "name": "ipython",
    "version": 3
   },
   "file_extension": ".py",
   "mimetype": "text/x-python",
   "name": "python",
   "nbconvert_exporter": "python",
   "pygments_lexer": "ipython3",
   "version": "3.6.5"
  },
  "toc": {
   "toc_cell": false,
   "toc_number_sections": true,
   "toc_threshold": 6,
   "toc_window_display": false
  }
 },
 "nbformat": 4,
 "nbformat_minor": 2
}
