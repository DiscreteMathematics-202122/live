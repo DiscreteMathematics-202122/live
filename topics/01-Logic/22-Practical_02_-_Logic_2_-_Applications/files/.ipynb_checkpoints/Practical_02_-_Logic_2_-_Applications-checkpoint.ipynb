{
 "cells": [
  {
   "cell_type": "markdown",
   "metadata": {
    "id": "vD3AmQ02Bsws"
   },
   "source": [
    "# Practical 02 - Logic 2 (Applications)"
   ]
  },
  {
   "cell_type": "markdown",
   "metadata": {
    "id": "-q2NeE0cBswt",
    "tags": []
   },
   "source": [
    "## Setup"
   ]
  },
  {
   "cell_type": "code",
   "execution_count": null,
   "metadata": {
    "cellView": "form",
    "id": "6dry5b2lBswv",
    "label": "bio"
   },
   "outputs": [],
   "source": [
    "#@markdown **Please enter your following details and press Shift-Enter to save:**\n",
    "your_student_number = '' #@param {type: \"string\"}\n",
    "your_name = '' #@param {type: \"string\"}"
   ]
  },
  {
   "cell_type": "code",
   "execution_count": null,
   "metadata": {
    "id": "7KLonCoKBsw2",
    "label": "setup"
   },
   "outputs": [],
   "source": [
    "# setup magic, do not edit this cell! Just press Shift+Enter or click on arrow at top-left\n",
    "\n",
    "import urllib.request\n",
    "content = urllib.request.urlretrieve (\"http://discretemathematics-202122.github.io/live/resources/setup_practical_magic.py\")\n",
    "exec(open(content[0]).read())\n",
    "setup_practical(locals())"
   ]
  },
  {
   "cell_type": "markdown",
   "metadata": {
    "id": "ND3VWRuQBsw8"
   },
   "source": [
    "---\n",
    "## Introduction\n",
    "\n",
    "In this practical we will use logic to study some small problems from the world of computing.  \n",
    " \n",
    "  * Logic circuits \n",
    "  * Determining conditions under which different code branches are executed."
   ]
  },
  {
   "cell_type": "markdown",
   "metadata": {
    "id": "XJ92XUwIBsw9"
   },
   "source": [
    "### Mathematics Concepts\n",
    "\n",
    " * Propositions\n",
    " * Fundamental logical connectives __not__, __and__, and __or__.\n",
    " * Satisfiability, tautologies and contradictions.\n",
    " * logical equivalent expressions. \n",
    "\n",
    " \n",
    "\n",
    " "
   ]
  },
  {
   "cell_type": "markdown",
   "metadata": {
    "id": "ClZgXo95CRCf"
   },
   "source": [
    "### Python Concepts\n",
    "\n",
    " * Logical operators `not`, `and`, and `or`.\n",
    " * Command `TruthTable` to build a truth table of an expression.\n",
    " * Conditional control statements using `if`.\n",
    " ---"
   ]
  },
  {
   "cell_type": "markdown",
   "metadata": {
    "id": "TqURauB-Bsw9"
   },
   "source": [
    "## Logic Circuits\n",
    "\n",
    "In the tutorials we discussed the relationship between logical circuits logical propositions. \n",
    "\n",
    "To recap, consider the following circuit\n",
    "\n",
    "![](https://kmurphy.github.io/notebooks/logic.png)\n",
    "\n",
    "The corresponding logical proposition is \n",
    "\n",
    "$$\n",
    "    (A \\land C) \\lor (C \\land B)\n",
    "$$\n",
    "\n",
    "Using our python function `TruthTable` to do the work for us we write\n",
    "\n",
    "```python\n",
    "TruthTable( [\"A and C\", \"C and B\", \"(A and C) or (C and B)\"] )\n",
    "```\n",
    "to get truth table (We have included two intermediate output columns `A and C` and `C and B` so that you can verify the output, yourselves).\n",
    "\n",
    "\n",
    "|`A`|`B`|`C`|`A and C`|`C and B`|`(A and C) or (C and B)`|\n",
    "|-|-|-|-----------|------------|-----------|\n",
    "False|False|False|False|False|False|\n",
    "False|False|True|False|False|False|\n",
    "False|True|False|False|False|False|\n",
    "False|True|True|False|True|True|\n",
    "True|False|False|False|False|False|\n",
    "True|False|True|True|False|True|\n",
    "True|True|False|False|False|False|\n",
    "True|True|True|True|True|True|\n",
    "\n",
    "\n",
    "> Or if you used option `ints=True` in the `TruthTable` command you got the same table with `False` replcaed by `0` and `True` replaced by `1`.\n",
    "\n",
    "And from this truth table we can determine the inputs (if any) for which the output is on or off."
   ]
  },
  {
   "cell_type": "code",
   "execution_count": null,
   "metadata": {
    "id": "dc4q4NNwCm4S"
   },
   "outputs": [],
   "source": [
    "TruthTable(\"A or B\", ints=True)"
   ]
  },
  {
   "cell_type": "markdown",
   "metadata": {
    "id": "yfYAWwcWBsw-"
   },
   "source": [
    "## Exercises"
   ]
  },
  {
   "cell_type": "markdown",
   "metadata": {
    "id": "9AG5uBnfBsw_"
   },
   "source": [
    "### Question 1\n",
    "\n",
    "**a)** Using `TruthTable`, construct the truth table for the logical circuit in the following diagram. \n",
    "\n",
    "**a)** Using the generated truth table or otherwise, is there an input (`False`/`True` values for \\\\(x\\\\) and \\\\(y\\\\)) for which the output is `True` (i.e. 1 or on)? \n",
    " \n",
    "![](https://kmurphy.github.io/notebooks/circ-xor.png)"
   ]
  },
  {
   "cell_type": "code",
   "execution_count": null,
   "metadata": {
    "id": "rxvnu-R2Bsw_",
    "label": "Q1a"
   },
   "outputs": [],
   "source": [
    "# Question 1 (a)\n",
    "# Call function TruthTable with expression representing above circuit \n"
   ]
  },
  {
   "cell_type": "code",
   "execution_count": null,
   "metadata": {
    "id": "JIB2hWAOBsxC",
    "label": "Q1b"
   },
   "outputs": [],
   "source": [
    "# Question 1 (b) \n",
    "# Replace \"None\" by False/True or 0/1 if you have found a solution\n",
    "x = None\n",
    "y = None"
   ]
  },
  {
   "cell_type": "markdown",
   "metadata": {
    "id": "T0ugEp4mBsxF"
   },
   "source": [
    "### Question 2\n",
    "\n",
    "**a)** Using `TruthTable`, construct the truth table for the logical circuit in the following diagram. \n",
    "\n",
    "**a)** Using the generated truth table or otherwise, is there an input (`False`/`True` values for \\\\(x\\\\), \\\\(y\\\\), and \\\\(z\\\\)) for which the output is `True` (i.e. 1 or on)? \n",
    " \n",
    " ![](https://kmurphy.github.io/notebooks/circ-simp.png)"
   ]
  },
  {
   "cell_type": "code",
   "execution_count": null,
   "metadata": {
    "id": "Lw2CtnfXBsxF",
    "label": "Q2a"
   },
   "outputs": [],
   "source": [
    "# Question 2 (a)\n",
    "# Run function TruthTable with expression representing above circuit \n"
   ]
  },
  {
   "cell_type": "code",
   "execution_count": null,
   "metadata": {
    "id": "4g84JL1XBsxH",
    "label": "Q2b"
   },
   "outputs": [],
   "source": [
    "# Question 2 (b) \n",
    "# Replace \"None\" by False/True or 0/1 if you have found an input set for which the output is True.\n",
    "x = None\n",
    "y = None\n",
    "z = None"
   ]
  },
  {
   "cell_type": "markdown",
   "metadata": {
    "id": "grpJY1IcBsxJ"
   },
   "source": [
    "### Question 3\n",
    "\n",
    "**a)** Using `TruthTable`, construct the truth table for the logical circuit in the following diagram. \n",
    "\n",
    "**a)** Using the generated truth table or otherwise, is there an input (`False`/`True` values for \\\\(A\\\\), \\\\(B\\\\), and \\\\(C\\\\)) for which the output is `True` (i.e. 1 or on)? \n",
    " \n",
    " ![](https://kmurphy.github.io/notebooks/logic_q3.png)"
   ]
  },
  {
   "cell_type": "code",
   "execution_count": null,
   "metadata": {
    "id": "wt3d8Jz0BsxJ",
    "label": "Q3a"
   },
   "outputs": [],
   "source": [
    "# Question 3 (a)\n",
    "# Run function TruthTable with expression representing above circuit \n"
   ]
  },
  {
   "cell_type": "code",
   "execution_count": null,
   "metadata": {
    "id": "ZQOeEU4GBsxL",
    "label": "Q3b"
   },
   "outputs": [],
   "source": [
    "# Question 3 (b) \n",
    "# Replace \"None\" by False/True or 0/1 if you have found a solution\n",
    "A = None\n",
    "B = None\n",
    "C = None"
   ]
  },
  {
   "cell_type": "markdown",
   "metadata": {
    "id": "SE6Av5EvBsxO"
   },
   "source": [
    "## Conditional Control Statements\n",
    "\n",
    "A fundamental feature of programming languages is to make decisions and to then run different code based on the outcomes of these decisions. In python the simplest control statement is the `if` statement and look like\n",
    "\n",
    "```python\n",
    "if condition:\n",
    "    code to run when CONDITION is True\n",
    "    code to run when CONDITION is True\n",
    "    code to run when CONDITION is True\n",
    "else:\n",
    "    code to run when CONDITION is False\n",
    "    code to run when CONDITION is False\n",
    "    code to run when CONDITION is False\n",
    "```\n",
    "**Notes**\n",
    "\n",
    " * Don't confuse the `if` statement with the logical `IfThen` \\\\((\\to\\\\)) operator.\n",
    "\n",
    " * **The colon and the indentation is critical in python** to specify a block of code statements, other languages such as java/processing use braces \"{}\"."
   ]
  },
  {
   "cell_type": "markdown",
   "metadata": {
    "id": "m7pUXmSuOnwQ"
   },
   "source": [
    "## IMPORTANT - Indenting in Python\n",
    "**The colon and the indentation is critical in python** to specify a block of code statements, other languages such as java/processing use braces \"{}\", others use `begin`/`end`.  The use of indenting instead of braces to indicate structure is a **big deal** and forces, you the programmer, to always type (with correct spacing to the left) your code correctly before executing it.  If your code is not aligned correctly you will get a indentation error like the following:\n",
    "\n",
    "**IndentationError:** expected an indented block\n",
    "\n",
    "To better understand why python uses indenting, read the following comment from [Guido van Rossum](https://gvanrossum.github.io) the inventer of python or google \"Why does python using indenting?\"\n",
    "\n",
    "> In order to separate blocks of code (like for loops, if blocks and function definitions) the compiler / interpreter needs something to tell it when a block ends. Curly braces and end statements are perfectly valid ways of providing this information for the compiler. For a human to be able to read the code indentation is a much better way of providing the visual cues about block structure. As indentation also contains all the information for the compiler, to use both would be redundant. As indentation is better for humans, it makes sense to use that for the compiler too. It has the advantage that Python programs tend to be uniformly and consistently indented, removing one hurdle to understanding other people's code. Python does not mandate how you indent (two spaces or four, tabs or spaces - but not both), just that you do it consistently. Those that get used to the Python way of doing things tend to start seeing curly braces as unnecessary line noise that clutters code. On the other hand, 'the whitespace thing' is possibly the single biggest reason why some developers refuse to even try Python."
   ]
  },
  {
   "cell_type": "markdown",
   "metadata": {
    "id": "ad4o0F6KBsxO"
   },
   "source": [
    "**Example**\n",
    "\n",
    "In the following cell\n",
    "\n",
    " * change the values of the integer \\\\(n\\\\) and rerun to see output.\n",
    " * What happens if \\\\(n\\\\) is set to a float? say n=2.5?\n",
    " * What happens if \\\\(n\\\\) is set to a string? say n=\"4\"?\n",
    "\n",
    "> Side Note: In Jul 2020, a programmer [Kat Maddox](https://twitter.com/ctrlshifti) tweeted (in jest) the following \n",
    "tweet <blockquote class=\"twitter-tweet\"><p lang=\"en\" dir=\"ltr\">God I wish there was an easier way to do this <a href=\"https://t.co/8UrBNKdTRW\">pic.twitter.com/8UrBNKdTRW</a></p>&mdash; Kat Maddox (@ctrlshifti) <a href=\"https://twitter.com/ctrlshifti/status/1288745146759000064?ref_src=twsrc%5Etfw\">July 30, 2020</a></blockquote> <script async src=\"https://platform.twitter.com/widgets.js\" charset=\"utf-8\"></script> Kay is well worth following, but at least have a look at the subsequent thread. "
   ]
  },
  {
   "cell_type": "code",
   "execution_count": null,
   "metadata": {
    "id": "FKIGRmyXBsxP"
   },
   "outputs": [],
   "source": [
    "n = 4\n",
    "\n",
    "if n % 2==0:\n",
    "    print (n, \"is an even integer\")\n",
    "else:\n",
    "    print (n, \"is an odd integer\")"
   ]
  },
  {
   "cell_type": "markdown",
   "metadata": {
    "id": "tSjla4f6BsxR"
   },
   "source": [
    "## Exercises"
   ]
  },
  {
   "cell_type": "markdown",
   "metadata": {
    "id": "V3it8WQ4BsxR"
   },
   "source": [
    "### Question 4\n",
    "\n",
    "In lecture room TL225 the projector setup is a bit weird. To get the projector to display the notes we need\n",
    "\n",
    " * both the computer and the projector turned on (obviously)\n",
    " * if the computer display mode is set to mirror both screen then the projector mode needs to be set to VGA input (i.e. not the default HDMI input).\n",
    " * if the computer display mode is set to extended screen mode (i.e. not mirror mode), then the projector mode needs to be set to the default HDMI input.\n",
    " \n",
    "If we use symbols\n",
    "\n",
    " * `c` stores `True` whenever computer is on\n",
    " * `p` stores `True` whenever projector is on\n",
    " * `m` stores `True` whenever dual display mirroring is on\n",
    " * `h` stores `True` whenever projector is set to default HDMI input is true.\n",
    "\n",
    "then the above situation can be expressed as a logical expression (note the parenthesis)\n",
    "$$\n",
    "    c \\land p \\land ((m \\land \\lnot h) \\lor (\\lnot m \\land h))\n",
    "$$\n",
    "\n",
    "Determine values for `c`, `p`, `m` and `h` in the following code to ensure that the given logical condition in the `if` statement is `True`.  (In orter words, determine any input that results in outputting the message `\"Hey we can have a maths lecture!\"`.\n"
   ]
  },
  {
   "cell_type": "code",
   "execution_count": null,
   "metadata": {
    "id": "l9LcvSH9BsxS",
    "label": "Q4"
   },
   "outputs": [],
   "source": [
    "# Question 4\n",
    "\n",
    "# you need to set c,p,m, and h to True/False so that the following if statement prints the desired output\n",
    "\n",
    "# symbols to modify\n",
    "c = False\n",
    "p = False\n",
    "m = False\n",
    "h = False\n",
    "\n",
    "if c and p and ((m and not h) or (not m and h)):\n",
    "    print (\"Hey we can have a maths lecture!\")\n",
    "else:\n",
    "    print (\"His writing is terrible, lets go for coffee instead\")"
   ]
  },
  {
   "cell_type": "markdown",
   "metadata": {
    "id": "M_JObdPwBsxU"
   },
   "source": [
    "### Question 5\n",
    "\n",
    "Construct a truth table for the condition in the previous example. "
   ]
  },
  {
   "cell_type": "code",
   "execution_count": null,
   "metadata": {
    "id": "cVx3ZtNVBsxU",
    "label": "Q5"
   },
   "outputs": [],
   "source": [
    "# Question 5\n"
   ]
  },
  {
   "cell_type": "markdown",
   "metadata": {
    "id": "W8JY_hYiBsxW"
   },
   "source": [
    "### Question 6\n",
    "\n",
    "Determine values for `p`, `q`, and `r` for which the condition in the `if` statement is `True`?\n",
    "\n",
    "Hint: Use a Truth Table"
   ]
  },
  {
   "cell_type": "code",
   "execution_count": null,
   "metadata": {
    "id": "OSqNioNRBsxW",
    "label": "Q6"
   },
   "outputs": [],
   "source": [
    "# Question 6\n",
    "\n",
    "# you need to set p,q,r, and t to True or False so that the following if statement prints the desired output\n",
    "p = True\n",
    "q = True\n",
    "r = True\n",
    "t = True\n",
    "\n",
    "if (p and q and not t) or (q and r and not t) or (r and t and not r):\n",
    "    print (\"Condition is True\")\n",
    "else:\n",
    "    print (\"No, condition is False\")"
   ]
  },
  {
   "cell_type": "code",
   "execution_count": null,
   "metadata": {
    "id": "8PtdWETnRbbx"
   },
   "outputs": [],
   "source": []
  },
  {
   "cell_type": "code",
   "execution_count": null,
   "metadata": {
    "id": "d4zmLsTLBsxX"
   },
   "outputs": [],
   "source": []
  },
  {
   "cell_type": "code",
   "execution_count": null,
   "metadata": {
    "id": "RVzRwXbnRc79"
   },
   "outputs": [],
   "source": []
  },
  {
   "cell_type": "markdown",
   "metadata": {
    "id": "gWSzVWKJRcp_"
   },
   "source": [
    "---\n",
    "## Review/Feedback (P02)\n"
   ]
  },
  {
   "cell_type": "code",
   "execution_count": null,
   "metadata": {
    "cellView": "form",
    "id": "hEqPUXxZRenE"
   },
   "outputs": [],
   "source": [
    "#@markdown This a a short questionnaire for you to provide feedback on how you think the semester is progressing and in particular for __Discrete Mathematics__, how easy/difficult, interesting/boring, useful/confusing you find the material. By completing the following you will help us improve our delivery.<br />Please enter your feedback and click on arrow at top-left to save. \n",
    "\n",
    "#@markdown **This practical**\n",
    "\n",
    "#@markdown How difficult did you find this practical?\n",
    "practical_difficulty = 'No opinion' #@param ['No opinion', \"Too easy', 'Easy', 'About right', 'Some bits were hard but overall it was doable', 'Too difficult', 'Impossible']\n",
    "\n",
    "#@markdown Including online session time, how long (in minutes) did it take for you to finish this practical?\n",
    "practical_duration = 0 #@param {type: \"number\"}\n",
    "\n",
    "#@markdown **This week's material**\n",
    "\n",
    "#@markdown How difficult did you find each of the following this week?\n",
    "lecture_difficulty = 'No opinion' #@param ['No opinion', \"Too easy', 'Easy', 'About right', 'Some bits were hard but overall it was doable', 'Too difficult', 'Impossible']\n",
    "\n",
    "tutorial_questions_difficulty = 'No opinion' #@param ['No opinion', \"Too easy', 'Easy', 'About right', 'Some bits were hard but overall it was doable', 'Too difficult', 'Impossible']\n",
    "\n",
    "#@markdown Use the line below to enter any comments &mdash; what you liked, what you did not like. Again all feedback is welcome.\n",
    "general_comment = \"\" #@param {type: \"string\"}\n"
   ]
  },
  {
   "cell_type": "code",
   "execution_count": null,
   "metadata": {
    "id": "6LeF7s2DRgMT"
   },
   "outputs": [],
   "source": []
  }
 ],
 "metadata": {
  "colab": {
   "collapsed_sections": [],
   "name": "DM_P02_-_Logic_2_-_Applications.ipynb",
   "provenance": []
  },
  "interpreter": {
   "hash": "ef8c922cda7b80eb8a1be821b38f862932cca369d712024223d5460c44797b0f"
  },
  "kernelspec": {
   "display_name": "Python 3",
   "language": "python",
   "name": "python3"
  },
  "language_info": {
   "codemirror_mode": {
    "name": "ipython",
    "version": 3
   },
   "file_extension": ".py",
   "mimetype": "text/x-python",
   "name": "python",
   "nbconvert_exporter": "python",
   "pygments_lexer": "ipython3",
   "version": "3.9.5"
  },
  "toc": {
   "toc_cell": false,
   "toc_number_sections": true,
   "toc_threshold": 6,
   "toc_window_display": false
  }
 },
 "nbformat": 4,
 "nbformat_minor": 4
}
