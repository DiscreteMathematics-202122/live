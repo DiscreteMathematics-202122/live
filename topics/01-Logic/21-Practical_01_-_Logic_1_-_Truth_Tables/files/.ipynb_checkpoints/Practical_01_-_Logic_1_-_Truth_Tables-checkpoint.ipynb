{
  "nbformat": 4,
  "nbformat_minor": 0,
  "metadata": {
    "kernelspec": {
      "display_name": "Python 3",
      "language": "python",
      "name": "python3"
    },
    "language_info": {
      "codemirror_mode": {
        "name": "ipython",
        "version": 3
      },
      "file_extension": ".py",
      "mimetype": "text/x-python",
      "name": "python",
      "nbconvert_exporter": "python",
      "pygments_lexer": "ipython3",
      "version": "3.6.5"
    },
    "toc": {
      "toc_cell": false,
      "toc_number_sections": true,
      "toc_threshold": 6,
      "toc_window_display": false
    },
    "colab": {
      "name": "DM_P01_-_Logic_1_-_Truth_Tables.ipynb",
      "provenance": [],
      "collapsed_sections": [],
      "toc_visible": true
    }
  },
  "cells": [
    {
      "cell_type": "markdown",
      "metadata": {
        "id": "a3fCQB52Vsr5"
      },
      "source": [
        "# Practical 01 - Logic 1 (Truth tables)"
      ]
    },
    {
      "cell_type": "markdown",
      "metadata": {
        "id": "MI7jDjgIVsr6"
      },
      "source": [
        "## Setup"
      ]
    },
    {
      "cell_type": "code",
      "metadata": {
        "id": "A_u9vZ6tV6ql",
        "cellView": "form"
      },
      "source": [
        "#@markdown **Please enter your following details and press Shift-Enter to save:**\n",
        "your_student_number = '' #@param {type: \"string\"}\n",
        "your_name = '' #@param {type: \"string\"}"
      ],
      "execution_count": 1,
      "outputs": []
    },
    {
      "cell_type": "code",
      "metadata": {
        "id": "wtgipwkAV-v9",
        "colab": {
          "base_uri": "https://localhost:8080/",
          "height": 51
        },
        "outputId": "d1bf4e77-1aac-44a8-a1dd-3493c4719fbc"
      },
      "source": [
        "# setup magic, do not edit this cell! Just press Shift+Enter or click on arrow at top-left\n",
        "\n",
        "import urllib.request\n",
        "content = urllib.request.urlretrieve (\"http://discretemathematics-202122.github.io/live/resources/setup_practical_magic.py\")\n",
        "exec(open(content[0]).read())\n",
        "setup_practical(locals())"
      ],
      "execution_count": 2,
      "outputs": [
        {
          "output_type": "stream",
          "name": "stdout",
          "text": [
            "Loading ... \n"
          ]
        },
        {
          "output_type": "display_data",
          "data": {
            "text/html": [
              "<script>alert('Make sure to specify your student ID and your name in the Setup section of this notebook.');</script>"
            ],
            "text/plain": [
              "<IPython.core.display.HTML object>"
            ]
          },
          "metadata": {}
        },
        {
          "output_type": "execute_result",
          "data": {
            "text/html": [
              "<style>\n",
              "\n",
              "\n",
              "\n",
              "/* counting headers and my styling */\n",
              "\n",
              ".navbar-collapse.collapse {\n",
              "display: block!important;\n",
              "}\n",
              "\n",
              ".navbar-nav>li, .navbar-nav {\n",
              "float: left !important;\n",
              "}\n",
              "\n",
              ".navbar-nav.navbar-right:last-child {\n",
              "margin-right: -15px !important;\n",
              "}\n",
              "\n",
              ".navbar-right {\n",
              "float: right!important;\n",
              "}\n",
              "\n",
              "#notebook_name {\n",
              "    font-weight: 600;\n",
              "}\n",
              "\n",
              "h1 {\n",
              "\ttext-align: center;\n",
              "\tbackground-color: rgba(0,255,1,0.15);\n",
              "\tborder-bottom: 1px solid #cccccc;\n",
              "\tcounter-reset: h2counter;\t\n",
              "}\n",
              "\n",
              "h2 {\n",
              "\ttext-align: center;\n",
              "\twidth: 75%;\n",
              "\tmargin-left: 25%;\n",
              "\tbackground-color: rgba(255,255,1,0.15);\n",
              "\tborder-bottom: 1px solid #cccccc;\n",
              "\tcounter-reset: h3counter;\t\n",
              "}\n",
              "h2:before {\n",
              "\tcounter-increment: h2counter;\n",
              "}\n",
              "\n",
              "h3 {\n",
              "\tborder-bottom: 1px solid #cccccc;\t\n",
              "}\n",
              "h3:before {\n",
              "\tcounter-increment: h3counter;\n",
              "}\n",
              "\n",
              "h4 {\n",
              "\tborder-bottom: 1px solid #cccccc;\t\n",
              "}\n",
              "h4:before {\n",
              "\tcounter-increment: h4counter;\n",
              "}\n",
              " </style>Python practical setup tools version 2021.1. See <a target=\"_blank\" href=\"http://DiscreteMathematics-202122.github.io/liv/\">DiscreteMathematics-202122.github.io/live</a>"
            ],
            "text/plain": [
              "<IPython.core.display.HTML object>"
            ]
          },
          "metadata": {},
          "execution_count": 2
        }
      ]
    },
    {
      "cell_type": "markdown",
      "metadata": {
        "id": "P9Ik45HRVssK"
      },
      "source": [
        "---\n",
        "## Introduction\n",
        "\n",
        "In this practical we will\n",
        " \n",
        "  * Demonstrate the Python implementation of the logical connectives that we covered in lectures,\n",
        "  * Use Python to build the (easy but boring and error-prone) truth tables.\n",
        "  * Use truth table to check expressions."
      ]
    },
    {
      "cell_type": "markdown",
      "metadata": {
        "id": "iM-VM_-Bdq-L"
      },
      "source": [
        "### Mathematics Concepts\n",
        "\n",
        " * Propositions\n",
        " * Fundamental logical connectives __not__, __and__, and __or__.\n",
        " * Satisfiability, tautologies and contradictions.\n",
        " * Logical equivalent expressions. \n"
      ]
    },
    {
      "cell_type": "markdown",
      "metadata": {
        "id": "1qGHTUHCVssL"
      },
      "source": [
        "### Python Concepts\n",
        "\n",
        " * Logical operators `not`, `and`, and `or`.\n",
        " * Command `TruthTable` to build a truth table of an expression.\n",
        "---\n",
        " "
      ]
    },
    {
      "cell_type": "markdown",
      "metadata": {
        "id": "zSmNMORPVssM"
      },
      "source": [
        "## Boolean Values and Expressions \n",
        "\n",
        "A Boolean value is either `True` or `False`. It is named after the British mathematician, [George Boole](https://en.wikipedia.org/wiki/George_Boole), who first formulated Boolean algebra &mdash; a set of  rules for reasoning about and combining `True`\\ `False` statements. This is the basis of all modern computer logic.\n",
        "\n",
        "In Python, the two Boolean values are __True__ and __False__ (Note: The capitalization must be exactly as shown. This differs from processing/java which both used lower case.), and the Python type is __bool__."
      ]
    },
    {
      "cell_type": "code",
      "metadata": {
        "id": "vhT4tMdCVssN",
        "colab": {
          "base_uri": "https://localhost:8080/"
        },
        "outputId": "89fdd872-29fd-49f5-999b-ccdae6d9e4ba"
      },
      "source": [
        "type(True)"
      ],
      "execution_count": 3,
      "outputs": [
        {
          "output_type": "execute_result",
          "data": {
            "text/plain": [
              "bool"
            ]
          },
          "metadata": {},
          "execution_count": 3
        }
      ]
    },
    {
      "cell_type": "code",
      "metadata": {
        "id": "_4Z4Kf9uVssQ",
        "colab": {
          "base_uri": "https://localhost:8080/"
        },
        "outputId": "544ce349-826e-4bfc-b057-d3e78292265b"
      },
      "source": [
        "type(False)"
      ],
      "execution_count": 4,
      "outputs": [
        {
          "output_type": "execute_result",
          "data": {
            "text/plain": [
              "bool"
            ]
          },
          "metadata": {},
          "execution_count": 4
        }
      ]
    },
    {
      "cell_type": "markdown",
      "metadata": {
        "id": "luybwjamVssT"
      },
      "source": [
        "In Python __False__ and __True__, map to __0__ and __1__ respectively."
      ]
    },
    {
      "cell_type": "code",
      "metadata": {
        "id": "2738tHwWVssT",
        "colab": {
          "base_uri": "https://localhost:8080/"
        },
        "outputId": "53ef6f13-48e2-4dd6-b7d5-0b0d0f2bc514"
      },
      "source": [
        "int(True)"
      ],
      "execution_count": 5,
      "outputs": [
        {
          "output_type": "execute_result",
          "data": {
            "text/plain": [
              "1"
            ]
          },
          "metadata": {},
          "execution_count": 5
        }
      ]
    },
    {
      "cell_type": "code",
      "metadata": {
        "id": "xF2e43TnexoG",
        "colab": {
          "base_uri": "https://localhost:8080/"
        },
        "outputId": "07457ab6-4834-4690-d5a4-e8ce0706cda0"
      },
      "source": [
        "int(False)"
      ],
      "execution_count": 6,
      "outputs": [
        {
          "output_type": "execute_result",
          "data": {
            "text/plain": [
              "0"
            ]
          },
          "metadata": {},
          "execution_count": 6
        }
      ]
    },
    {
      "cell_type": "markdown",
      "metadata": {
        "id": "expO9yRqfVi4"
      },
      "source": [
        "In arithmetic expressions involving `bool`s and and `int`s, the `bool`s are automatically converted to `int`. For example"
      ]
    },
    {
      "cell_type": "code",
      "metadata": {
        "id": "6mvGKuFaVssW",
        "colab": {
          "base_uri": "https://localhost:8080/"
        },
        "outputId": "9c103a5d-f0b7-4778-f0b0-74ddf545b98f"
      },
      "source": [
        "True + 1"
      ],
      "execution_count": 7,
      "outputs": [
        {
          "output_type": "execute_result",
          "data": {
            "text/plain": [
              "2"
            ]
          },
          "metadata": {},
          "execution_count": 7
        }
      ]
    },
    {
      "cell_type": "markdown",
      "metadata": {
        "id": "g4D8leSOVssY"
      },
      "source": [
        "A __Boolean expression__ is an expression that evaluates to produce a result which is a Boolean value. For example, the operator == tests if two values are equal. It produces (or yields) a Boolean value.\n",
        "\n",
        "Note \n",
        " \n",
        " * Unlike in mathematica where we use \"$=$\" for both assignment and testing in most programming languages we use two different symbols. In python (and in processing and in java) we use \n",
        "   * \"`='\" for assignment.\n",
        "   * \"`=='\" for testing for equality.\n",
        "   \n",
        " * Also we use \"`!=`\" for testing \"not equal to\"."
      ]
    },
    {
      "cell_type": "code",
      "metadata": {
        "id": "7JbwdfrOVssY",
        "colab": {
          "base_uri": "https://localhost:8080/"
        },
        "outputId": "69e94fb8-3c32-4384-b674-d22341c0b189"
      },
      "source": [
        "5 == (3 + 2)   # Is five equal 5 to the result of 3 + 2?"
      ],
      "execution_count": 8,
      "outputs": [
        {
          "output_type": "execute_result",
          "data": {
            "text/plain": [
              "True"
            ]
          },
          "metadata": {},
          "execution_count": 8
        }
      ]
    },
    {
      "cell_type": "code",
      "metadata": {
        "id": "JdIyGR-hVssa",
        "colab": {
          "base_uri": "https://localhost:8080/"
        },
        "outputId": "27b4e35d-fa43-4e48-9012-1cc761eaa77e"
      },
      "source": [
        "5 == 6"
      ],
      "execution_count": 9,
      "outputs": [
        {
          "output_type": "execute_result",
          "data": {
            "text/plain": [
              "False"
            ]
          },
          "metadata": {},
          "execution_count": 9
        }
      ]
    },
    {
      "cell_type": "code",
      "metadata": {
        "id": "CwnCDvEoVssc",
        "colab": {
          "base_uri": "https://localhost:8080/"
        },
        "outputId": "2c6d33ba-daf4-4b9f-be02-6a7dfb1a8b73"
      },
      "source": [
        "3 == \"3\"    # a number and a string containing a number are different"
      ],
      "execution_count": 10,
      "outputs": [
        {
          "output_type": "execute_result",
          "data": {
            "text/plain": [
              "False"
            ]
          },
          "metadata": {},
          "execution_count": 10
        }
      ]
    },
    {
      "cell_type": "markdown",
      "metadata": {
        "id": "0occ6bw1Vsse"
      },
      "source": [
        "## Logical Operators\n",
        "\n",
        "The logical connectives that we use in Mathmatics have corresponding operators in Python.  \n",
        "\n",
        "|Mathematics | Python| precedence |\n",
        "|------------|-------|------------|\n",
        "| $\\lnot$    |  not  | high       |\n",
        "| $\\land$    |  and  | medium     |\n",
        "| $\\lor$     |   or  | low        |\n",
        "\n",
        "These logical operators can be used to construct arbitrary complex logical expressions.  Note that the operators have different precedence  (similar to multiplication over addition).  \n",
        "\n",
        "**When in doubt use brackets !!**"
      ]
    },
    {
      "cell_type": "code",
      "metadata": {
        "id": "koO_LR_xVssf",
        "colab": {
          "base_uri": "https://localhost:8080/"
        },
        "outputId": "256d6e4b-084c-4b7d-f330-e6ef59815608"
      },
      "source": [
        "not not True"
      ],
      "execution_count": 11,
      "outputs": [
        {
          "output_type": "execute_result",
          "data": {
            "text/plain": [
              "True"
            ]
          },
          "metadata": {},
          "execution_count": 11
        }
      ]
    },
    {
      "cell_type": "markdown",
      "metadata": {
        "id": "gZ7y7X4-Vssh"
      },
      "source": [
        "### Logical Operator precedence "
      ]
    },
    {
      "cell_type": "code",
      "metadata": {
        "id": "8XhGikTAVssh",
        "colab": {
          "base_uri": "https://localhost:8080/"
        },
        "outputId": "c5cef94a-d3bc-433f-fddb-cd8a3bca109c"
      },
      "source": [
        "# which operator is computed first ?\n",
        "True or False and False"
      ],
      "execution_count": 12,
      "outputs": [
        {
          "output_type": "execute_result",
          "data": {
            "text/plain": [
              "True"
            ]
          },
          "metadata": {},
          "execution_count": 12
        }
      ]
    },
    {
      "cell_type": "code",
      "metadata": {
        "scrolled": false,
        "id": "7MmTJGHcVssj",
        "colab": {
          "base_uri": "https://localhost:8080/"
        },
        "outputId": "32f400d4-8293-4324-e2eb-baf9c2352d0b"
      },
      "source": [
        "# Applying the or operator first ...\n",
        "(True or False) and False"
      ],
      "execution_count": 13,
      "outputs": [
        {
          "output_type": "execute_result",
          "data": {
            "text/plain": [
              "False"
            ]
          },
          "metadata": {},
          "execution_count": 13
        }
      ]
    },
    {
      "cell_type": "code",
      "metadata": {
        "id": "Wxpm-WrpVssl",
        "colab": {
          "base_uri": "https://localhost:8080/"
        },
        "outputId": "41fb2309-e9ea-49c2-b05e-35ea4047aff2"
      },
      "source": [
        "# Applying the and operator first ...\n",
        "True or (False and False)"
      ],
      "execution_count": 14,
      "outputs": [
        {
          "output_type": "execute_result",
          "data": {
            "text/plain": [
              "True"
            ]
          },
          "metadata": {},
          "execution_count": 14
        }
      ]
    },
    {
      "cell_type": "markdown",
      "metadata": {
        "id": "VlSAGHbkVssm"
      },
      "source": [
        "## Truth Tables\n",
        "\n",
        "Later in this module we will use Python loops to build truth tables. In the meantime, we will use a helper function, __TruthTable__ to make life easier. You can use  \n",
        "\n",
        " * __TruthTable('expression')__ to build the truth table for __expression__\n",
        "\n",
        "    This function can be used to check if an expression is _satisfiable_, is a _tautology_ or is a _contradiction_.\n",
        " \n",
        " * __TruthTable(['expression 1', 'expression 2'])__ to build the truth table for __expression 1__ and __expression 2__\n",
        " * __TruthTable(['expression 1', 'expression 2', 'expression 3'])__ to build the truth table for __expression 1__, __expression 2__ and __expression 3__, etc.\n",
        "\n",
        "  \n",
        " This function can be used to check if logical expressions are equivalent.\n",
        " \n",
        " * Finaly if you append option __ints=True__ then the __0__/__1__ will be used for __False__/__True__.\n",
        " "
      ]
    },
    {
      "cell_type": "code",
      "metadata": {
        "id": "qnTq4q-oVssn",
        "colab": {
          "base_uri": "https://localhost:8080/",
          "height": 124
        },
        "outputId": "f7fce630-f435-46ff-d62c-8846b28eee84"
      },
      "source": [
        "TruthTable('not (not a or b)')"
      ],
      "execution_count": 15,
      "outputs": [
        {
          "output_type": "execute_result",
          "data": {
            "text/html": [
              "<table id=\"truthtable\">\n",
              "<thead><tr><th>a</th><th>b</th><th>not (not a or b)</th></tr></thead>\n",
              "<tbody>\n",
              "<tr><td>False</td><td>False</td><td>False</td></tr>\n",
              "<tr><td>False</td><td>True</td><td>False</td></tr>\n",
              "<tr><td>True</td><td>False</td><td>True</td></tr>\n",
              "<tr><td>True</td><td>True</td><td>False</td></tr>\n",
              "</tbody>\n",
              "</table>"
            ],
            "text/plain": [
              "<IPython.core.display.HTML object>"
            ]
          },
          "metadata": {},
          "execution_count": 15
        }
      ]
    },
    {
      "cell_type": "code",
      "metadata": {
        "id": "zBPyfZy8iBWi",
        "colab": {
          "base_uri": "https://localhost:8080/",
          "height": 124
        },
        "outputId": "c445ad30-2e46-47fb-8b42-cee1952974c7"
      },
      "source": [
        "TruthTable('not (not a or b)',  ints=True)"
      ],
      "execution_count": 16,
      "outputs": [
        {
          "output_type": "execute_result",
          "data": {
            "text/html": [
              "<table id=\"truthtable\">\n",
              "<thead><tr><th>a</th><th>b</th><th>not (not a or b)</th></tr></thead>\n",
              "<tbody>\n",
              "<tr><td>0</td><td>0</td><td>0</td></tr>\n",
              "<tr><td>0</td><td>1</td><td>0</td></tr>\n",
              "<tr><td>1</td><td>0</td><td>1</td></tr>\n",
              "<tr><td>1</td><td>1</td><td>0</td></tr>\n",
              "</tbody>\n",
              "</table>"
            ],
            "text/plain": [
              "<IPython.core.display.HTML object>"
            ]
          },
          "metadata": {},
          "execution_count": 16
        }
      ]
    },
    {
      "cell_type": "code",
      "metadata": {
        "id": "VTx2ZbLiVsso",
        "colab": {
          "base_uri": "https://localhost:8080/",
          "height": 124
        },
        "outputId": "680b7556-1810-484e-8eaf-2df0581d7447"
      },
      "source": [
        "TruthTable(['a or b', 'a and b'])"
      ],
      "execution_count": 17,
      "outputs": [
        {
          "output_type": "execute_result",
          "data": {
            "text/html": [
              "<table id=\"truthtable\">\n",
              "<thead><tr><th>a</th><th>b</th><th>a or b</th><th>a and b</th></tr></thead>\n",
              "<tbody>\n",
              "<tr><td>False</td><td>False</td><td>False</td><td>False</td></tr>\n",
              "<tr><td>False</td><td>True</td><td>True</td><td>False</td></tr>\n",
              "<tr><td>True</td><td>False</td><td>True</td><td>False</td></tr>\n",
              "<tr><td>True</td><td>True</td><td>True</td><td>True</td></tr>\n",
              "</tbody>\n",
              "</table>"
            ],
            "text/plain": [
              "<IPython.core.display.HTML object>"
            ]
          },
          "metadata": {},
          "execution_count": 17
        }
      ]
    },
    {
      "cell_type": "code",
      "metadata": {
        "id": "sM0TL4XAVssq",
        "colab": {
          "base_uri": "https://localhost:8080/",
          "height": 208
        },
        "outputId": "ceee4c02-7c48-4cdf-ebee-8d34f41386f1"
      },
      "source": [
        "TruthTable([\"(p or (p and q)) and (p or not r)\", \"p or (q and not r)\"])"
      ],
      "execution_count": 18,
      "outputs": [
        {
          "output_type": "execute_result",
          "data": {
            "text/html": [
              "<table id=\"truthtable\">\n",
              "<thead><tr><th>p</th><th>q</th><th>r</th><th>(p or (p and q)) and (p or not r)</th><th>p or (q and not r)</th></tr></thead>\n",
              "<tbody>\n",
              "<tr><td>False</td><td>False</td><td>False</td><td>False</td><td>False</td></tr>\n",
              "<tr><td>False</td><td>False</td><td>True</td><td>False</td><td>False</td></tr>\n",
              "<tr><td>False</td><td>True</td><td>False</td><td>False</td><td>True</td></tr>\n",
              "<tr><td>False</td><td>True</td><td>True</td><td>False</td><td>False</td></tr>\n",
              "<tr><td>True</td><td>False</td><td>False</td><td>True</td><td>True</td></tr>\n",
              "<tr><td>True</td><td>False</td><td>True</td><td>True</td><td>True</td></tr>\n",
              "<tr><td>True</td><td>True</td><td>False</td><td>True</td><td>True</td></tr>\n",
              "<tr><td>True</td><td>True</td><td>True</td><td>True</td><td>True</td></tr>\n",
              "</tbody>\n",
              "</table>"
            ],
            "text/plain": [
              "<IPython.core.display.HTML object>"
            ]
          },
          "metadata": {},
          "execution_count": 18
        }
      ]
    },
    {
      "cell_type": "markdown",
      "metadata": {
        "id": "LnPvfdtcVsss"
      },
      "source": [
        "## Exercises"
      ]
    },
    {
      "cell_type": "markdown",
      "metadata": {
        "id": "qAufX-9aVsss"
      },
      "source": [
        "### Question 1\n",
        "\n",
        "Construct the truth table for $p \\lor (\\lnot p \\land q)$"
      ]
    },
    {
      "cell_type": "markdown",
      "metadata": {
        "id": "_qab2u9eiIvJ"
      },
      "source": [
        ""
      ]
    },
    {
      "cell_type": "code",
      "metadata": {
        "id": "jS4mrDbiVsss"
      },
      "source": [
        "# Question 1\n"
      ],
      "execution_count": 19,
      "outputs": []
    },
    {
      "cell_type": "markdown",
      "metadata": {
        "id": "i_dxxrcYVssv"
      },
      "source": [
        "### Question 2\n",
        "\n",
        "Construct the truth table for $\\lnot p \\land (p\\to q)$\n",
        "\n",
        "Note that you will need to express the conditional operator in terms of __not__, __and__, and __or__. (see notes)"
      ]
    },
    {
      "cell_type": "code",
      "metadata": {
        "id": "U4IZ1k0EVssv"
      },
      "source": [
        "# Question 2\n"
      ],
      "execution_count": 20,
      "outputs": []
    },
    {
      "cell_type": "markdown",
      "metadata": {
        "id": "jZ5tqdbvVssw"
      },
      "source": [
        "### Question 3\n",
        "\n",
        " **a)** Construct the truth table for $(p \\land (\\lnot(\\lnot p \\lor q))) \\lor (p \\land q)$\n",
        " \n",
        " **b)** Is the expression in part **a)** logically equivalent to $p$ (Given reason) ?"
      ]
    },
    {
      "cell_type": "code",
      "metadata": {
        "id": "I0nZ2Bq6Vssx"
      },
      "source": [
        "# Question 3(a)\n"
      ],
      "execution_count": 21,
      "outputs": []
    },
    {
      "cell_type": "markdown",
      "metadata": {
        "id": "Yf98iHdCVssy"
      },
      "source": [
        "Question 3(b)\n",
        "\n",
        "This is a markdown cell (not a code cell), so just type answer here as normal text.\n",
        "\n"
      ]
    },
    {
      "cell_type": "markdown",
      "metadata": {
        "id": "0PKkopHuVssz"
      },
      "source": [
        "### Question 4\n",
        "\n",
        " **a)** Construct truth tables to determine whether the logical expressions \n",
        " \n",
        "$$\n",
        "     \\lnot(p \\lor q)\n",
        "     \\qquad\\text{and}\\qquad\n",
        "     (\\lnot p) \\land (\\lnot q)\n",
        " $$ are logically equivalent. \n",
        " \n",
        " **Hint:** They are and are called __De Morgan's laws__)"
      ]
    },
    {
      "cell_type": "code",
      "metadata": {
        "id": "-lscqe2LVssz"
      },
      "source": [
        "# Question 4\n"
      ],
      "execution_count": 22,
      "outputs": []
    },
    {
      "cell_type": "markdown",
      "metadata": {
        "id": "xhcWhb-9Vss1"
      },
      "source": [
        "### Question 5\n",
        "\n",
        "Construct the truth table for $p \\lor (\\lnot p \\land q) \\to (p \\land q)$.\n",
        "\n",
        "**Hint:** You need to replace the conditional operator with a logical equivalent expression in terms of given operators (see notes). "
      ]
    },
    {
      "cell_type": "code",
      "metadata": {
        "id": "l8ODgkOfVss1"
      },
      "source": [
        "# Question 5\n"
      ],
      "execution_count": 23,
      "outputs": []
    },
    {
      "cell_type": "code",
      "metadata": {
        "id": "a-MnzMBrgx_P"
      },
      "source": [
        ""
      ],
      "execution_count": 23,
      "outputs": []
    },
    {
      "cell_type": "code",
      "metadata": {
        "id": "uq-8Gsbngxxp"
      },
      "source": [
        ""
      ],
      "execution_count": 23,
      "outputs": []
    },
    {
      "cell_type": "code",
      "metadata": {
        "id": "cOzMdDivgxgz"
      },
      "source": [
        ""
      ],
      "execution_count": null,
      "outputs": []
    },
    {
      "cell_type": "code",
      "metadata": {
        "id": "VDXmNd35gyJn"
      },
      "source": [
        ""
      ],
      "execution_count": null,
      "outputs": []
    },
    {
      "cell_type": "markdown",
      "metadata": {
        "id": "eoKiLcregqSH"
      },
      "source": [
        "---\n",
        "## Review/Feedback (P01)\n"
      ]
    },
    {
      "cell_type": "code",
      "metadata": {
        "id": "n3_Ipe9Vgcmb",
        "cellView": "form"
      },
      "source": [
        "#@markdown This a a short questionnaire for you to provide feedback on how you think the semester is progressing and in particular for __Discrete Mathematics__, how easy/difficult, interesting/boring, useful/confusing you find the material. By completing the following you will help us improve our delivery.<br />Please enter your feedback and click on arrow at top-left to save. \n",
        "\n",
        "#@markdown **This practical**\n",
        "\n",
        "#@markdown How difficult did you find this practical?\n",
        "practical_difficulty = 'No opinion' #@param ['No opinion', \"Too easy', 'Easy', 'About right', 'Some bits were hard but overall it was doable', 'Too difficult', 'Impossible']\n",
        "\n",
        "#@markdown Including online session time, how long (in minutes) did it take for you to finish this practical?\n",
        "practical_duration = 0 #@param {type: \"number\"}\n",
        "\n",
        "#@markdown **This week's material**\n",
        "\n",
        "#@markdown How difficult did you find each of the following this week _(0=too easy 3=easy, 5=just right, 7=a bit difficult, 10=impossible)_?\n",
        "lecture_difficulty = 0  #@param {type: \"slider\", min: 0, max: 10}\n",
        "tutorial_questions_difficulty = 0  #@param {type: \"slider\", min: 0, max: 10}\n",
        "\n",
        "#@markdown Use the line below to enter any comments &mdash; what you liked, what you did not like. Again all feedback is welcome.\n",
        "general_comment = \"\" #@param {type: \"string\"}\n"
      ],
      "execution_count": 25,
      "outputs": []
    },
    {
      "cell_type": "code",
      "metadata": {
        "id": "6qjrUx16gdMA"
      },
      "source": [
        ""
      ],
      "execution_count": null,
      "outputs": []
    }
  ]
}