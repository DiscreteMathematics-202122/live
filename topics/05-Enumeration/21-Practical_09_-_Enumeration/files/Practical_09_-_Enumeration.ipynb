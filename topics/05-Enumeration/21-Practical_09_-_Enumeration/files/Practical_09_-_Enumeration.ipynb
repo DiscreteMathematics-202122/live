{
 "cells": [
  {
   "cell_type": "markdown",
   "metadata": {
    "label": "title"
   },
   "source": [
    "# Practical 09 - Enumeration"
   ]
  },
  {
   "cell_type": "markdown",
   "metadata": {
    "label": "setup"
   },
   "source": [
    "## Setup"
   ]
  },
  {
   "cell_type": "code",
   "execution_count": 1,
   "metadata": {
    "label": "bio"
   },
   "outputs": [],
   "source": [
    "# specify your student id and your name, then press Shift+Enter\n",
    "\n",
    "student_id = 'W00000000'\n",
    "student_name = 'Firstname Surname'"
   ]
  },
  {
   "cell_type": "code",
   "execution_count": 2,
   "metadata": {
    "label": "setup"
   },
   "outputs": [
    {
     "data": {
      "text/html": [
       "<script>alert('Make sure to specify your student ID and your name in the Setup section of this notebook.');</script>"
      ],
      "text/plain": [
       "<IPython.core.display.HTML object>"
      ]
     },
     "metadata": {},
     "output_type": "display_data"
    },
    {
     "data": {
      "text/html": [
       "<style>\n",
       "\n",
       "\n",
       "\n",
       "/* counting headers and my styling */\n",
       "\n",
       ".navbar-collapse.collapse {\n",
       "display: block!important;\n",
       "}\n",
       "\n",
       ".navbar-nav>li, .navbar-nav {\n",
       "float: left !important;\n",
       "}\n",
       "\n",
       ".navbar-nav.navbar-right:last-child {\n",
       "margin-right: -15px !important;\n",
       "}\n",
       "\n",
       ".navbar-right {\n",
       "float: right!important;\n",
       "}\n",
       "\n",
       "#notebook_name {\n",
       "    font-weight: 600;\n",
       "}\n",
       "\n",
       "h1 {\n",
       "\ttext-align: center;\n",
       "\tbackground-color: rgba(0,255,1,0.15);\n",
       "\tborder-bottom: 1px solid #cccccc;\n",
       "\tcounter-reset: h2counter;\t\n",
       "}\n",
       "\n",
       "h2 {\n",
       "\ttext-align: center;\n",
       "\twidth: 75%;\n",
       "\tmargin-left: 25%;\n",
       "\tbackground-color: rgba(255,255,1,0.15);\n",
       "\tborder-bottom: 1px solid #cccccc;\n",
       "\tcounter-reset: h3counter;\t\n",
       "}\n",
       "h2:before {\n",
       "\tcounter-increment: h2counter;\n",
       "}\n",
       "\n",
       "h3 {\n",
       "\tborder-bottom: 1px solid #cccccc;\t\n",
       "}\n",
       "h3:before {\n",
       "\tcounter-increment: h3counter;\n",
       "}\n",
       "\n",
       "h4 {\n",
       "\tborder-bottom: 1px solid #cccccc;\t\n",
       "}\n",
       "h4:before {\n",
       "\tcounter-increment: h4counter;\n",
       "}\n",
       " </style>Python practical setup tools version 0.2. See <a target=\"_blank\" href=\"http://kmurphy.bitbucket.io/modules/Discrete_Mathematics/topics/00-Module_Introduction/33-Python_Practicals\">kmurphy.bitbucket.io/modules/Discrete_mathematics</a>"
      ],
      "text/plain": [
       "<IPython.core.display.HTML object>"
      ]
     },
     "execution_count": 2,
     "metadata": {},
     "output_type": "execute_result"
    }
   ],
   "source": [
    "# setup magic, do not edit this! Just press Shift+Enter\n",
    "\n",
    "%matplotlib inline\n",
    "import urllib.request\n",
    "\n",
    "try:\n",
    "    content = urllib.request.urlretrieve (\"http://kmurphy.bitbucket.io/modules/Discrete_Mathematics/files/setup_practical_magic.py\")\n",
    "    exec(open(content[0]).read())\n",
    "except:\n",
    "    from setup_practical_magic import *\n",
    "setup_practical(locals())"
   ]
  },
  {
   "cell_type": "markdown",
   "metadata": {
    "label": "Introduction"
   },
   "source": [
    "## Introduction"
   ]
  },
  {
   "cell_type": "markdown",
   "metadata": {},
   "source": [
    "In this practical we will\n",
    " \n",
    "  * Review enumeration concepts using python\n",
    "  \n",
    "\n",
    "### Mathematics Concepts\n",
    "\n",
    " * Defining own factorial and binomial coefficient functions.\n",
    "\n",
    "\n",
    "### Python Syntax/Modules/Commands\n",
    "\n",
    " * Enumeration module __itertools__\n",
    " * Iteration vs Recursion\n",
    "\n"
   ]
  },
  {
   "cell_type": "markdown",
   "metadata": {},
   "source": [
    "## Factorial Function - Iterative vs Recursive"
   ]
  },
  {
   "cell_type": "markdown",
   "metadata": {},
   "source": [
    "**Question 1**\n",
    "\n",
    "Implement __MyFactorialIterative__ function, an iterative implementation of the factorial funciton, in python, and test how fast it is by typing \n",
    "\n",
    "    %timeit MyFactorialIterative(100)"
   ]
  },
  {
   "cell_type": "code",
   "execution_count": 3,
   "metadata": {
    "label": "Q1"
   },
   "outputs": [
    {
     "name": "stdout",
     "output_type": "stream",
     "text": [
      "MyFactorialIterative(1) = None \n",
      "MyFactorialIterative(2) = None \n",
      "MyFactorialIterative(3) = None \n",
      "MyFactorialIterative(5) = None \n",
      "81.8 ns ± 3.86 ns per loop (mean ± std. dev. of 7 runs, 10000000 loops each)\n"
     ]
    }
   ],
   "source": [
    "# Question 1 \n",
    "\n",
    "# define function\n",
    "def MyFactorialIterative(n):\n",
    "    pass\n",
    "\n",
    "# test code\n",
    "for n in [1,2,3,5]:\n",
    "    print (\"MyFactorialIterative(%s) = %s \" % (n,MyFactorialIterative(n)))\n",
    "  \n",
    "# timing code\n",
    "%timeit MyFactorialIterative(100)"
   ]
  },
  {
   "cell_type": "markdown",
   "metadata": {},
   "source": [
    "**Question 2**\n",
    "\n",
    "Implement __MyFactorialRecursive__ function, a recursive implementation of the factorial funciton, in python, and test how fast it is by typing \n",
    "\n",
    "    %timeit MyFactorialRecursive(100)"
   ]
  },
  {
   "cell_type": "code",
   "execution_count": 4,
   "metadata": {
    "label": "Q2"
   },
   "outputs": [],
   "source": [
    "# Question 2 \n"
   ]
  },
  {
   "cell_type": "markdown",
   "metadata": {},
   "source": [
    "## Binomail Coefficient Function - Iterative vs Recursive"
   ]
  },
  {
   "cell_type": "markdown",
   "metadata": {},
   "source": [
    "**Question 3**\n",
    "\n",
    "Implement __MyBinomIterative__ function, an iterative implementation of the binomial coefficient funciton, in python, and test how fast it is by typing \n",
    "\n",
    "    %timeit MyBinomIterative(20,15)"
   ]
  },
  {
   "cell_type": "code",
   "execution_count": 5,
   "metadata": {
    "label": "Q3"
   },
   "outputs": [],
   "source": [
    "# Question 3 \n"
   ]
  },
  {
   "cell_type": "markdown",
   "metadata": {},
   "source": [
    "**Question 4**\n",
    "\n",
    "Implement __MyBinomRecursive__ function, a recursive implementation of the binomial coefficient funciton, in python, and test how fast it is by typing \n",
    "\n",
    "    %timeit MyBinomRecursive(20,15)"
   ]
  },
  {
   "cell_type": "code",
   "execution_count": 6,
   "metadata": {
    "label": "Q4"
   },
   "outputs": [],
   "source": [
    "# Question 4 \n"
   ]
  },
  {
   "cell_type": "markdown",
   "metadata": {},
   "source": [
    "**Question 5**\n",
    "\n",
    "Change the number(s) in the calls to your factorial and binomial functions to see its effect on the computational effort.   Write a brief note explaining the observed timings in Question 1 to Question 4."
   ]
  },
  {
   "cell_type": "markdown",
   "metadata": {
    "label": "Q5"
   },
   "source": [
    " * Write your comments here (using markdown)\n",
    " * Another comment ...\n",
    "\n"
   ]
  },
  {
   "cell_type": "markdown",
   "metadata": {},
   "source": [
    "## Enumeration\n",
    "\n",
    "The python module __itertools__ has functions to support the generation of permutations and combinations.\n",
    "\n",
    "First import the module (and give it a nickname so simplify use later)\n",
    "\n",
    "    import itertools as its\n",
    "\n",
    "Now all functions in __itertool__ can be accessed, for example, generate all permutations of the letters in the string \"Hi World\" you type.\n",
    "\n",
    "    ans = its.permutations(\"Hi World\")\n",
    "\n",
    "*Note: __ans__ is a generator, and is not a __list__ or a __set__. So to determine length we need to convert it to a __list__ or a __set__.*"
   ]
  },
  {
   "cell_type": "markdown",
   "metadata": {},
   "source": [
    "**Question 6**\n",
    "\n",
    "Write code to determine the number of distinct permutations of the letters in __\"Hi World\"__. You should treat upper and lower case letter as distinct."
   ]
  },
  {
   "cell_type": "code",
   "execution_count": 7,
   "metadata": {
    "label": "Q6"
   },
   "outputs": [],
   "source": [
    "# Question 6\n"
   ]
  },
  {
   "cell_type": "markdown",
   "metadata": {},
   "source": [
    "**Question 7**\n",
    "\n",
    "Write code to determine the number of distinct permutations of the letters in __\"Hi World\"__, where the first and last letter is an upper case letter.  You should treat upper and lower case letter as distinct."
   ]
  },
  {
   "cell_type": "code",
   "execution_count": 8,
   "metadata": {
    "label": "Q7"
   },
   "outputs": [],
   "source": [
    "# Question 7\n"
   ]
  },
  {
   "cell_type": "markdown",
   "metadata": {},
   "source": [
    "### Dealing with Duplicates\n",
    "\n",
    "The next question is identical to **Question 6** but the string now has duplicate characters, so we now need to worry about duplicates.  If the original string has duplicate characters then the generated permutations will contain duplicates. In this case convert permutations to a __set__ before you do things like get its length.\n",
    "\n",
    "*Note:  What is the difference between converting the original string to a set before generating the permutations versus converting the generated permutations to a set?*"
   ]
  },
  {
   "cell_type": "markdown",
   "metadata": {},
   "source": [
    "**Question 8**\n",
    "\n",
    "Write code to determine the number of distinct permutations of the letters in __\"Hello World\"__. You should treat upper and lower case letter as distinct."
   ]
  },
  {
   "cell_type": "code",
   "execution_count": 9,
   "metadata": {
    "label": "Q8"
   },
   "outputs": [],
   "source": [
    "# Question 8\n"
   ]
  },
  {
   "cell_type": "markdown",
   "metadata": {},
   "source": [
    "### Taking only some of the objects\n",
    "\n",
    "\n",
    "If you want permutations of only some of the objects (letter) you specify the second parameter. For example \n",
    "\n",
    "    ans = its.permutations(\"M is Easy\")\n",
    "\n",
    "generates permutations of \"M is Easy\" taking ALL letters, while \n",
    "\n",
    "    ans = its.permutations(\"M is Easy\", 2)\n",
    "\n",
    "generates permutations of letters in \"M is Easy\" taking 2 letter at a time. And to convert this to a list of lists we use \n",
    "\n",
    "    list(ans)\n",
    "   \n",
    "or\n",
    "\n",
    "    [it for it in ans]\n",
    "\n",
    "And to convert back to a lsit of \"words\" we use \n",
    "\n",
    "    [\"\".join(it) for it in ans]\n",
    "\n",
    "\n"
   ]
  },
  {
   "cell_type": "markdown",
   "metadata": {},
   "source": [
    "**Question 9**\n",
    "\n",
    "Write code to determine the number of distinct permutations of the letters in __\"Discrete Maths is Easy\"__, taking 5 letters at a time. You should treat upper and lower case letters as distinct. \n",
    "\n"
   ]
  },
  {
   "cell_type": "code",
   "execution_count": 10,
   "metadata": {
    "label": "Q9"
   },
   "outputs": [],
   "source": [
    "# Question 9 \n"
   ]
  },
  {
   "cell_type": "markdown",
   "metadata": {},
   "source": [
    "### Optional Questions"
   ]
  },
  {
   "cell_type": "markdown",
   "metadata": {},
   "source": [
    "**Question 10**\n",
    "\n",
    "Write code to determine the number of distinct permutations of the letters in __\"Discrete Maths is Easy\"__, taking 5 letter at a time. where the string is broken into three \"words\".  You should treat upper and lower case letters as distinct. A word is any sequence of letters. An uppercase letter can appear in the middle of a word."
   ]
  },
  {
   "cell_type": "code",
   "execution_count": 11,
   "metadata": {
    "label": "Q10"
   },
   "outputs": [],
   "source": [
    "# Question 10\n"
   ]
  },
  {
   "cell_type": "code",
   "execution_count": null,
   "metadata": {},
   "outputs": [],
   "source": []
  }
 ],
 "metadata": {
  "kernelspec": {
   "display_name": "Python 3",
   "language": "python",
   "name": "python3"
  },
  "language_info": {
   "codemirror_mode": {
    "name": "ipython",
    "version": 3
   },
   "file_extension": ".py",
   "mimetype": "text/x-python",
   "name": "python",
   "nbconvert_exporter": "python",
   "pygments_lexer": "ipython3",
   "version": "3.6.5"
  },
  "toc": {
   "toc_cell": false,
   "toc_number_sections": true,
   "toc_threshold": 6,
   "toc_window_display": false
  }
 },
 "nbformat": 4,
 "nbformat_minor": 2
}
