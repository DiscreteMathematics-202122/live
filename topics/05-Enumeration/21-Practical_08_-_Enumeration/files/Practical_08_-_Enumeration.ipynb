{
 "cells": [
  {
   "cell_type": "markdown",
   "metadata": {
    "id": "Dajafvz5obcM",
    "label": "title"
   },
   "source": [
    "# Practical 8 &mdash; Enumeration"
   ]
  },
  {
   "cell_type": "markdown",
   "metadata": {
    "id": "dGUHvpDUobcN",
    "label": "setup"
   },
   "source": [
    "## Setup"
   ]
  },
  {
   "cell_type": "code",
   "execution_count": null,
   "metadata": {
    "cellView": "form",
    "execution": {
     "iopub.execute_input": "2020-12-09T15:42:29.982255Z",
     "iopub.status.busy": "2020-12-09T15:42:29.981490Z",
     "iopub.status.idle": "2020-12-09T15:42:29.983917Z",
     "shell.execute_reply": "2020-12-09T15:42:29.984737Z"
    },
    "id": "CXsnfskuobcN",
    "label": "bio"
   },
   "outputs": [],
   "source": [
    "#@markdown **Please enter your following details and press Shift-Enter to save:**\n",
    "your_student_number = '' #@param {type: \"string\"}\n",
    "your_name = '' #@param {type: \"string\"}"
   ]
  },
  {
   "cell_type": "code",
   "execution_count": null,
   "metadata": {
    "execution": {
     "iopub.execute_input": "2020-12-09T15:42:29.993133Z",
     "iopub.status.busy": "2020-12-09T15:42:29.991762Z",
     "iopub.status.idle": "2020-12-09T15:42:33.917889Z",
     "shell.execute_reply": "2020-12-09T15:42:33.917207Z"
    },
    "id": "gI-1sOMPobcN",
    "label": "setup"
   },
   "outputs": [],
   "source": [
    "# setup magic, do not edit this cell! Just press Shift+Enter or click on arrow at top-left\n",
    "\n",
    "import urllib.request\n",
    "content = urllib.request.urlretrieve (\"http://discretemathematics-202122.github.io/live/resources/setup_practical_magic.py\")\n",
    "exec(open(content[0]).read())\n",
    "setup_practical(locals())"
   ]
  },
  {
   "cell_type": "markdown",
   "metadata": {
    "id": "gIumxI6cobcN",
    "label": "Introduction"
   },
   "source": [
    "---\n",
    "## Introduction\n",
    "\n",
    "In this practical we will review enumeration concepts using python."
   ]
  },
  {
   "cell_type": "markdown",
   "metadata": {
    "id": "33Q2c3APobcN"
   },
   "source": [
    "### Mathematics Concepts\n",
    "\n",
    " * Definition of factorial and binomial coefficient functions."
   ]
  },
  {
   "cell_type": "markdown",
   "metadata": {
    "id": "0vNLy3ZBobcO"
   },
   "source": [
    "### Python Concepts\n",
    "\n",
    " * Enumeration module `itertools`\n",
    " * Iteration vs Recursion implementation of functions.\n",
    " * Timing execution of functions.\n",
    " * __From Practical 09:__ assertions and testing of function implementations."
   ]
  },
  {
   "cell_type": "markdown",
   "metadata": {
    "id": "gE6P3C-VobcO"
   },
   "source": [
    "---\n",
    "## Factorial Function - Iterative vs Recursive\n",
    "\n",
    "From your notes you have two definitions of the factorial function, you should review these before starting."
   ]
  },
  {
   "cell_type": "markdown",
   "metadata": {
    "id": "t1PZ9jnUobcO"
   },
   "source": [
    "### Question 1\n",
    "\n",
    "Implement `MyFactorialIterative` function, an iterative implementation of the factorial function. \n",
    "\n",
    "The outline of the function with an assertion to check input and some test cases are given to help you get started.  We covered assertions and testing function output during last week's practical.\n",
    "\n",
    "When you are happy that the implementation is correct, check how fast it is by typing in a new cell.\n",
    "\n",
    "    %timeit MyFactorialIterative(100)\n"
   ]
  },
  {
   "cell_type": "code",
   "execution_count": null,
   "metadata": {
    "execution": {
     "iopub.execute_input": "2020-12-09T15:42:33.924541Z",
     "iopub.status.busy": "2020-12-09T15:42:33.923827Z",
     "iopub.status.idle": "2020-12-09T15:42:33.927425Z",
     "shell.execute_reply": "2020-12-09T15:42:33.926792Z"
    },
    "id": "atuZEJKEobcO",
    "label": "Q0"
   },
   "outputs": [],
   "source": [
    "# Question 1\n",
    "\n",
    "# define function \n",
    "def MyFactorialIterative(n):\n",
    "    \n",
    "    assert type(n)==int and n>=0, f\"Hey, input value ({n}) should be a non-negative integer!\"\n",
    "    \n",
    "    # TODO implement function here\n",
    "\n",
    "\n",
    "# test our function - want Match=True for all examples \n",
    "for input, expected in [ [0,1], [1,1], [4,24], [5,120] ]:\n",
    "    output = MyFactorialIterative(input)\n",
    "    print(f\"input = {input}\\t output = {output}\\t expected = {expected}\\t Match = {output==expected}\")"
   ]
  },
  {
   "cell_type": "code",
   "execution_count": null,
   "metadata": {
    "execution": {
     "iopub.execute_input": "2020-12-09T15:42:33.931071Z",
     "iopub.status.busy": "2020-12-09T15:42:33.930489Z",
     "iopub.status.idle": "2020-12-09T15:42:33.933175Z",
     "shell.execute_reply": "2020-12-09T15:42:33.932572Z"
    }
   },
   "outputs": [],
   "source": [
    "# check execution time\n"
   ]
  },
  {
   "cell_type": "markdown",
   "metadata": {
    "id": "dRvaBCsLobcO"
   },
   "source": [
    "### Question 2\n",
    "\n",
    "Implement `MyFactorialRecursive` function, a recursive implementation of the factorial function. \n",
    "\n",
    "Your implementation should also include an assertion to check input and some test cases (Hint: copy code from question 1 &mdash; good programmers are lazy ... just like lazy programming languages (see [Lazy is Good](https://www.futurelearn.com/info/courses/functional-programming-haskell/0/steps/27236))).\n",
    "\n",
    "When you are happy that the implementation is correct, check how fast it is by typing in a new cell.\n",
    "\n",
    "    %timeit MyFactorialRecursive(100)"
   ]
  },
  {
   "cell_type": "code",
   "execution_count": null,
   "metadata": {
    "execution": {
     "iopub.execute_input": "2020-12-09T15:42:33.936502Z",
     "iopub.status.busy": "2020-12-09T15:42:33.935927Z",
     "iopub.status.idle": "2020-12-09T15:42:33.938721Z",
     "shell.execute_reply": "2020-12-09T15:42:33.938130Z"
    }
   },
   "outputs": [],
   "source": [
    "# Question 2\n"
   ]
  },
  {
   "cell_type": "code",
   "execution_count": null,
   "metadata": {
    "execution": {
     "iopub.execute_input": "2020-12-09T15:42:33.942038Z",
     "iopub.status.busy": "2020-12-09T15:42:33.941359Z",
     "iopub.status.idle": "2020-12-09T15:42:33.943824Z",
     "shell.execute_reply": "2020-12-09T15:42:33.943261Z"
    }
   },
   "outputs": [],
   "source": [
    "# check execution time\n"
   ]
  },
  {
   "cell_type": "markdown",
   "metadata": {},
   "source": [
    "---\n",
    "## Binomial Coefficient Function - Iterative vs Recursive\n",
    "\n",
    "Again, before you start, review your notes on the binomial coefficient function."
   ]
  },
  {
   "cell_type": "markdown",
   "metadata": {
    "id": "5shfOgLsobcO"
   },
   "source": [
    "### Question 3\n",
    "\n",
    "Implement `MyBinomIterative` function, an iterative implementation of the binomial coefficient function.\n",
    "\n",
    "Your implementation should also include an assertion to check input and some test cases. \n",
    "\n",
    "When you are happy that the implementation is correct, check how fast it is by typing in a new cell.\n",
    "\n",
    "    %timeit MyBinomIterative(10,7)"
   ]
  },
  {
   "cell_type": "code",
   "execution_count": null,
   "metadata": {
    "execution": {
     "iopub.execute_input": "2020-12-09T15:42:33.947050Z",
     "iopub.status.busy": "2020-12-09T15:42:33.946514Z",
     "iopub.status.idle": "2020-12-09T15:42:33.949049Z",
     "shell.execute_reply": "2020-12-09T15:42:33.948507Z"
    },
    "id": "zaGBqPjPobcO"
   },
   "outputs": [],
   "source": [
    "# Question 3\n"
   ]
  },
  {
   "cell_type": "code",
   "execution_count": null,
   "metadata": {
    "execution": {
     "iopub.execute_input": "2020-12-09T15:42:33.952167Z",
     "iopub.status.busy": "2020-12-09T15:42:33.951642Z",
     "iopub.status.idle": "2020-12-09T15:42:33.953969Z",
     "shell.execute_reply": "2020-12-09T15:42:33.953448Z"
    }
   },
   "outputs": [],
   "source": [
    "# check execution time\n"
   ]
  },
  {
   "cell_type": "markdown",
   "metadata": {
    "id": "5shfOgLsobcO"
   },
   "source": [
    "### Question 4\n",
    "\n",
    "Implement `MyBinomRecursive` function, an recursive implementation of the binomial coefficient function.\n",
    "\n",
    "Your implementation should also include an assertion to check input and some test cases. \n",
    "\n",
    "When you are happy that the implementation is correct, check how fast it is by typing in a new cell.\n",
    "\n",
    "    %timeit MyBinomRecursive(10,7)"
   ]
  },
  {
   "cell_type": "code",
   "execution_count": null,
   "metadata": {
    "execution": {
     "iopub.execute_input": "2020-12-09T15:42:33.957006Z",
     "iopub.status.busy": "2020-12-09T15:42:33.956492Z",
     "iopub.status.idle": "2020-12-09T15:42:33.958868Z",
     "shell.execute_reply": "2020-12-09T15:42:33.958350Z"
    },
    "id": "zaGBqPjPobcO"
   },
   "outputs": [],
   "source": [
    "# Question 4\n"
   ]
  },
  {
   "cell_type": "code",
   "execution_count": null,
   "metadata": {
    "execution": {
     "iopub.execute_input": "2020-12-09T15:42:33.961793Z",
     "iopub.status.busy": "2020-12-09T15:42:33.961270Z",
     "iopub.status.idle": "2020-12-09T15:42:33.963754Z",
     "shell.execute_reply": "2020-12-09T15:42:33.963203Z"
    }
   },
   "outputs": [],
   "source": [
    "# check execution time\n"
   ]
  },
  {
   "cell_type": "markdown",
   "metadata": {},
   "source": [
    "### Question 5\n",
    "\n",
    "Change the inputs ($n$ for factorials, and $n$ and $k$ for binomials) in the calls to the four functions implemented above, to see the impact on the computational effort/time. Write a brief note explaining the observed timings in Question 1 to Question 4. \n",
    "\n",
    "For example, with the factorial implementations:\n",
    "\n",
    " * What happens to the execution time for `MyFactorialIterative` if we double the input $n$?\n",
    " * What happens to the execution time for `MyFactorialRecursive` if we double the input $n$?\n",
    "\n",
    "With the binomial coefficient implementations:\n",
    " \n",
    " * What happens to the execution time for `MyBinomIterative` if we double the input $n$? or double the input $k$?\n",
    " * What happens to the execution time for `MyBinomRecursive` if we double the input $n$? or double the input $k$?\n",
    " * Which input parameter, $n$ or $k$, has the bigger impact on the execution time?\n"
   ]
  },
  {
   "cell_type": "markdown",
   "metadata": {},
   "source": [
    "**Question 5 Answer**\n",
    "\n",
    "\n"
   ]
  },
  {
   "cell_type": "markdown",
   "metadata": {
    "id": "HL31e30KobcO"
   },
   "source": [
    "---\n",
    "## Enumeration\n",
    "\n",
    "The python module `itertools` has functions to support the generation of permutations and combinations.\n",
    "\n",
    "First import the module (and give it a nickname to simplify using it later)\n",
    "\n",
    "~~~python\n",
    "import itertools as its\n",
    "~~~\n",
    "\n",
    "Now all functions in `itertools` can be accessed, for example, generate all permutations of the letters in the string \"NOon\" you type.\n",
    "\n",
    "~~~python\n",
    "ans = its.permutations(\"NOon\")\n",
    "~~~\n",
    "*Note: `ans` is a `generator`, and is not a `list` or a `set`. So to determine length we need to convert it to a `list` or a `set` (if we are interested in number of unique permutations).*\n",
    "\n",
    "So to convert this to a list of lists we use \n",
    "\n",
    "~~~python\n",
    "list(ans)\n",
    "~~~   \n",
    "or\n",
    "~~~python\n",
    "[it for it in ans]\n",
    "~~~\n",
    "And to convert back to a list of \"words\" we use the string method `join` as in\n",
    "\n",
    "~~~python\n",
    "[\"\".join(it) for it in ans]\n",
    "~~~"
   ]
  },
  {
   "cell_type": "markdown",
   "metadata": {
    "id": "miGSbNwvobcO"
   },
   "source": [
    "### Question 6\n",
    "\n",
    "Write code to generate the permutations of the letters in __\"forbid\"__. Then:\n",
    "\n",
    " * Output the number of distinct permutations. \n",
    " * Output the distinct permutations.\n",
    " \n",
    "Hint: use the string method `join` to convert each permutation into a string.\n"
   ]
  },
  {
   "cell_type": "code",
   "execution_count": null,
   "metadata": {
    "execution": {
     "iopub.execute_input": "2020-12-09T15:42:33.966926Z",
     "iopub.status.busy": "2020-12-09T15:42:33.966394Z",
     "iopub.status.idle": "2020-12-09T15:42:33.968845Z",
     "shell.execute_reply": "2020-12-09T15:42:33.968311Z"
    }
   },
   "outputs": [],
   "source": [
    "# Question 6\n"
   ]
  },
  {
   "cell_type": "markdown",
   "metadata": {},
   "source": [
    "**Dealing with Duplicates**\n",
    "\n",
    "The next question is identical to **Question 6** but the string now has duplicate characters, so we now need to worry about duplicates in our permutations.  If the original string has duplicate characters then the generated permutations will contain duplicates. In this case convert permutations to a `set` before you do things like get its length.\n",
    "\n",
    "*Note:  What is the difference between converting the original string to a set before generating the permutations versus converting the generated permutations to a set?*"
   ]
  },
  {
   "cell_type": "markdown",
   "metadata": {
    "id": "miGSbNwvobcO"
   },
   "source": [
    "### Question 7\n",
    "\n",
    "Write code to generate the permutations of the letters in __\"allow\"__. \n",
    "Then:\n",
    "\n",
    " * Output the number of distinct permutations. \n",
    " * Output the distinct permutations.\n"
   ]
  },
  {
   "cell_type": "code",
   "execution_count": null,
   "metadata": {
    "execution": {
     "iopub.execute_input": "2020-12-09T15:42:33.971970Z",
     "iopub.status.busy": "2020-12-09T15:42:33.971446Z",
     "iopub.status.idle": "2020-12-09T15:42:33.973799Z",
     "shell.execute_reply": "2020-12-09T15:42:33.973255Z"
    },
    "id": "W4s5pckBobcP"
   },
   "outputs": [],
   "source": [
    "# Question 7\n"
   ]
  },
  {
   "cell_type": "markdown",
   "metadata": {},
   "source": [
    "**Taking only some of the objects**\n",
    "\n",
    "If you want permutations of only some of the objects (characters) you specify the second parameter. For example,\n",
    "\n",
    "~~~python\n",
    "ans = its.permutations(\"DM is Easy\")\n",
    "~~~\n",
    "generates permutations of __\"DM is Easy\"__ taking ALL characters, while \n",
    "\n",
    "~~~python\n",
    "ans = its.permutations(\"DM is Easy\", 2)\n",
    "~~~\n",
    "\n",
    "generates permutations of letters in __\"DM is Easy\"__ taking 2 characters at a time. "
   ]
  },
  {
   "cell_type": "markdown",
   "metadata": {
    "id": "1hgcwI-xobcO"
   },
   "source": [
    "### Question 8\n",
    "\n",
    "Write code to generate the permutations of the letters in __\"abcde\"__ taking 3 letters at a time. \n",
    "Then:\n",
    "\n",
    " * Output the number of distinct permutations. \n",
    " * Output the distinct permutations.\n"
   ]
  },
  {
   "cell_type": "code",
   "execution_count": null,
   "metadata": {
    "execution": {
     "iopub.execute_input": "2020-12-09T15:42:33.976777Z",
     "iopub.status.busy": "2020-12-09T15:42:33.976266Z",
     "iopub.status.idle": "2020-12-09T15:42:33.978556Z",
     "shell.execute_reply": "2020-12-09T15:42:33.978136Z"
    },
    "id": "W4s5pckBobcP"
   },
   "outputs": [],
   "source": [
    "# Question 8\n"
   ]
  },
  {
   "cell_type": "markdown",
   "metadata": {},
   "source": [
    "---\n",
    "## Harder & Optional Questions\n",
    "\n",
    "The following questions are optional and do not count towards your CA. But, if you are interested, feel free to try them.\n",
    "\n",
    "_\"The only attitude that can absolve us when we do something apparently useless is to intensely love what we do.\"_ &mdash; Oscar Wilde"
   ]
  },
  {
   "cell_type": "markdown",
   "metadata": {},
   "source": [
    "### Question 9 \n",
    "\n",
    "Given $n$ integer, write a function to generate all combinations of __well-formed parentheses__ from a string of $n$ pairs of parentheses.\n",
    "\n",
    "For example, if given $n=3$ we have string __\"()()()\"__, and the set of permutations with __well-formed parentheses__ is \n",
    "\n",
    "$$\n",
    "\\{ \"((()))\",\\quad \"(()())\",\\quad \"(())()\",\\quad \"()(())\",\\quad \"()()()\"\\}\n",
    "$$\n",
    "\n",
    "__Well-formed parentheses__ means that:\n",
    " * The number of open (left) and closing (right) parentheses match. (This will be true for all permutations if true at start.)\n",
    " * When reading from left to right, the number of open parentheses is always greater or equal to the number of closing parentheses.\n",
    "\n",
    "Note:\n",
    " * If given an integer, $n$, we can generate $n$ pairs of parentheses in python using `\"()\" * n`"
   ]
  },
  {
   "cell_type": "code",
   "execution_count": null,
   "metadata": {
    "execution": {
     "iopub.execute_input": "2020-12-09T15:42:33.982438Z",
     "iopub.status.busy": "2020-12-09T15:42:33.981912Z",
     "iopub.status.idle": "2020-12-09T15:42:33.984188Z",
     "shell.execute_reply": "2020-12-09T15:42:33.983653Z"
    }
   },
   "outputs": [],
   "source": [
    "# Question 9"
   ]
  },
  {
   "cell_type": "markdown",
   "metadata": {},
   "source": [
    "### Question 10 \n",
    "\n",
    "How many of the permutations of all of the digits 0123456789 are prime numbers?\n",
    "\n",
    "You could:\n",
    "\n",
    " * Start with the string \"0123456789\" and generate permutations.\n",
    " * Convert generated permutations, first into a string (using `join`) then an integer using `int`).\n",
    " * Use your `isPrime` function from last week to check if prime."
   ]
  },
  {
   "cell_type": "code",
   "execution_count": null,
   "metadata": {
    "execution": {
     "iopub.execute_input": "2020-12-09T15:42:33.987906Z",
     "iopub.status.busy": "2020-12-09T15:42:33.986788Z",
     "iopub.status.idle": "2020-12-09T15:42:33.989364Z",
     "shell.execute_reply": "2020-12-09T15:42:33.989904Z"
    }
   },
   "outputs": [],
   "source": [
    "# Question 10"
   ]
  },
  {
   "cell_type": "markdown",
   "metadata": {
    "id": "Fupb7zMXobcQ"
   },
   "source": [
    "---\n",
    "## Review/Feedback (P8)"
   ]
  },
  {
   "cell_type": "code",
   "execution_count": null,
   "metadata": {
    "cellView": "form",
    "execution": {
     "iopub.execute_input": "2020-12-09T15:42:33.994006Z",
     "iopub.status.busy": "2020-12-09T15:42:33.993446Z",
     "iopub.status.idle": "2020-12-09T15:42:33.996456Z",
     "shell.execute_reply": "2020-12-09T15:42:33.995595Z"
    },
    "id": "2TW5QrGFobcQ"
   },
   "outputs": [],
   "source": [
    "#@markdown This a a short questionnaire for you to provide feedback on how you think the semester is progressing and in particular for __Discrete Mathematics__, how easy/difficult, interesting/boring, useful/confusing you find the material. By completing the following you will help us improve our delivery.<br />Please enter your feedback and click on arrow at top-left to save. \n",
    "\n",
    "#@markdown **This practical**\n",
    "\n",
    "#@markdown How difficult did you find this practical?\n",
    "practical_difficulty = 'No opinion' #@param ['No opinion', \"Too easy', 'Easy', 'About right', 'Some bits were hard but overall it was doable', 'Too difficult', 'Impossible']\n",
    "\n",
    "#@markdown Including online session time, how long (in minutes) did it take for you to finish this practical?\n",
    "practical_duration = 0 #@param {type: \"number\"}\n",
    "\n",
    "#@markdown **This week's material**\n",
    "\n",
    "#@markdown How difficult did you find each of the following this week?\n",
    "lecture_difficulty = 'No opinion' #@param ['No opinion', \"Too easy', 'Easy', 'About right', 'Some bits were hard but overall it was doable', 'Too difficult', 'Impossible']\n",
    "\n",
    "tutorial_questions_difficulty = 'No opinion' #@param ['No opinion', \"Too easy', 'Easy', 'About right', 'Some bits were hard but overall it was doable', 'Too difficult', 'Impossible']\n",
    "\n",
    "#@markdown Use the line below to enter any comments &mdash; what you liked, what you did not like. Again all feedback is welcome.\n",
    "general_comment = \"\" #@param {type: \"string\"}"
   ]
  }
 ],
 "metadata": {
  "colab": {
   "name": "DM_P8_-_Enumeration.ipynb",
   "provenance": []
  },
  "kernelspec": {
   "display_name": "Python 3",
   "language": "python",
   "name": "python3"
  },
  "language_info": {
   "codemirror_mode": {
    "name": "ipython",
    "version": 3
   },
   "file_extension": ".py",
   "mimetype": "text/x-python",
   "name": "python",
   "nbconvert_exporter": "python",
   "pygments_lexer": "ipython3",
   "version": "3.9.0"
  },
  "toc": {
   "toc_cell": false,
   "toc_number_sections": true,
   "toc_threshold": 6,
   "toc_window_display": false
  },
  "toc-autonumbering": false
 },
 "nbformat": 4,
 "nbformat_minor": 4
}
