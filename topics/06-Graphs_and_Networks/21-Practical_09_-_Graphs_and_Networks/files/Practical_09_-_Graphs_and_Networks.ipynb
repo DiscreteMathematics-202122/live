{
 "cells": [
  {
   "cell_type": "markdown",
   "metadata": {
    "id": "Dajafvz5obcM",
    "label": "title"
   },
   "source": [
    "# Practical 09 &mdash; Graphs and Networks"
   ]
  },
  {
   "cell_type": "markdown",
   "metadata": {
    "id": "dGUHvpDUobcN",
    "label": "setup"
   },
   "source": [
    "## Setup"
   ]
  },
  {
   "cell_type": "code",
   "execution_count": 1,
   "metadata": {
    "cellView": "form",
    "execution": {
     "iopub.execute_input": "2020-12-16T22:04:56.789454Z",
     "iopub.status.busy": "2020-12-16T22:04:56.788658Z",
     "iopub.status.idle": "2020-12-16T22:04:56.791927Z",
     "shell.execute_reply": "2020-12-16T22:04:56.792518Z"
    },
    "id": "CXsnfskuobcN",
    "label": "bio"
   },
   "outputs": [],
   "source": [
    "#@markdown **Please enter your following details and press Shift-Enter to save:**\n",
    "your_student_number = '' #@param {type: \"string\"}\n",
    "your_name = '' #@param {type: \"string\"}"
   ]
  },
  {
   "cell_type": "code",
   "execution_count": 2,
   "metadata": {
    "execution": {
     "iopub.execute_input": "2020-12-16T22:04:56.800870Z",
     "iopub.status.busy": "2020-12-16T22:04:56.799613Z",
     "iopub.status.idle": "2020-12-16T22:05:01.981617Z",
     "shell.execute_reply": "2020-12-16T22:05:01.982188Z"
    },
    "id": "gI-1sOMPobcN",
    "label": "setup"
   },
   "outputs": [
    {
     "name": "stdout",
     "output_type": "stream",
     "text": [
      "Loading ... \n"
     ]
    },
    {
     "data": {
      "text/html": [
       "<h2>Warning: Please enter your student number and name in the cells above and click on the arrow on top-left or Shift+Enter to save data.</h2>"
      ],
      "text/plain": [
       "<IPython.core.display.HTML object>"
      ]
     },
     "execution_count": 1,
     "metadata": {},
     "output_type": "execute_result"
    }
   ],
   "source": [
    "# setup magic, do not edit this cell! Just press Shift+Enter or click on arrow at top-left\n",
    "\n",
    "import urllib.request\n",
    "content = urllib.request.urlretrieve (\"http://discretemathematics-202122.github.io/live/resources/setup_practical_magic.py\")\n",
    "exec(open(content[0]).read())\n",
    "setup_practical(locals())"
   ]
  },
  {
   "cell_type": "markdown",
   "metadata": {
    "id": "gIumxI6cobcN",
    "label": "Introduction"
   },
   "source": [
    "---\n",
    "## Introduction\n",
    "\n",
    "In this practical we will explore graphs using the module [NetworkX](https://networkx.github.io).\n",
    "\n",
    "While graphs were originally developed by [Euler](https://en.wikipedia.org/wiki/Leonhard_Euler) and others to solve recreational and theoretical problems in Mathematics, they have become a fundamental tool in Computing. Some resources that you might like to browse:\n",
    "\n",
    " * [GeeksforGeeks](https://www.geeksforgeeks.org/) article on [Applications of Graph Data Structure](https://www.geeksforgeeks.org/applications-of-graph-data-structure/)\n",
    " * [StackExchange](https://cs.stackexchange.com) article on [What are some real world applications of graphs?](https://cs.stackexchange.com/questions/126198/what-are-some-real-world-applications-of-graphs) \n",
    " * [Learning in Graphs with Python (Part 3)](https://towardsdatascience.com/learning-in-graphs-with-python-part-3-8d5513eef62d)<br />\n",
    " Is a nice article on where we could go with graphs, if only we have more time ...\n",
    " * Finally, [Networks, Crowds, and Markets: Reasoning About a Highly Connected World](https://www.cs.cornell.edu/home/kleinber/networks-book/) by By David Easley and Jon Kleinberg.<br />\n",
    "This is a big book (so is not a weekend read) but covers everything from the structure of the web, spread of epidemics, auctions to the small world phenomenon think [six degrees of Kevin Bacon](https://en.wikipedia.org/wiki/Six_Degrees_of_Kevin_Bacon/) and **is a book you should dip into at various times during your degree**. \n",
    "\n",
    "\n",
    "\n"
   ]
  },
  {
   "cell_type": "markdown",
   "metadata": {
    "id": "33Q2c3APobcN"
   },
   "source": [
    "### Mathematics Concepts\n",
    "\n",
    " * Graphs (see notes), but note the change in terminology \n",
    "$$\n",
    "    \\begin{array}{rcl}\n",
    "    \\text{Mathematics} && \\text{Python (networkx)}\\\\\\hline\n",
    "    \\text{graph} &\\ \\longleftrightarrow\\ & \\text{graph, network}\\\\\n",
    "    \\text{vertex} &\\ \\longleftrightarrow\\ & \\text{node}\\\\\n",
    "    \\text{edge, arc} &\\ \\longleftrightarrow\\ & \\text{edge}\\\\\n",
    "    \\end{array}\n",
    "$$"
   ]
  },
  {
   "cell_type": "markdown",
   "metadata": {
    "id": "0vNLy3ZBobcO"
   },
   "source": [
    "### Python Concepts\n",
    "\n",
    " * The module `networkx`\n",
    "   * Create standard (classical) graphs\n",
    "   * Checking graph properties\n"
   ]
  },
  {
   "cell_type": "markdown",
   "metadata": {
    "id": "gE6P3C-VobcO"
   },
   "source": [
    "---\n",
    "## Introduction (see notes for more details)\n",
    "\n",
    "Load module using \n",
    "\n",
    "~~~python\n",
    "    import networkx as nx\n",
    "~~~\n",
    "\n",
    " * Add individual edges and nodes (vertices) using `add_edge` and `add_node` methods.\n",
    " * Add liss of edges and nodes (vertices) using `add_edges_from`  and `add_nodes_from` methods.\n",
    "\n",
    " \n",
    "Draw graph using \n",
    "\n",
    "~~~python\n",
    "    ns.draw(G)\n",
    "~~~\n",
    "\n",
    "or, if want to see the node labels use \n",
    "\n",
    "~~~\n",
    "    nx.draw(G, with_labels = True)\n",
    "~~~"
   ]
  },
  {
   "cell_type": "markdown",
   "metadata": {
    "id": "t1PZ9jnUobcO"
   },
   "source": [
    "### Example\n",
    "\n",
    "Define and draw graph, `G0` with \n",
    "vertices $V = \\{a, b, c, d, e\\}$ and \n",
    "edges $E= \\{(a, b), (a, c),(a, d) \\}$.\n",
    "\n",
    "The structure of our answer is:\n",
    " * We import the `networkx` module and give it nickname `nx`   (we only need to do this once, per session).\n",
    " * Create an empty graph and store in the `G0`.\n",
    " * We could add the vertices, but vertices are automatically added when adding edges so as long as every vertex is connected we can skip this.  (Is every vertex connected in this graph?)\n",
    " * Add the edges.\n",
    " * Notes:\n",
    "    * The node names are strings, so in python we need to use quotes `'a'`, or `\"a\"`. etc\n",
    "    * By default the nodes are drawn in (semi-)random positions. If instead we wanted the nodes to be draw in a circle we would use \n",
    "\n",
    "~~~python\n",
    "pos = nx.circular_layout(G0)\n",
    "nx.draw(G0, pos=pos, with_labels = True)\n",
    "~~~\n",
    "   \n",
    "Here the positions of the nodes, is first calculated and stored into `pos`. This is then used in all later calls the the drawing function `np.draw`. \n",
    " "
   ]
  },
  {
   "cell_type": "code",
   "execution_count": 3,
   "metadata": {
    "execution": {
     "iopub.execute_input": "2020-12-16T22:05:01.987560Z",
     "iopub.status.busy": "2020-12-16T22:05:01.986873Z",
     "iopub.status.idle": "2020-12-16T22:05:02.468794Z",
     "shell.execute_reply": "2020-12-16T22:05:02.469193Z"
    },
    "id": "atuZEJKEobcO",
    "label": "Q0"
   },
   "outputs": [
    {
     "data": {
      "image/png": "[encoded data removed]",
      "text/plain": [
       "<Figure size 432x288 with 1 Axes>"
      ]
     },
     "metadata": {},
     "output_type": "display_data"
    }
   ],
   "source": [
    "import networkx as nx\n",
    "G0 = nx.Graph()\n",
    "G0.add_edges_from([('a', 'b'), ('a', 'c'),('a', 'd')])\n",
    "# I forgot that node 'e' is not connected, so I will manually add it now \n",
    "G0.add_node('e')\n",
    "nx.draw(G0, with_labels = True)"
   ]
  },
  {
   "cell_type": "code",
   "execution_count": 4,
   "metadata": {
    "execution": {
     "iopub.execute_input": "2020-12-16T22:05:02.517359Z",
     "iopub.status.busy": "2020-12-16T22:05:02.516823Z",
     "iopub.status.idle": "2020-12-16T22:05:02.560932Z",
     "shell.execute_reply": "2020-12-16T22:05:02.561339Z"
    }
   },
   "outputs": [
    {
     "data": {
      "image/png": "[encoded data removed]",
      "text/plain": [
       "<Figure size 432x288 with 1 Axes>"
      ]
     },
     "metadata": {},
     "output_type": "display_data"
    }
   ],
   "source": [
    "pos = nx.circular_layout(G0)\n",
    "nx.draw(G0, pos=pos, with_labels = True)"
   ]
  },
  {
   "cell_type": "markdown",
   "metadata": {},
   "source": [
    "### Question 1\n",
    "\n",
    "Create a graph, called `G1`, using the words in the sentence \n",
    "$$\n",
    "    \\text{\"yo moma is like html - tiny head, huge body\"}\n",
    "$$\n",
    "as nodes, where two words (nodes) are connected if they are adjacent in the sentence. So 'yo' and 'moma' are connected but 'yo' and 'HTML' are not. Ignore spaces and punctation.\n",
    "\n",
    "Display the graph using circular layout."
   ]
  },
  {
   "cell_type": "code",
   "execution_count": 5,
   "metadata": {
    "execution": {
     "iopub.execute_input": "2020-12-16T22:05:02.565056Z",
     "iopub.status.busy": "2020-12-16T22:05:02.564482Z",
     "iopub.status.idle": "2020-12-16T22:05:02.567794Z",
     "shell.execute_reply": "2020-12-16T22:05:02.567368Z"
    }
   },
   "outputs": [],
   "source": [
    "# Question 1\n"
   ]
  },
  {
   "cell_type": "markdown",
   "metadata": {},
   "source": [
    "--- \n",
    "## The Complete Graph $K_{n}$\n",
    "\n",
    "The following questions deal with the complete graph, $K_{n}$, which (see notes)\n",
    "\n",
    " * Has $n$ vertices/nodes and $n(n-1)/2$ edges.\n",
    " * Each vertex is connected to the other $n-1$ vertices.\n",
    " * Is a simple graph &mdash; no self-loop and now parallel edges"
   ]
  },
  {
   "cell_type": "markdown",
   "metadata": {},
   "source": [
    "### Question 2\n",
    "\n",
    "Create graph `G2` $=K_{10}$ using the built in function `nx.complete_graph`, and  draw the graph using the circular layout with labels shown.\n",
    "\n",
    "Remember, you can use the question mark operator to get help on any built in function. For example type `?nx.complete_graph` to see that it expects at least one parameter &ndash; `n`, the number of nodes."
   ]
  },
  {
   "cell_type": "code",
   "execution_count": 6,
   "metadata": {
    "execution": {
     "iopub.execute_input": "2020-12-16T22:05:02.570887Z",
     "iopub.status.busy": "2020-12-16T22:05:02.570398Z",
     "iopub.status.idle": "2020-12-16T22:05:02.573236Z",
     "shell.execute_reply": "2020-12-16T22:05:02.573636Z"
    }
   },
   "outputs": [],
   "source": [
    "# Question 2\n",
    "\n"
   ]
  },
  {
   "cell_type": "code",
   "execution_count": 7,
   "metadata": {
    "execution": {
     "iopub.execute_input": "2020-12-16T22:05:02.576718Z",
     "iopub.status.busy": "2020-12-16T22:05:02.576190Z",
     "iopub.status.idle": "2020-12-16T22:05:02.578750Z",
     "shell.execute_reply": "2020-12-16T22:05:02.579187Z"
    }
   },
   "outputs": [],
   "source": [
    "# check executation time\n"
   ]
  },
  {
   "cell_type": "markdown",
   "metadata": {
    "id": "dRvaBCsLobcO"
   },
   "source": [
    "### Question 3\n",
    "\n",
    "Write code to verify, use `assert`, that `G2` has the correct number of edges.\n"
   ]
  },
  {
   "cell_type": "code",
   "execution_count": 8,
   "metadata": {
    "execution": {
     "iopub.execute_input": "2020-12-16T22:05:02.582398Z",
     "iopub.status.busy": "2020-12-16T22:05:02.581886Z",
     "iopub.status.idle": "2020-12-16T22:05:02.583965Z",
     "shell.execute_reply": "2020-12-16T22:05:02.584420Z"
    }
   },
   "outputs": [],
   "source": [
    "# Question 3\n"
   ]
  },
  {
   "cell_type": "markdown",
   "metadata": {},
   "source": [
    "### Question 4\n",
    "\n",
    "Write code to, create empty graph `G4` and then add manually edges to construct the complete graph $K_{10}$, rather than using `nx.complete_graph` function. Use loops!!\n",
    "\n",
    " * Check that the number of edges is correct using assertions.\n",
    " * Display the graph using circular layout.\n"
   ]
  },
  {
   "cell_type": "code",
   "execution_count": 9,
   "metadata": {
    "execution": {
     "iopub.execute_input": "2020-12-16T22:05:02.587383Z",
     "iopub.status.busy": "2020-12-16T22:05:02.586876Z",
     "iopub.status.idle": "2020-12-16T22:05:02.589085Z",
     "shell.execute_reply": "2020-12-16T22:05:02.589576Z"
    }
   },
   "outputs": [],
   "source": [
    "# Question 4\n"
   ]
  },
  {
   "cell_type": "markdown",
   "metadata": {},
   "source": [
    "---\n",
    "## The Path graph $P_{10}$\n",
    "\n",
    "The following questions deal with the path graph, $P_{n}$, which (see notes)\n",
    "\n",
    " * Has $n$ vertices/nodes and $n-1$ edges.\n",
    " * Verties are all connected along a single path.\n",
    " * Is a simple graph &mdash; no self-loop and now parallel edges\n"
   ]
  },
  {
   "cell_type": "markdown",
   "metadata": {
    "id": "5shfOgLsobcO"
   },
   "source": [
    "### Question 5\n",
    "\n",
    "Create graph `G5` $=P_{10}$ using the built in function `nx.path_graph`, and draw the graph using the circular layout with labels shown."
   ]
  },
  {
   "cell_type": "code",
   "execution_count": 10,
   "metadata": {
    "execution": {
     "iopub.execute_input": "2020-12-16T22:05:02.592599Z",
     "iopub.status.busy": "2020-12-16T22:05:02.592094Z",
     "iopub.status.idle": "2020-12-16T22:05:02.594125Z",
     "shell.execute_reply": "2020-12-16T22:05:02.594534Z"
    },
    "id": "zaGBqPjPobcO"
   },
   "outputs": [],
   "source": [
    "# Question 5\n"
   ]
  },
  {
   "cell_type": "markdown",
   "metadata": {
    "id": "5shfOgLsobcO"
   },
   "source": [
    "### Question 6\n",
    "\n",
    "Write code to verify, use `assert`, that `G5` has the correct number of edges."
   ]
  },
  {
   "cell_type": "code",
   "execution_count": 11,
   "metadata": {
    "execution": {
     "iopub.execute_input": "2020-12-16T22:05:02.597493Z",
     "iopub.status.busy": "2020-12-16T22:05:02.596990Z",
     "iopub.status.idle": "2020-12-16T22:05:02.599485Z",
     "shell.execute_reply": "2020-12-16T22:05:02.598961Z"
    },
    "id": "zaGBqPjPobcO"
   },
   "outputs": [],
   "source": [
    "# Question 6\n"
   ]
  },
  {
   "cell_type": "markdown",
   "metadata": {},
   "source": [
    "---\n",
    "## Examining Graph Properties\n",
    "\n",
    "The following questions relate to examining a graph to determine properties such as \n",
    "\n",
    " * The degree of a particular vetrex/node &mdash; use function `G.degree`\n",
    " * Which vertices/nodes are connected to a particular node &mdash; use function `G.neighbors`"
   ]
  },
  {
   "cell_type": "markdown",
   "metadata": {},
   "source": [
    "To focus on graph properties rather than creating graphs we will use the following graph.\n",
    "\n",
    "Create a graph using the **letters** in the sentence \n",
    "$$\n",
    "    \\text{\"yo moma is like html - tiny head, huge body\"}\n",
    "$$\n",
    "as nodes, where two letters (nodes) are connected if they both appear in the same word. So 'y' and 't' are connected since they both appear in 'tiny' but 'y' and 's' are not connected. \n",
    "\n",
    "Notes:\n",
    "\n",
    " * Ignore spaces and punctation.\n",
    " * This graph will have self-loops since every letter is in the same word as itself. And remember, a self-loop contributes 2 to a vertex's degree."
   ]
  },
  {
   "cell_type": "code",
   "execution_count": 12,
   "metadata": {
    "execution": {
     "iopub.execute_input": "2020-12-16T22:05:02.633902Z",
     "iopub.status.busy": "2020-12-16T22:05:02.619336Z",
     "iopub.status.idle": "2020-12-16T22:05:02.721228Z",
     "shell.execute_reply": "2020-12-16T22:05:02.721654Z"
    }
   },
   "outputs": [
    {
     "data": {
      "image/png": "[encoded data removed]",
      "text/plain": [
       "<Figure size 432x288 with 1 Axes>"
      ]
     },
     "metadata": {},
     "output_type": "display_data"
    }
   ],
   "source": [
    "# code to generate required graph\n",
    "\n",
    "#  create empty graph\n",
    "G = nx.Graph()\n",
    "\n",
    "# split sentence into words\n",
    "words = \"yo moma is like html - tiny head, huge body\".split(\" \")\n",
    "\n",
    "for word in words:        # loop over each word \n",
    "    for a in word:             # loop over every letter in current word - first vertex in edge\n",
    "        for b in word:             # loop over every letter in current word - second vertex in edge\n",
    "            \n",
    "            # add edge (a,b) if both a and b are letters\n",
    "            # Note this adds some edges twice but networkx drops duplicates so we don't need to check for this.\n",
    "            if a.islower() and b.islower(): \n",
    "                G.add_edge(a,b)\n",
    "                \n",
    "# finally draw graph - note that self-loops are not drawn. \"every letter is in same sentence as itself\"            \n",
    "pos = nx.circular_layout(G)\n",
    "nx.draw(G, pos=pos, with_labels = True)           "
   ]
  },
  {
   "cell_type": "markdown",
   "metadata": {},
   "source": [
    "### Question 7\n",
    "\n",
    "For each node, in the graph print out the degree, in alphabetical order. You should get output\n",
    "~~~\n",
    "Node a has degree 7\n",
    "Node b has degree 5\n",
    "Node d has degree 8\n",
    "Node e has degree 10\n",
    "Node g has degree 5\n",
    "Node h has degree 10\n",
    "Node i has degree 9\n",
    "Node k has degree 5\n",
    "Node l has degree 8\n",
    "Node m has degree 7\n",
    "Node n has degree 5\n",
    "Node o has degree 7\n",
    "Node s has degree 3\n",
    "Node t has degree 8\n",
    "Node u has degree 5\n",
    "Node y has degree 8\n",
    "~~~\n",
    "\n",
    "Notes:\n",
    "\n",
    " * `G.nodes()` returns the nodes. We want to sort this to get nodes in alphabetical order. Simplest approach is to convert to a list using `list` and sort that using `sorted`.  So you might have something like `sorted(list(G.nodes()))`. Then use a `for` loop. \n",
    " * The degree of a node is obtained using `G.degree`. Again, remember that self-loops contribute 2 to the degree, so `\"s\"` has degree 3 even though it is connected to only one other letter. "
   ]
  },
  {
   "cell_type": "code",
   "execution_count": 13,
   "metadata": {
    "execution": {
     "iopub.execute_input": "2020-12-16T22:05:02.725029Z",
     "iopub.status.busy": "2020-12-16T22:05:02.724524Z",
     "iopub.status.idle": "2020-12-16T22:05:02.727141Z",
     "shell.execute_reply": "2020-12-16T22:05:02.726616Z"
    }
   },
   "outputs": [],
   "source": [
    "# Question 7\n"
   ]
  },
  {
   "cell_type": "markdown",
   "metadata": {},
   "source": [
    "### Question 8\n",
    "\n",
    "We are often interested how far apart (as in number of edges/hop between) are any two vertices/nodes in a graph. And in particular, which two vertices/nodes are furthest apart. The `networkx` has a collection of functions dealing with distances in particular:\n",
    "\n",
    "~~~python\n",
    "nx.diameter(G)\n",
    "~~~\n",
    "which returns the distance between the two furthest separated nodes.  \n",
    "\n",
    "For the above graph the answer is 3. This means that this graph contains **at least one pair of nodes** for which the shortest path between them has 3 edges (and 4 nodes).  \n",
    "\n",
    "If given a pair of nodes, say `start` and `end` then the function call\n",
    "~~~python\n",
    "nx.shortest_path(G, start, end)\n",
    "~~~\n",
    "will return a shortest path between node `start` and node `end`. For example, in graph `G` a shortest path between nodes 'i' and 'h' is found using\n",
    "\n",
    "~~~python\n",
    "nx.shortest_path(G, 'i', 'h')\n",
    "~~~\n",
    "with result \n",
    "~~~\n",
    "['i', 't', 'h']\n",
    "~~~\n",
    "since 'i' is connected to 't' in word 'tiny' and 't' is connected to 'h' in word 'html'.\n",
    "\n",
    "\n",
    "OK, finally to the question ...\n",
    "\n",
    "We want you to find at least one pair of vertices for which the shortest path between them has three edges (there are such 40 pairs). We don't care how you do it. You could:\n",
    "\n",
    " * Look at the above graph and try to spot a suitable pair - this is doable but error prone.\n",
    " * Use the function `nx.shortest_path` and manual trial and error, checking pairs of nodes until you find a path with 3 edges (4 nodes).\n",
    " * Wrap the function `nx.shortest_path` in a nested `for` loop and check all possible pairs of nodes, until you find a shortest path with 4 nodes.\n",
    "\n",
    "Answer is a shortest path of length 3 edges (4 nodes)."
   ]
  },
  {
   "cell_type": "code",
   "execution_count": 14,
   "metadata": {
    "execution": {
     "iopub.execute_input": "2020-12-16T22:05:02.730392Z",
     "iopub.status.busy": "2020-12-16T22:05:02.729888Z",
     "iopub.status.idle": "2020-12-16T22:05:02.732578Z",
     "shell.execute_reply": "2020-12-16T22:05:02.732063Z"
    }
   },
   "outputs": [],
   "source": [
    "# Question 8\n"
   ]
  },
  {
   "cell_type": "markdown",
   "metadata": {
    "id": "Fupb7zMXobcQ"
   },
   "source": [
    "---\n",
    "## Review/Feedback (P09)"
   ]
  },
  {
   "cell_type": "code",
   "execution_count": 15,
   "metadata": {
    "cellView": "form",
    "execution": {
     "iopub.execute_input": "2020-12-16T22:05:02.736562Z",
     "iopub.status.busy": "2020-12-16T22:05:02.736049Z",
     "iopub.status.idle": "2020-12-16T22:05:02.738649Z",
     "shell.execute_reply": "2020-12-16T22:05:02.738139Z"
    },
    "id": "2TW5QrGFobcQ"
   },
   "outputs": [],
   "source": [
    "#@markdown This a a short questionnaire for you to provide feedback on how you think the semester is progressing and in particular for __Discrete Mathematics__, how easy/difficult, interesting/boring, useful/confusing you find the material. By completing the following you will help us improve our delivery.<br />Please enter your feedback and click on arrow at top-left to save. \n",
    "\n",
    "#@markdown **This practical**\n",
    "\n",
    "#@markdown How difficult did you find this practical?\n",
    "practical_difficulty = 'No opinion' #@param ['No opinion', \"Too easy', 'Easy', 'About right', 'Some bits were hard but overall it was doable', 'Too difficult', 'Impossible']\n",
    "\n",
    "#@markdown Including online session time, how long (in minutes) did it take for you to finish this practical?\n",
    "practical_duration = 0 #@param {type: \"number\"}\n",
    "\n",
    "#@markdown **This week's material**\n",
    "\n",
    "#@markdown How difficult did you find each of the following this week?\n",
    "lecture_difficulty = 'No opinion' #@param ['No opinion', \"Too easy', 'Easy', 'About right', 'Some bits were hard but overall it was doable', 'Too difficult', 'Impossible']\n",
    "\n",
    "tutorial_questions_difficulty = 'No opinion' #@param ['No opinion', \"Too easy', 'Easy', 'About right', 'Some bits were hard but overall it was doable', 'Too difficult', 'Impossible']\n",
    "\n",
    "#@markdown Use the line below to enter any comments &mdash; what you liked, what you did not like. Again all feedback is welcome.\n",
    "general_comment = \"\" #@param {type: \"string\"}"
   ]
  },
  {
   "cell_type": "code",
   "execution_count": null,
   "metadata": {},
   "outputs": [],
   "source": []
  }
 ],
 "metadata": {
  "colab": {
   "name": "DM_P09_-_Graphs_and_Networks.ipynb",
   "provenance": []
  },
  "kernelspec": {
   "display_name": "Python 3",
   "language": "python",
   "name": "python3"
  },
  "language_info": {
   "codemirror_mode": {
    "name": "ipython",
    "version": 3
   },
   "file_extension": ".py",
   "mimetype": "text/x-python",
   "name": "python",
   "nbconvert_exporter": "python",
   "pygments_lexer": "ipython3",
   "version": "3.8.6"
  },
  "toc": {
   "toc_cell": false,
   "toc_number_sections": true,
   "toc_threshold": 6,
   "toc_window_display": false
  },
  "toc-autonumbering": false
 },
 "nbformat": 4,
 "nbformat_minor": 4
}
