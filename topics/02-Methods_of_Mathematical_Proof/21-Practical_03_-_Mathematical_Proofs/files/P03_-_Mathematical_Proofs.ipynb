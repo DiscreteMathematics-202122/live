{
  "cells": [
    {
      "cell_type": "markdown",
      "metadata": {
        "id": "2WwadXEvtpi0",
        "label": "title"
      },
      "source": [
        "# Practical 03 - Mathematical Proofs"
      ]
    },
    {
      "cell_type": "markdown",
      "metadata": {
        "id": "_-UuIfogtpi2",
        "label": "setup"
      },
      "source": [
        "## Setup"
      ]
    },
    {
      "cell_type": "code",
      "execution_count": null,
      "metadata": {
        "cellView": "form",
        "id": "yW3AQAQHt02b"
      },
      "outputs": [],
      "source": [
        "#@markdown **Please enter your following details and press Shift-Enter to save:**\n",
        "your_student_number = '' #@param {type: \"string\"}\n",
        "your_name = '' #@param {type: \"string\"}"
      ]
    },
    {
      "cell_type": "code",
      "execution_count": null,
      "metadata": {
        "id": "uRAHyJ00wh2r"
      },
      "outputs": [],
      "source": []
    },
    {
      "cell_type": "code",
      "execution_count": null,
      "metadata": {
        "id": "PMOHc55Ft4xa"
      },
      "outputs": [],
      "source": [
        "# setup magic, do not edit this cell! Just press Shift+Enter or click on arrow at top-left\n",
        "\n",
        "import urllib.request\n",
        "content = urllib.request.urlretrieve (\"https://kmurphy.bitbucket.io/modules/Discrete_Mathematics/resources/setup_practical_magic.py\")\n",
        "exec(open(content[0]).read())\n",
        "setup_practical(locals())"
      ]
    },
    {
      "cell_type": "markdown",
      "metadata": {
        "id": "oK5ZteDstpi3",
        "label": "Introduction"
      },
      "source": [
        "---\n",
        "## Introduction"
      ]
    },
    {
      "cell_type": "markdown",
      "metadata": {
        "id": "qf-YzQyrtpi5"
      },
      "source": [
        "In this practical we will look at a selection of problems that will require logic or the proof techniques that we have covered in the lectures.\n",
        " \n",
        "  * Use truth table to check expressions.\n",
        "  * Proof by cases.\n"
      ]
    },
    {
      "cell_type": "markdown",
      "metadata": {
        "id": "N9_tuGx9tpi6"
      },
      "source": [
        "### Mathematics Concepts\n",
        "\n",
        " * Fundamental logical connectives __not__ ($\\lnot$), __and__ ($\\land$), and __or__ ($\\lor$).\n",
        " * Satisfiability, tautologies and contradictions.\n",
        " * Proof by cases."
      ]
    },
    {
      "cell_type": "markdown",
      "metadata": {
        "id": "poq0AyS6tpi8"
      },
      "source": [
        "### Python Concepts\n",
        "\n",
        " * Logical operators `not`, `and`, and `or`.\n",
        " * Generating a truth table using `TruthTable`.\n",
        " "
      ]
    },
    {
      "cell_type": "markdown",
      "metadata": {
        "id": "osUKfQEFtpi9"
      },
      "source": [
        "---\n",
        "## Application: Designing Alarm Circuits\n",
        "\n",
        "![](https://kmurphy.github.io/notebooks/nuclear_alarms.png)\n",
        "\n",
        "In a nuclear power station there are $n$ sensors to indicate various warnings in the power plant.  The sensors are prone to generating false warnings so we want to design a logic circuit whose output is on (`1` or `True`) only when at least two of the sensors are on (`1` or `True`).   In order to save costs we want to design the circuit with as few logic gates (`and`, `or` and `not`) as possible. \n",
        "\n",
        "In each of the questions below, \n",
        " \n",
        "  * Design a suitable logic gate matching the specifications. \n",
        "  * Use the corresponding logical proposition to describe the logical circuit you designed.\n",
        "  * Generate the truth table to verify that the circuit will operate as claimed.\n",
        "\n",
        "Remember: If you want `0`/`1`, instead of `False`/`True` as output to `TruthTable` you insert parameter `ints=True` as follows\n",
        "\n",
        "~~~python\n",
        "TruthTable(\"A or B\", ints=True)\n",
        "~~~\n",
        "will produce\n",
        "\n",
        "|A|B|A or B|\n",
        "|-|-|------|\n",
        "|0|0|0|\n",
        "|0|1|1|\n",
        "|1|0|1|\n",
        "|1|1|1|\n"
      ]
    },
    {
      "cell_type": "markdown",
      "metadata": {
        "id": "8O1Uz1vPtpi_"
      },
      "source": [
        "### Question 1\n",
        "\n",
        "If $n=2$ design the circuit using `and` ($\\land$) gates only.\n",
        "\n",
        "In other words:\n",
        "\n",
        " * Build circuit with two inputs, `a` and `b`.\n",
        " * such that the output is __on__ (`1`/`True`) only when at least two inputs is __on__ (`1`/`True`).\n",
        " * Verify circuit using a truth table. \n",
        "     In other words check that in every row in which at least two inputs are `True` then and only then the output is `True`."
      ]
    },
    {
      "cell_type": "code",
      "execution_count": null,
      "metadata": {
        "id": "SjWWsJK2tpjB",
        "label": "Q1"
      },
      "outputs": [],
      "source": [
        "# Quesiton 1\n",
        "# store proposition representing circuit in string p\n",
        "\n",
        "p = \"\" \n",
        "TruthTable(p, ints=True)"
      ]
    },
    {
      "cell_type": "markdown",
      "metadata": {
        "id": "NskvMOP5tpjI"
      },
      "source": [
        "### Question 2\n",
        "\n",
        "If $n=2$ design the circuit using `or` ($\\lor$) and `not` ($\\lnot$) gates only."
      ]
    },
    {
      "cell_type": "code",
      "execution_count": null,
      "metadata": {
        "id": "9aB4NvJRtpjJ",
        "label": "Q2"
      },
      "outputs": [],
      "source": [
        "# Question 2\n",
        "# store proposition representing circuit in string p\n",
        "\n",
        "p = \"\"\n",
        "TruthTable(p)"
      ]
    },
    {
      "cell_type": "markdown",
      "metadata": {
        "id": "Q0RcGKjdtpjN"
      },
      "source": [
        "### Question 3\n",
        "\n",
        "If $n=3$ design the circuit using `and` ($\\land$) gates only."
      ]
    },
    {
      "cell_type": "code",
      "execution_count": null,
      "metadata": {
        "id": "bLjFj4e8tpjN",
        "label": "Q3"
      },
      "outputs": [],
      "source": [
        "# Question 3\n",
        "# store proposition representing circuit in string p\n",
        "\n",
        "p = \"\"\n",
        "TruthTable(p)"
      ]
    },
    {
      "cell_type": "markdown",
      "metadata": {
        "id": "-aYP_YGNtpjR"
      },
      "source": [
        "### Question 4\n",
        "\n",
        "If $n=4$ design the circuit using fewest number of gates."
      ]
    },
    {
      "cell_type": "code",
      "execution_count": null,
      "metadata": {
        "id": "yGkgWV3EtpjR",
        "label": "Q3"
      },
      "outputs": [],
      "source": [
        "# Question 4\n",
        "# store proposition representing circuit in string p\n",
        "\n",
        "p = \"\"\n",
        "TruthTable(p)"
      ]
    },
    {
      "cell_type": "markdown",
      "metadata": {
        "id": "fhVhFzjqtpjU"
      },
      "source": [
        "### Question 5\n",
        "\n",
        "If $n=8$ estimate the number of gates need based on your design for the $n=4$ case.  You don't have to build the circuit, but please feel free to do so if you wish."
      ]
    },
    {
      "cell_type": "code",
      "execution_count": null,
      "metadata": {
        "id": "sny0SSOrtpjU",
        "label": "Q4"
      },
      "outputs": [],
      "source": [
        "# Question 5\n",
        "gates = 0"
      ]
    },
    {
      "cell_type": "markdown",
      "metadata": {
        "id": "cHtv9yC0tpjY",
        "note": "https://philosophy.hku.hk/think/logic/knights.php"
      },
      "source": [
        "---\n",
        "## Application: Trust/Reputation Algorithms\n",
        "\n",
        "Note: These problems are framed as puzzles, but they form the basis of [trust/reputation systems](http://home.ifi.uio.no/josang/papers/Jos2007-FOSAD.pdf).  \n",
        "\n",
        "A very special island is inhabited only by knights and knaves, who look identical. Knights always tell the truth, and knaves always lie.  You are given a set of statements and you need to decide their truth value and identify who are knights and who are knaves.  \n",
        "\n",
        "The general approach to solving these problems is to apply proof by cases &mdash; but here we will get python to do the boring work of building up the truth table where each row is a separate case.  Our task is to take the English sentences and rewrite them as logical propositions.\n",
        "\n",
        "\n",
        "**Example**\n",
        "\n",
        "You meet two inhabitants: Alice and Bob.\n",
        "\n",
        " * Alice tells you that \"Bob is a knave\". \n",
        " * Bob says, \"Neither Alice nor I are knaves.\"  \n",
        " \n",
        "So who is a knight and who is a knave?\n",
        "\n",
        "**Answer**\n",
        "\n",
        "First we want to translate the above statements into logical propositions. In terms of the two inhabitants, Alice and Bob we have propositions:\n",
        "\n",
        " * \\\\(A\\\\) = \"Alice is a knight\"\n",
        " * \\\\(B\\\\) = \"Bob is a knight\"\n",
        "\n",
        "so \"\\\\(\\lnot A\\\\)\" means \"Alice is not a knight\" i.e. \"Alice is a knave\", etc.\n",
        "\n",
        "And translating each of the statements that Alice and Bob made we have\n",
        "\n",
        " * \"Bob is a knave\" \\\\(\\iff\\\\)\"Bob is a not a knight\" \n",
        "\\\\[S_1 = \\lnot B\\\\]\n",
        "\n",
        " * \"Neither Alice nor I are knaves.\" \n",
        "     \\\\(\\iff\\\\)\"Alice is not a knave and Bob is not a knave\" \n",
        "     \\\\(\\iff\\\\)\"Alice is knight and Bob is a knight\" \n",
        "\n",
        "\\\\[S_2 = A \\land B\\\\]\n",
        "\n",
        "Next, we try proof by cases.  We look at all possible combinations of Alice and Bob being knights and being knaves, remembering that knights always speak the truth while knaves always lie.\n",
        "\n",
        "In terms of Alice, Alice is a knight and tells the truth OR Alice is a knave and tells falsehoods:\n",
        "\n",
        "_Alice_\n",
        "$$\n",
        "    \\bigg(A \\land (\\lnot B) \\bigg) \\lor \\bigg(\\lnot A \\land \\lnot(\\lnot B) \\bigg)\n",
        "    = \\big(A \\land \\lnot B \\big) \\lor \\big(\\lnot A \\land B \\big)\n",
        "$$\n",
        "\n",
        "_Bob_\n",
        "$$\n",
        "    \\bigg(B \\land (A \\land B) \\bigg) \\lor \\bigg(\\lnot B \\land \\lnot(A \\land B) \\bigg)\n",
        "    = \\big(B \\land A \\land B\\big) \\lor \\big(\\lnot B \\land \\lnot(A \\land B) \\big)\n",
        "$$\n",
        "\n",
        "Combining both (remember both must be true, so used AND) to get a single proposition, \n",
        "\n",
        "$$\n",
        "   \\bigg((A \\land \\lnot B) \\lor (\\lnot A \\land B)\\bigg)\n",
        "   \\land\n",
        "   \\bigg(\n",
        "   (B \\land A \\land B) \\lor (\\lnot B \\land \\lnot(A \\land B))\n",
        "   \\bigg)\n",
        "$$\n",
        "(notice that I simplified it a bit, using the rules of logic) which we test using a truth table.\n",
        "\n",
        "~~~python\n",
        "TruthTable(\"((A and not B) or (not A and B)) and((B and A and B) or (not B and not(A and B)))\")\n",
        "~~~\n",
        "and get output \n",
        "\n",
        "|A|B|((A and not B) or (not A and B)) and((B and A and B) or (not B and not(A and B)))|\n",
        "|----|----|----|\n",
        "|False|False|False|\n",
        "|False|True|False|\n",
        "|True|False|True|\n",
        "|True|True|False|\n",
        "\n",
        "The expression is true for only one set of inputs\n",
        "\n",
        " * \\\\(A=True\\\\), so Alice is a knight\n",
        " * \\\\(B=False\\\\), so Bob is a knave\n"
      ]
    },
    {
      "cell_type": "markdown",
      "metadata": {
        "id": "hT3IrKz5tpjY"
      },
      "source": [
        "### Question 6\n",
        "\n",
        "A very special island is inhabited only by knights and knaves. Knights always tell the truth, and knaves always lie. You meet three inhabitants: Alice, Rex and Bob, where\n",
        "\n",
        " * Alice tells you that \"Rex is a knave\". \n",
        " * Rex tells you that \"it's false that Bob is a knave\". \n",
        " * Bob claims, \"I am a knight or Alice is a knight.\"\n",
        " \n",
        "So who is a knight and who is a knave?"
      ]
    },
    {
      "cell_type": "code",
      "execution_count": null,
      "metadata": {
        "id": "m7DqIWA9tpjY",
        "label": "Q5a"
      },
      "outputs": [],
      "source": [
        "# Question 6\n",
        "p = \"\"\n",
        "TruthTable(p)"
      ]
    },
    {
      "cell_type": "code",
      "execution_count": null,
      "metadata": {
        "id": "z3ggUqyHtpjb",
        "label": "Q5b"
      },
      "outputs": [],
      "source": [
        "# Question 6\n",
        "# state whether Alice, Rex, Bob are knights, put A=True if Alice is a knight and A=False otherwise, etc for R and B \n",
        "A = None\n",
        "R = None\n",
        "B = None"
      ]
    },
    {
      "cell_type": "markdown",
      "metadata": {
        "id": "5XemoPHftpjd"
      },
      "source": [
        "### Question 7 &mdash; Optional \n",
        "\n",
        "**This question is optional and so there are no CA marks going for this.**\n",
        "\n",
        "A very special island is inhabited only by knights and knaves. Knights always tell the truth, and knaves always lie.\n",
        "\n",
        "You meet three inhabitants: Peggy, Joe and Zippy.\n",
        "\n",
        " * Peggy claims, \"I am a knight or Joe is a knave.\"\n",
        " * Joe tells you, \"Peggy is a knight and Zippy is a knave.\"\n",
        " * Zippy says, \"I and Joe are different.\"\n",
        "\n",
        "Determine who is a knight and who is a knave?"
      ]
    },
    {
      "cell_type": "code",
      "execution_count": null,
      "metadata": {
        "id": "DZGElhihtpjd",
        "label": "Q5a"
      },
      "outputs": [],
      "source": [
        "# Question 7\n",
        "\n",
        "p = \"\"\n",
        "TruthTable(p)"
      ]
    },
    {
      "cell_type": "code",
      "execution_count": null,
      "metadata": {
        "id": "qT8gjf4stpjg",
        "label": "Q5b"
      },
      "outputs": [],
      "source": [
        "# Question 7 - state whether Peggy, Joe, Zippy are knights\n",
        "P = None\n",
        "J = None\n",
        "Z = None"
      ]
    },
    {
      "cell_type": "markdown",
      "metadata": {
        "id": "CCHysYiYuEhY"
      },
      "source": [
        "---\n",
        "## Review/Feedback (P04)"
      ]
    },
    {
      "cell_type": "code",
      "execution_count": null,
      "metadata": {
        "cellView": "form",
        "id": "H7PIHTZVt_ww"
      },
      "outputs": [],
      "source": [
        "#@markdown One of disadvantage of going online is that students can lose out on opportunities to provide feedback on how they think the semester is progressing and in particular for __Discrete Mathematics__, how they easy/difficult, interesting/boring, useful/confusing they find the material. By completing the following you will help us improve our delivery.<br />Please enter your feedback and click on arrow at top-left to save. \n",
        "\n",
        "#@markdown **This practical**\n",
        "\n",
        "#@markdown How difficult did you find this practical?\n",
        "practical_difficulty = 'No opinion' #@param ['No opinion', \"Too easy', 'Easy', 'About right', 'Some bits were hard but overall it was doable', 'Too difficult', 'Impossible']\n",
        "\n",
        "#@markdown Including online session time, how long (in minutes) did it take for you to finish this practical?\n",
        "practical_duration = 0 #@param {type: \"number\"}\n",
        "\n",
        "#@markdown **This week's material**\n",
        "\n",
        "#@markdown How difficult did you find each of the following this week _(0=too easy 3=easy, 5=just right, 7=a bit difficult, 10=impossible)_?\n",
        "lecture_difficulty = 0  #@param {type: \"slider\", min: 0, max: 10}\n",
        "tutorial_questions_difficulty = 0  #@param {type: \"slider\", min: 0, max: 10}\n",
        "\n",
        "#@markdown Use the line below to enter any comments &mdash; what you liked, what you did not like. Again all feedback is welcome.\n",
        "general_comment = \"\" #@param {type: \"string\"}"
      ]
    },
    {
      "cell_type": "code",
      "execution_count": null,
      "metadata": {
        "id": "UoE-8UgHuASM"
      },
      "outputs": [],
      "source": []
    }
  ],
  "metadata": {
    "colab": {
      "collapsed_sections": [],
      "name": "Discrete Maths P04 - Mathematical Proofs.ipynb",
      "provenance": [],
      "toc_visible": true
    },
    "kernelspec": {
      "display_name": "Python 3",
      "language": "python",
      "name": "python3"
    },
    "language_info": {
      "codemirror_mode": {
        "name": "ipython",
        "version": 3
      },
      "file_extension": ".py",
      "mimetype": "text/x-python",
      "name": "python",
      "nbconvert_exporter": "python",
      "pygments_lexer": "ipython3",
      "version": "3.7.7"
    },
    "toc": {
      "toc_cell": false,
      "toc_number_sections": true,
      "toc_threshold": 6,
      "toc_window_display": false
    }
  },
  "nbformat": 4,
  "nbformat_minor": 0
}
