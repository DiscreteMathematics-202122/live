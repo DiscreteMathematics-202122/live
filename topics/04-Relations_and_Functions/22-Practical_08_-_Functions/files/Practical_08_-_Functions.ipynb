{
 "cells": [
  {
   "cell_type": "markdown",
   "metadata": {
    "label": "title"
   },
   "source": [
    "# Practical 08 - Functions"
   ]
  },
  {
   "cell_type": "markdown",
   "metadata": {
    "label": "setup"
   },
   "source": [
    "## Setup"
   ]
  },
  {
   "cell_type": "code",
   "execution_count": 1,
   "metadata": {
    "label": "bio"
   },
   "outputs": [],
   "source": [
    "# specify your student id and your name, then press Shift+Enter\n",
    "\n",
    "student_id = 'W00000000'\n",
    "student_name = 'Firstname Surname'"
   ]
  },
  {
   "cell_type": "code",
   "execution_count": 2,
   "metadata": {
    "label": "setup"
   },
   "outputs": [
    {
     "data": {
      "text/html": [
       "<script>alert('Make sure to specify your student ID and your name in the Setup section of this notebook.');</script>"
      ],
      "text/plain": [
       "<IPython.core.display.HTML object>"
      ]
     },
     "metadata": {},
     "output_type": "display_data"
    },
    {
     "data": {
      "text/html": [
       "<style>\n",
       "\n",
       "\n",
       "\n",
       "/* counting headers and my styling */\n",
       "\n",
       ".navbar-collapse.collapse {\n",
       "display: block!important;\n",
       "}\n",
       "\n",
       ".navbar-nav>li, .navbar-nav {\n",
       "float: left !important;\n",
       "}\n",
       "\n",
       ".navbar-nav.navbar-right:last-child {\n",
       "margin-right: -15px !important;\n",
       "}\n",
       "\n",
       ".navbar-right {\n",
       "float: right!important;\n",
       "}\n",
       "\n",
       "#notebook_name {\n",
       "    font-weight: 600;\n",
       "}\n",
       "\n",
       "h1 {\n",
       "\ttext-align: center;\n",
       "\tbackground-color: rgba(0,255,1,0.15);\n",
       "\tborder-bottom: 1px solid #cccccc;\n",
       "\tcounter-reset: h2counter;\t\n",
       "}\n",
       "\n",
       "h2 {\n",
       "\ttext-align: center;\n",
       "\twidth: 75%;\n",
       "\tmargin-left: 25%;\n",
       "\tbackground-color: rgba(255,255,1,0.15);\n",
       "\tborder-bottom: 1px solid #cccccc;\n",
       "\tcounter-reset: h3counter;\t\n",
       "}\n",
       "h2:before {\n",
       "\tcounter-increment: h2counter;\n",
       "}\n",
       "\n",
       "h3 {\n",
       "\tborder-bottom: 1px solid #cccccc;\t\n",
       "}\n",
       "h3:before {\n",
       "\tcounter-increment: h3counter;\n",
       "}\n",
       "\n",
       "h4 {\n",
       "\tborder-bottom: 1px solid #cccccc;\t\n",
       "}\n",
       "h4:before {\n",
       "\tcounter-increment: h4counter;\n",
       "}\n",
       " </style>Python practical setup tools version 0.2. See <a target=\"_blank\" href=\"http://kmurphy.bitbucket.io/modules/Discrete_Mathematics/topics/00-Module_Introduction/33-Python_Practicals\">kmurphy.bitbucket.io/modules/Discrete_mathematics</a>"
      ],
      "text/plain": [
       "<IPython.core.display.HTML object>"
      ]
     },
     "execution_count": 2,
     "metadata": {},
     "output_type": "execute_result"
    }
   ],
   "source": [
    "# setup magic, do not edit this! Just press Shift+Enter\n",
    "\n",
    "%matplotlib inline\n",
    "import urllib.request\n",
    "\n",
    "try:\n",
    "    content = urllib.request.urlretrieve (\"http://kmurphy.bitbucket.io/modules/Discrete_Mathematics/files/setup_practical_magic.py\")\n",
    "    exec(open(content[0]).read())\n",
    "except:\n",
    "    from setup_practical_magic import *\n",
    "setup_practical(locals())"
   ]
  },
  {
   "cell_type": "markdown",
   "metadata": {
    "label": "Introduction"
   },
   "source": [
    "## Introduction"
   ]
  },
  {
   "cell_type": "markdown",
   "metadata": {},
   "source": [
    "In this practical we will\n",
    " \n",
    "  * translate from mathematics to Python function definitions \n",
    "  \n",
    "\n",
    "### Mathematics Concepts\n",
    "\n",
    " * Functions\n",
    "\n",
    "\n",
    "### Python Syntax/Modules/Commands\n",
    "\n",
    " * Defining functions\n",
    " * Lists\n",
    "\n"
   ]
  },
  {
   "cell_type": "markdown",
   "metadata": {},
   "source": [
    "## Questions"
   ]
  },
  {
   "cell_type": "markdown",
   "metadata": {},
   "source": [
    "### The Collatz function"
   ]
  },
  {
   "cell_type": "markdown",
   "metadata": {},
   "source": [
    "**Question 1**\n",
    "\n",
    "Define the __collatz__ function in python\n",
    "\\\\[\n",
    "        collatz(n) = \\begin{cases} \n",
    "        3n+1 & n\\text{ is odd} \\\\\n",
    "        n/2 & n\\text{ is even}\n",
    "        \\end{cases}\n",
    "\\\\]\n",
    "\n",
    "Two thinge to note:\n",
    "\n",
    " * To perform integer division use need to use __//__ in place of _/_\n",
    " * The input should be an integer, so use assesrions (I will cover this) to check for type"
   ]
  },
  {
   "cell_type": "code",
   "execution_count": 3,
   "metadata": {
    "label": "Q1"
   },
   "outputs": [],
   "source": [
    "# Question 1 \n"
   ]
  },
  {
   "cell_type": "markdown",
   "metadata": {},
   "source": [
    "**Question 2**\n",
    "\n",
    "The __collatz__ function is interesting (well interesting to mathematicians) because it __appears__ that regardless of what number positive integer we start with, if we repeatidly apply the _collatz_ function we eventually hit 1.  This has been tested for starting values up to \\\\(5.8\\times10^{18}\\\\), but is not know whether this is true for all integers.\n",
    "\n",
    "Write function __collatzSequence(n)__ which returns the sequence of outputs from _collatz_ to reach 1.\n",
    "\n",
    "Some example to help develpoment:\n",
    "\n",
    " * _collatzSequence(1) -> [1]_\n",
    " * _collatzSequence(2) -> [2,1]_\n",
    " * _collatzSequence(8) -> [8,4,2,1]_\n",
    " * _collatzSequence(7) -> [7,22,11,34,17,52,26,13,40,20,10,5,16,8,4,2,1]_\n"
   ]
  },
  {
   "cell_type": "code",
   "execution_count": 16,
   "metadata": {
    "label": "Q2"
   },
   "outputs": [],
   "source": [
    "# Question 2\n"
   ]
  },
  {
   "cell_type": "markdown",
   "metadata": {},
   "source": [
    "**Question 3**\n",
    "\n",
    "\n",
    "Write function __collatzLen(n)__ which returns the number of iterations of _collatz_ is needed to reach 1.\n",
    "\n",
    "Some example to help develpoment:\n",
    "\n",
    " * _collatzLen(1) -> 0_\n",
    " * _collatzLen(2) -> 1_\n",
    " * _collatzLen(8) -> 3_ \n",
    " * _collatzLen(7) -> 16_\n",
    "\n"
   ]
  },
  {
   "cell_type": "code",
   "execution_count": 13,
   "metadata": {
    "label": "Q3"
   },
   "outputs": [],
   "source": [
    "# Question 3\n"
   ]
  },
  {
   "cell_type": "markdown",
   "metadata": {},
   "source": [
    "### Prime Numer Generation"
   ]
  },
  {
   "cell_type": "markdown",
   "metadata": {},
   "source": [
    "**Question 4**\n",
    "\n",
    "Write function __isPrime(n)__ which returns __True__ is \\\\(n\\\\) is prime, otherwise ___False.\n",
    "\n",
    "You should verify using assertions that n is a positive integer."
   ]
  },
  {
   "cell_type": "code",
   "execution_count": 17,
   "metadata": {
    "label": "Q4"
   },
   "outputs": [],
   "source": [
    "# Question 4\n"
   ]
  },
  {
   "cell_type": "markdown",
   "metadata": {},
   "source": [
    "**Question 5**\n",
    "\n",
    "Write function __nextPrime(n)__ which returns the next prime after \\\\(n\\\\)."
   ]
  },
  {
   "cell_type": "code",
   "execution_count": 19,
   "metadata": {
    "label": "Q5"
   },
   "outputs": [],
   "source": [
    "# Question 5\n"
   ]
  }
 ],
 "metadata": {
  "kernelspec": {
   "display_name": "Python 3",
   "language": "python",
   "name": "python3"
  },
  "language_info": {
   "codemirror_mode": {
    "name": "ipython",
    "version": 3
   },
   "file_extension": ".py",
   "mimetype": "text/x-python",
   "name": "python",
   "nbconvert_exporter": "python",
   "pygments_lexer": "ipython3",
   "version": "3.6.5"
  },
  "toc": {
   "toc_cell": false,
   "toc_number_sections": true,
   "toc_threshold": 6,
   "toc_window_display": false
  }
 },
 "nbformat": 4,
 "nbformat_minor": 2
}
