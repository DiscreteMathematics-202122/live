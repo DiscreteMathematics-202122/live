{
 "cells": [
  {
   "cell_type": "markdown",
   "metadata": {
    "label": "title"
   },
   "source": [
    "# Practical 07 - Relations and Functions"
   ]
  },
  {
   "cell_type": "markdown",
   "metadata": {
    "label": "setup"
   },
   "source": [
    "## Setup"
   ]
  },
  {
   "cell_type": "code",
   "execution_count": 3,
   "metadata": {
    "label": "bio"
   },
   "outputs": [],
   "source": [
    "# specify your student id and your name, then press Shift+Enter\n",
    "\n",
    "student_id = 'W00000000'\n",
    "student_name = 'Firstname Surname'"
   ]
  },
  {
   "cell_type": "code",
   "execution_count": 4,
   "metadata": {
    "label": "setup"
   },
   "outputs": [
    {
     "data": {
      "text/html": [
       "<script>alert('Make sure to specify your student ID and your name in the Setup section of this notebook.');</script>"
      ],
      "text/plain": [
       "<IPython.core.display.HTML object>"
      ]
     },
     "metadata": {},
     "output_type": "display_data"
    },
    {
     "data": {
      "text/html": [
       "<style>\n",
       "\n",
       "\n",
       "\n",
       "/* counting headers and my styling */\n",
       "\n",
       ".navbar-collapse.collapse {\n",
       "display: block!important;\n",
       "}\n",
       "\n",
       ".navbar-nav>li, .navbar-nav {\n",
       "float: left !important;\n",
       "}\n",
       "\n",
       ".navbar-nav.navbar-right:last-child {\n",
       "margin-right: -15px !important;\n",
       "}\n",
       "\n",
       ".navbar-right {\n",
       "float: right!important;\n",
       "}\n",
       "\n",
       "#notebook_name {\n",
       "    font-weight: 600;\n",
       "}\n",
       "\n",
       "h1 {\n",
       "\ttext-align: center;\n",
       "\tbackground-color: rgba(0,255,1,0.15);\n",
       "\tborder-bottom: 1px solid #cccccc;\n",
       "\tcounter-reset: h2counter;\t\n",
       "}\n",
       "\n",
       "h2 {\n",
       "\ttext-align: center;\n",
       "\twidth: 75%;\n",
       "\tmargin-left: 25%;\n",
       "\tbackground-color: rgba(255,255,1,0.15);\n",
       "\tborder-bottom: 1px solid #cccccc;\n",
       "\tcounter-reset: h3counter;\t\n",
       "}\n",
       "h2:before {\n",
       "\tcounter-increment: h2counter;\n",
       "}\n",
       "\n",
       "h3 {\n",
       "\tborder-bottom: 1px solid #cccccc;\t\n",
       "}\n",
       "h3:before {\n",
       "\tcounter-increment: h3counter;\n",
       "}\n",
       "\n",
       "h4 {\n",
       "\tborder-bottom: 1px solid #cccccc;\t\n",
       "}\n",
       "h4:before {\n",
       "\tcounter-increment: h4counter;\n",
       "}\n",
       " </style>Python practical setup tools version 0.2. See <a target=\"_blank\" href=\"http://kmurphy.bitbucket.io/modules/Discrete_Mathematics/topics/00-Module_Introduction/33-Python_Practicals\">kmurphy.bitbucket.io/modules/Discrete_mathematics</a>"
      ],
      "text/plain": [
       "<IPython.core.display.HTML object>"
      ]
     },
     "execution_count": 4,
     "metadata": {},
     "output_type": "execute_result"
    }
   ],
   "source": [
    "# setup magic, do not edit this! Just press Shift+Enter\n",
    "\n",
    "%matplotlib inline\n",
    "import urllib.request\n",
    "\n",
    "try:\n",
    "    content = urllib.request.urlretrieve (\"http://kmurphy.bitbucket.io/modules/Discrete_Mathematics/files/setup_practical_magic.py\")\n",
    "    exec(open(content[0]).read())\n",
    "except:\n",
    "    from setup_practical_magic import *\n",
    "setup_practical(locals())"
   ]
  },
  {
   "cell_type": "markdown",
   "metadata": {
    "label": "Introduction"
   },
   "source": [
    "## Introduction"
   ]
  },
  {
   "cell_type": "markdown",
   "metadata": {},
   "source": [
    "In this practical we will\n",
    " \n",
    "  * Construct relations and functions and use python to verify their properties\n",
    "\n",
    "### Mathematics Concepts\n",
    "\n",
    " * Properties of relations and functions\n",
    " * A relation is a subset of a cardinal product\n",
    " * A function is a relation where the source and domain are equal and each input have exactly one output.\n",
    "\n",
    "### Python Syntax/Modules/Commands\n",
    "\n",
    " * Defining functions\n",
    " * Using sets to check for duplicates\n",
    " * Using __len__ to check for cardinality.\n"
   ]
  },
  {
   "cell_type": "markdown",
   "metadata": {},
   "source": [
    "**Question 0**\n",
    "\n",
    "To simply matters we will start by defining some sets that will be used in subsequent questions.\n",
    "\n",
    "Define the folowing sets in python\n",
    "\n",
    " * \\\\(A = \\{0,1,\\ldots,20\\}\\\\)"
   ]
  },
  {
   "cell_type": "code",
   "execution_count": 2,
   "metadata": {
    "label": "Q0"
   },
   "outputs": [],
   "source": [
    "# Question 0 \n"
   ]
  },
  {
   "cell_type": "markdown",
   "metadata": {},
   "source": [
    "## Relations"
   ]
  },
  {
   "cell_type": "markdown",
   "metadata": {},
   "source": [
    "**Question 1**\n",
    "\n",
    "Implement the relation \\\\(  R = \\{(x,x^2) \\mid x \\in \\{0,1,2,3,4\\}\\} \\\\) and write code to verify that \\\\(R\\\\) is a subset of \\\\(A\\times A\\\\)."
   ]
  },
  {
   "cell_type": "code",
   "execution_count": 3,
   "metadata": {
    "label": "Q1"
   },
   "outputs": [],
   "source": [
    "# Question 1\n"
   ]
  },
  {
   "cell_type": "markdown",
   "metadata": {},
   "source": [
    "**Question 2**\n",
    "\n",
    "Implement the relation \\\\(  R = \\{(x,x^2) \\mid x \\in \\{0,1,2,3,4,5\\}\\} \\\\) and write code to verify that \\\\(R\\\\) is not a subset of \\\\(A\\times A\\\\).\n",
    "\n",
    "Why is \\\\(R\\\\) not a subset of \\\\(A\\times A\\\\)?"
   ]
  },
  {
   "cell_type": "code",
   "execution_count": 4,
   "metadata": {
    "label": "Q2"
   },
   "outputs": [],
   "source": [
    "# Question 2\n"
   ]
  },
  {
   "cell_type": "markdown",
   "metadata": {},
   "source": [
    "## Functions"
   ]
  },
  {
   "cell_type": "markdown",
   "metadata": {},
   "source": [
    "**Question 3**\n",
    "\n",
    " * Implement the relation \\\\(  R = \\{(x,y) \\mid x,y \\in A, x \\bmod 7 = y \\bmod 5\\} \\\\)\n",
    " * Write code to test whether this relation is a function or not (it isn't)"
   ]
  },
  {
   "cell_type": "code",
   "execution_count": 13,
   "metadata": {
    "label": "Q3"
   },
   "outputs": [],
   "source": [
    "# Question 3\n"
   ]
  },
  {
   "cell_type": "markdown",
   "metadata": {},
   "source": [
    "## Inverse Functions"
   ]
  },
  {
   "cell_type": "markdown",
   "metadata": {},
   "source": [
    "**Question 4**\n",
    "\n",
    "\n",
    "Write code to implement \n",
    "\n",
    " * Function \\\\(f:\\mathrm{R}\\to\\mathrm{R}: x \\mapsto 3x+1 \\\\) \n",
    " * Function \\\\(g:\\mathrm{R}\\to\\mathrm{R}: x \\mapsto (x-1)/3 \\\\) \n",
    "\n",
    "Write code to verify that \\\\(f\\\\) and \\\\(g\\\\) are an inverse function pair.\n"
   ]
  },
  {
   "cell_type": "code",
   "execution_count": 14,
   "metadata": {
    "label": "Q4"
   },
   "outputs": [],
   "source": [
    "# Question 4\n"
   ]
  },
  {
   "cell_type": "markdown",
   "metadata": {},
   "source": [
    "**Question 5**\n",
    "\n",
    "\n",
    "Write code to implement \n",
    "\n",
    " * Function \\\\(f:\\mathrm{N}\\to\\mathrm{R}: x \\mapsto 3x+1 \\\\) \n",
    " * Function \\\\(g:\\mathrm{N}\\to\\mathrm{R}: x \\mapsto (x-1)/3 \\\\) \n",
    "\n",
    "Write code to verify that \\\\(f\\\\) and \\\\(g\\\\) are an inverse function pair.\n"
   ]
  },
  {
   "cell_type": "code",
   "execution_count": 15,
   "metadata": {
    "label": "Q5"
   },
   "outputs": [],
   "source": [
    "# Question 5\n"
   ]
  },
  {
   "cell_type": "markdown",
   "metadata": {},
   "source": [
    "## Optional/Extra Credit --- Harder Problems --- Testing for injective and surjective"
   ]
  },
  {
   "cell_type": "markdown",
   "metadata": {},
   "source": [
    "**Question 10**\n",
    "\n",
    "Implement a function \n",
    "\n",
    "    isFunction(source, target, relation)\n",
    "\n",
    "that returns __True__ if _relation_ is a function from set _source_ to set _target_, otherwise __False__.\n",
    "\n",
    "Hint: You should use answer from question 3 and add extra code to verify other conditions for a functions."
   ]
  },
  {
   "cell_type": "code",
   "execution_count": 8,
   "metadata": {
    "label": "Q10"
   },
   "outputs": [],
   "source": [
    "# answer to Q10\n",
    "def isFunction(source, target, relation):\n",
    "    pass"
   ]
  },
  {
   "cell_type": "markdown",
   "metadata": {},
   "source": [
    "**Question 11**\n",
    "\n",
    "Implement a function \n",
    "\n",
    "    isInjective(target, relation)\n",
    "\n",
    "that returns __True__ if _relation_ is injective to set _target_, otherwise __False__."
   ]
  },
  {
   "cell_type": "code",
   "execution_count": 9,
   "metadata": {
    "label": "Q11"
   },
   "outputs": [],
   "source": [
    "# answer to Q10\n",
    "def isInjective(target, relation):\n",
    "    pass"
   ]
  },
  {
   "cell_type": "markdown",
   "metadata": {},
   "source": [
    "**Question 12**\n",
    "\n",
    "Implement a function \n",
    "\n",
    "    isSurjective(target, relation)\n",
    "\n",
    "that returns __True__ if _relation_ is surjective to set _target_, otherwise __False__."
   ]
  },
  {
   "cell_type": "code",
   "execution_count": 10,
   "metadata": {
    "label": "Q12"
   },
   "outputs": [],
   "source": [
    "# answer to Q12\n",
    "def isSurjective(target, relation):\n",
    "    pass"
   ]
  },
  {
   "cell_type": "code",
   "execution_count": null,
   "metadata": {
    "collapsed": true
   },
   "outputs": [],
   "source": []
  }
 ],
 "metadata": {
  "kernelspec": {
   "display_name": "Python 3",
   "language": "python",
   "name": "python3"
  },
  "language_info": {
   "codemirror_mode": {
    "name": "ipython",
    "version": 3
   },
   "file_extension": ".py",
   "mimetype": "text/x-python",
   "name": "python",
   "nbconvert_exporter": "python",
   "pygments_lexer": "ipython3",
   "version": "3.6.5"
  },
  "toc": {
   "toc_cell": false,
   "toc_number_sections": true,
   "toc_threshold": 6,
   "toc_window_display": false
  }
 },
 "nbformat": 4,
 "nbformat_minor": 2
}
