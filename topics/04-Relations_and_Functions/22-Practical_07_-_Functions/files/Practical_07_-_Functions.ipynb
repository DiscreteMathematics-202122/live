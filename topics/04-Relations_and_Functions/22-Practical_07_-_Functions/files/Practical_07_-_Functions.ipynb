{
 "cells": [
  {
   "cell_type": "markdown",
   "metadata": {
    "id": "Dajafvz5obcM",
    "label": "title"
   },
   "source": [
    "# Practical 07 &mdash; Functions"
   ]
  },
  {
   "cell_type": "markdown",
   "metadata": {
    "id": "dGUHvpDUobcN",
    "label": "setup"
   },
   "source": [
    "## Setup"
   ]
  },
  {
   "cell_type": "code",
   "execution_count": 1,
   "metadata": {
    "cellView": "form",
    "execution": {
     "iopub.execute_input": "2020-12-03T00:44:42.767299Z",
     "iopub.status.busy": "2020-12-03T00:44:42.766557Z",
     "iopub.status.idle": "2020-12-03T00:44:42.770348Z",
     "shell.execute_reply": "2020-12-03T00:44:42.769416Z"
    },
    "id": "CXsnfskuobcN",
    "label": "bio"
   },
   "outputs": [],
   "source": [
    "#@markdown **Please enter your following details and press Shift-Enter to save:**\n",
    "your_student_number = '' #@param {type: \"string\"}\n",
    "your_name = '' #@param {type: \"string\"}"
   ]
  },
  {
   "cell_type": "code",
   "execution_count": 2,
   "metadata": {
    "execution": {
     "iopub.execute_input": "2020-12-03T00:44:42.779190Z",
     "iopub.status.busy": "2020-12-03T00:44:42.776937Z",
     "iopub.status.idle": "2020-12-03T00:44:46.637905Z",
     "shell.execute_reply": "2020-12-03T00:44:46.638342Z"
    },
    "id": "gI-1sOMPobcN",
    "label": "setup"
   },
   "outputs": [
    {
     "name": "stdout",
     "output_type": "stream",
     "text": [
      "Loading ... \n"
     ]
    },
    {
     "data": {
      "text/html": [
       "<h2>Warning: Please enter your student number and name in the cells above and click on the arrow on top-left or Shift+Enter to save data.</h2>"
      ],
      "text/plain": [
       "<IPython.core.display.HTML object>"
      ]
     },
     "execution_count": 1,
     "metadata": {},
     "output_type": "execute_result"
    }
   ],
   "source": [
    "# setup magic, do not edit this cell! Just press Shift+Enter or click on arrow at top-left\n",
    "\n",
    "import urllib.request\n",
    "content = urllib.request.urlretrieve (\"http://discretemathematics-202122.github.io/live/resources/setup_practical_magic.py\")\n",
    "exec(open(content[0]).read())\n",
    "setup_practical(locals())"
   ]
  },
  {
   "cell_type": "markdown",
   "metadata": {
    "id": "gIumxI6cobcN",
    "label": "Introduction"
   },
   "source": [
    "---\n",
    "## Introduction\n",
    "\n",
    "In this practical we will implement functions in python and use python to verify their properties"
   ]
  },
  {
   "cell_type": "markdown",
   "metadata": {
    "id": "33Q2c3APobcN"
   },
   "source": [
    "### Mathematics Concepts\n",
    "\n",
    " * Functions\n",
    " * Prime numbers"
   ]
  },
  {
   "cell_type": "markdown",
   "metadata": {
    "id": "0vNLy3ZBobcO"
   },
   "source": [
    "### Python Concepts\n",
    "\n",
    " * Using assertions to verify function inputs.\n",
    " * \"Automatic\" testing of functions against known (simple) examples."
   ]
  },
  {
   "cell_type": "markdown",
   "metadata": {
    "id": "gE6P3C-VobcO"
   },
   "source": [
    "---\n",
    "## The Collatz function\n",
    "\n",
    "The [Collatz](https://en.wikipedia.org/wiki/Collatz_conjecture) function is the multi-rule function \n",
    "$$\n",
    "        \\mathrm{collatz}(n) = \\begin{cases} \n",
    "        3n+1 & n\\text{ is odd} \\\\\n",
    "        n/2 & n\\text{ is even}\n",
    "        \\end{cases}\n",
    "$$\n",
    "where different rules are applied based on whether the input is odd or is even.\n",
    "\n",
    "What make this function interesting is that, if we start with a positive integer, and apply the function over and over again, we get a sequence of integers that __appear__ to end up at 1.\n",
    "\n",
    "For example, \n",
    "\n",
    " * Starting with $n = 12$, we get the sequence \n",
    "$$\n",
    "12, 6, 3, 10, 5, 16, 8, 4, 2, 1.\n",
    "$$\n",
    " * Starting with $n = 7$, we get the longer sequence \n",
    "$$\n",
    "7,22,11,34,17,52,26,13,40,20,10,5,16,8,4,2,1\n",
    "$$\n",
    "\n",
    "However, despite how \"simple\" the Collatz function is, the claim that all starting values will ultimately reach one is unproved. (It has been tested for all integers up to $5.8\\times10^{18}$.)\n",
    "\n",
    "\n",
    " * [The Simple Math Problem We Still Can’t Solve](https://www.quantamagazine.org/why-mathematicians-still-cant-solve-the-collatz-conjecture-20200922/)\n",
    " \n",
    "In today's practical we are going to implement a few functions to help study the Collatz sequence."
   ]
  },
  {
   "cell_type": "markdown",
   "metadata": {
    "id": "t1PZ9jnUobcO"
   },
   "source": [
    "### Question 1\n",
    "\n",
    "Define  function `collatz(n)`, where\n",
    "$$\n",
    "        \\mathrm{collatz}(n) = \\begin{cases} \n",
    "        3n+1 & n\\text{ is odd} \\\\\n",
    "        n/2 & n\\text{ is even}\n",
    "        \\end{cases}\n",
    "$$\n",
    "\n",
    "Things to note:\n",
    "\n",
    " * To perform integer division use need to use __//__ in place of standard float division operator _/_.\n",
    " * The input should be an integer, so use assertions to check for type.\n",
    " * We want to test our function against known results. So before we start coding we list some (simple) examples we use to test out functions. For the `collatz` function we could use examples:\n",
    " \n",
    "   * `collatz(1) = 4`\n",
    "   * `collatz(4) = 2`   \n",
    "   * `collatz(7) = 22`   \n",
    "   \n",
    "\n",
    " * **The testing of our functions is vital**, to the point that there is an entire style of programming called [Test Driven Development](https://medium.com/javascript-scene/tdd-changed-my-life-5af0ce099f80) focused on writing tests before implementing functions. Here we won't do anything fancy &mdash; we will just run a loop to check output of function against expected output.  \n",
    "\n",
    "There is a lot here, so to help you get started we have given you most of the supporting code &mdash; you need to implement the function. \n",
    "\n",
    "In the cell below we have given you the outline of the function, an assertion to verify that the input data was valid, and a loop to check output for the examples listed above.\n",
    "\n",
    "**Note: The is an error in the test code loop which you must also fix.**"
   ]
  },
  {
   "cell_type": "code",
   "execution_count": 3,
   "metadata": {
    "execution": {
     "iopub.execute_input": "2020-12-03T00:44:46.644579Z",
     "iopub.status.busy": "2020-12-03T00:44:46.643958Z",
     "iopub.status.idle": "2020-12-03T00:44:46.647816Z",
     "shell.execute_reply": "2020-12-03T00:44:46.646967Z"
    },
    "id": "atuZEJKEobcO",
    "label": "Q0"
   },
   "outputs": [
    {
     "name": "stdout",
     "output_type": "stream",
     "text": [
      "input = 1\t output = 0\t expected = 4\t Match = False\n",
      "input = 4\t output = 0\t expected = 2\t Match = False\n",
      "input = 7\t output = 0\t expected = 2\t Match = False\n"
     ]
    }
   ],
   "source": [
    "# Question 1\n",
    "\n",
    "# define function \n",
    "def collatz(n):\n",
    "    assert type(n)==int and n>0, f\"Hey, input value ({n}) should be a positive integer!\"\n",
    "    \n",
    "    # TODO - implement function here \n",
    "    \n",
    "    return 0\n",
    "\n",
    "\n",
    "# test our function - want Match=True for all examples \n",
    "for input, expected in [ (1,4), (4,2), (7,2) ]:\n",
    "    output = collatz(input)\n",
    "    print(f\"input = {input}\\t output = {output}\\t expected = {expected}\\t Match = {output==expected}\")\n"
   ]
  },
  {
   "cell_type": "markdown",
   "metadata": {
    "id": "dRvaBCsLobcO"
   },
   "source": [
    "### Question 2\n",
    "\n",
    "Now that we have `collatz` function implemented we next to implement a function, `collatzSequence(n)` which will build up the sequence of outputs until we reach a one.\n",
    "\n",
    "Write function `collatzSequence(n)` which returns the sequence of outputs from `collatz` stopping at 1.\n",
    "\n",
    "Some example to help development:\n",
    "\n",
    " * `collatzSequence(1) = [1]`\n",
    " * `collatzSequence(8) = [8,4,2,1]`\n",
    " * `collatzSequence(12) = [12,6,3,10,5,16,8,4,2,1]`\n",
    "\n",
    "Again, some of the code has been provided "
   ]
  },
  {
   "cell_type": "code",
   "execution_count": 4,
   "metadata": {
    "execution": {
     "iopub.execute_input": "2020-12-03T00:44:46.653442Z",
     "iopub.status.busy": "2020-12-03T00:44:46.652773Z",
     "iopub.status.idle": "2020-12-03T00:44:46.656249Z",
     "shell.execute_reply": "2020-12-03T00:44:46.656907Z"
    }
   },
   "outputs": [
    {
     "name": "stdout",
     "output_type": "stream",
     "text": [
      "input = 1\t output = []\t expected = [1]\t Match = False\n",
      "input = 8\t output = []\t expected = [8, 4, 2, 1]\t Match = False\n",
      "input = 12\t output = []\t expected = [12, 6, 3, 10, 5, 16, 8, 4, 2, 1]\t Match = False\n"
     ]
    }
   ],
   "source": [
    "# Question 2\n",
    "def collatzSequence(n):\n",
    "    \n",
    "    # TODO - assertion needed here \n",
    "\n",
    "    # TODO - implement function\n",
    "    return []\n",
    "\n",
    "# test our function - want Match=True for all examples \n",
    "for input, expected in [ (1,[1]), (8,[8,4,2,1]), (12, [12,6,3,10,5,16,8,4,2,1]) ]:\n",
    "    output = collatzSequence(input)\n",
    "    print(f\"input = {input}\\t output = {output}\\t expected = {expected}\\t Match = {output==expected}\")"
   ]
  },
  {
   "cell_type": "markdown",
   "metadata": {
    "id": "5shfOgLsobcO"
   },
   "source": [
    "### Question 3\n",
    "\n",
    "Write function `collatzLen(n)` which returns the number of iterations of `collatz` is needed to reach 1.\n",
    "\n",
    "Some example to help development:\n",
    "\n",
    " * `collatzLen(1) = 0`\n",
    " * `collatzLen(2) = 1`\n",
    " * `collatzLen(8) = 3` \n",
    " * `collatzLen(7) = 16`\n",
    "\n",
    "You should use the same structure as given in the previous two questions and implement your function in the following steps:\n",
    " * Write the function signature and return a dummy value.\n",
    " * Write the test loop.\n",
    " * Implement the assertions to check for valid input.\n",
    " * __Finally__, implement the function.\n",
    " "
   ]
  },
  {
   "cell_type": "code",
   "execution_count": 5,
   "metadata": {
    "execution": {
     "iopub.execute_input": "2020-12-03T00:44:46.660836Z",
     "iopub.status.busy": "2020-12-03T00:44:46.660294Z",
     "iopub.status.idle": "2020-12-03T00:44:46.662137Z",
     "shell.execute_reply": "2020-12-03T00:44:46.662558Z"
    },
    "id": "zaGBqPjPobcO"
   },
   "outputs": [],
   "source": [
    "# Question 3\n",
    "# TODO - implement function\n",
    "\n",
    "\n",
    "# TODO - implement test code"
   ]
  },
  {
   "cell_type": "markdown",
   "metadata": {
    "id": "HL31e30KobcO"
   },
   "source": [
    "---\n",
    "## Prime Number Generation\n",
    "\n",
    "Recall, a __prime number__ is a positive integer bigger than 1, with only two factors &mdash; itself and one.\n",
    "\n",
    "There are many ways to determine whether a given number is prime. The simplest, for small numbers is to check if any integer from 2 (inclusive) up to the number (exclusive) divides evenly. Once one divisor is found we know the number is not a prime and we can stop searching.  \n",
    "\n",
    "Hints:\n",
    "\n",
    " * Our divisor does not have to go up as far as $n$.\n",
    " * To use square root, you first need to import the math module using `import math`."
   ]
  },
  {
   "cell_type": "markdown",
   "metadata": {
    "id": "miGSbNwvobcO"
   },
   "source": [
    "### Question 4\n",
    "\n",
    "Write function `isPrime(n)` which returns `True` if $n$ is prime, otherwise `False`.\n",
    "\n",
    "You should verify using assertions that $n$ is a positive integer.\n",
    "\n",
    "Again, some example you should test against\n",
    "\n",
    " * `isPrime(1) = False`\n",
    " * `isPrime(2) = True`\n",
    " * `isPrime(3) = True`\n",
    " * `isPrime(9) = False`\n",
    " * `isPrime(1234321) = False`"
   ]
  },
  {
   "cell_type": "code",
   "execution_count": 6,
   "metadata": {
    "execution": {
     "iopub.execute_input": "2020-12-03T00:44:46.665716Z",
     "iopub.status.busy": "2020-12-03T00:44:46.665127Z",
     "iopub.status.idle": "2020-12-03T00:44:46.667506Z",
     "shell.execute_reply": "2020-12-03T00:44:46.667056Z"
    }
   },
   "outputs": [],
   "source": [
    "# Question 4\n",
    "\n",
    "# TODO - implement function\n",
    "\n",
    "\n",
    "# TODO - implement test code"
   ]
  },
  {
   "cell_type": "markdown",
   "metadata": {
    "id": "1hgcwI-xobcO"
   },
   "source": [
    "### Question 5\n",
    "\n",
    "Write function `nextPrime(n)` which returns the next prime after $n$.\n",
    "\n",
    "Generate (by hand) some simple examples to use in your test loop."
   ]
  },
  {
   "cell_type": "code",
   "execution_count": 7,
   "metadata": {
    "execution": {
     "iopub.execute_input": "2020-12-03T00:44:46.670479Z",
     "iopub.status.busy": "2020-12-03T00:44:46.669911Z",
     "iopub.status.idle": "2020-12-03T00:44:46.671870Z",
     "shell.execute_reply": "2020-12-03T00:44:46.672291Z"
    },
    "id": "W4s5pckBobcP"
   },
   "outputs": [],
   "source": [
    "# Question 5\n",
    "\n",
    "# TODO - implement function\n",
    "\n",
    "\n",
    "# TODO - implement test code"
   ]
  },
  {
   "cell_type": "markdown",
   "metadata": {
    "id": "1hgcwI-xobcO"
   },
   "source": [
    "### Question 6\n",
    "\n",
    "Write function `distanceToNextPrime(n)` which returns $p-n$, where $p$ is the smallest prime greater than $n$.\n",
    "\n",
    "Generate (by hand) some simple examples to use in your test loop."
   ]
  },
  {
   "cell_type": "code",
   "execution_count": 8,
   "metadata": {
    "execution": {
     "iopub.execute_input": "2020-12-03T00:44:46.675200Z",
     "iopub.status.busy": "2020-12-03T00:44:46.674678Z",
     "iopub.status.idle": "2020-12-03T00:44:46.677245Z",
     "shell.execute_reply": "2020-12-03T00:44:46.676730Z"
    },
    "id": "W4s5pckBobcP"
   },
   "outputs": [],
   "source": [
    "# Question 6\n",
    "\n",
    "# TODO - implement function\n",
    "\n",
    "\n",
    "# TODO - implement test code"
   ]
  },
  {
   "cell_type": "markdown",
   "metadata": {
    "id": "1hgcwI-xobcO"
   },
   "source": [
    "### Question 7\n",
    "\n",
    "Write function `distanceToPreviousPrime(n)` which returns $n-p$, where $p$ is the largest prime smaller than $n$.\n",
    "\n",
    "Note: $n$ must be bigger than 2.\n",
    "\n",
    "Generate (by hand) some simple examples to use in your test loop."
   ]
  },
  {
   "cell_type": "code",
   "execution_count": 9,
   "metadata": {
    "execution": {
     "iopub.execute_input": "2020-12-03T00:44:46.680407Z",
     "iopub.status.busy": "2020-12-03T00:44:46.679864Z",
     "iopub.status.idle": "2020-12-03T00:44:46.683080Z",
     "shell.execute_reply": "2020-12-03T00:44:46.682191Z"
    },
    "id": "W4s5pckBobcP"
   },
   "outputs": [],
   "source": [
    "# Question 7\n",
    "\n",
    "# TODO - implement function\n",
    "\n",
    "\n",
    "# TODO - implement test code"
   ]
  },
  {
   "cell_type": "markdown",
   "metadata": {
    "id": "1hgcwI-xobcO"
   },
   "source": [
    "### Question 8\n",
    "\n",
    "Write function `nearestPrime(n)` which returns $p$, where $p$ is $n$ if $n$ is prime, otherwise it is the prime closest to $n$. In the case of a tie, return the smaller prime.\n",
    "\n",
    "\n",
    "Note: Input $n$ must a positive integer\n",
    "\n",
    "Generate (by hand) some simple examples to use in your test loop."
   ]
  },
  {
   "cell_type": "code",
   "execution_count": 10,
   "metadata": {
    "execution": {
     "iopub.execute_input": "2020-12-03T00:44:46.687331Z",
     "iopub.status.busy": "2020-12-03T00:44:46.686728Z",
     "iopub.status.idle": "2020-12-03T00:44:46.689465Z",
     "shell.execute_reply": "2020-12-03T00:44:46.688935Z"
    },
    "id": "W4s5pckBobcP"
   },
   "outputs": [],
   "source": [
    "# Question 8\n",
    "\n",
    "# TODO - implement function\n",
    "\n",
    "\n",
    "# TODO - implement test code"
   ]
  },
  {
   "cell_type": "markdown",
   "metadata": {
    "id": "Fupb7zMXobcQ"
   },
   "source": [
    "---\n",
    "## Review/Feedback (P07)"
   ]
  },
  {
   "cell_type": "code",
   "execution_count": 11,
   "metadata": {
    "cellView": "form",
    "execution": {
     "iopub.execute_input": "2020-12-03T00:44:46.693886Z",
     "iopub.status.busy": "2020-12-03T00:44:46.693334Z",
     "iopub.status.idle": "2020-12-03T00:44:46.696469Z",
     "shell.execute_reply": "2020-12-03T00:44:46.695820Z"
    },
    "id": "2TW5QrGFobcQ"
   },
   "outputs": [],
   "source": [
    "#@markdown This a a short questionnaire for you to provide feedback on how you think the semester is progressing and in particular for __Discrete Mathematics__, how easy/difficult, interesting/boring, useful/confusing you find the material. By completing the following you will help us improve our delivery.<br />Please enter your feedback and click on arrow at top-left to save. \n",
    "\n",
    "#@markdown **This practical**\n",
    "\n",
    "#@markdown How difficult did you find this practical?\n",
    "practical_difficulty = 'No opinion' #@param ['No opinion', \"Too easy', 'Easy', 'About right', 'Some bits were hard but overall it was doable', 'Too difficult', 'Impossible']\n",
    "\n",
    "#@markdown Including online session time, how long (in minutes) did it take for you to finish this practical?\n",
    "practical_duration = 0 #@param {type: \"number\"}\n",
    "\n",
    "#@markdown **This week's material**\n",
    "\n",
    "#@markdown How difficult did you find each of the following this week?\n",
    "lecture_difficulty = 'No opinion' #@param ['No opinion', \"Too easy', 'Easy', 'About right', 'Some bits were hard but overall it was doable', 'Too difficult', 'Impossible']\n",
    "\n",
    "tutorial_questions_difficulty = 'No opinion' #@param ['No opinion', \"Too easy', 'Easy', 'About right', 'Some bits were hard but overall it was doable', 'Too difficult', 'Impossible']\n",
    "\n",
    "#@markdown Use the line below to enter any comments &mdash; what you liked, what you did not like. Again all feedback is welcome.\n",
    "general_comment = \"\" #@param {type: \"string\"}"
   ]
  }
 ],
 "metadata": {
  "colab": {
   "name": "DM_P07_-_Functions.ipynb",
   "provenance": []
  },
  "kernelspec": {
   "display_name": "Python 3",
   "language": "python",
   "name": "python3"
  },
  "language_info": {
   "codemirror_mode": {
    "name": "ipython",
    "version": 3
   },
   "file_extension": ".py",
   "mimetype": "text/x-python",
   "name": "python",
   "nbconvert_exporter": "python",
   "pygments_lexer": "ipython3",
   "version": "3.9.0"
  },
  "toc": {
   "toc_cell": false,
   "toc_number_sections": true,
   "toc_threshold": 6,
   "toc_window_display": false
  },
  "toc-autonumbering": false
 },
 "nbformat": 4,
 "nbformat_minor": 4
}
