{
 "cells": [
  {
   "cell_type": "markdown",
   "metadata": {},
   "source": [
    "# Practical 01 - Introduction to Python"
   ]
  },
  {
   "cell_type": "markdown",
   "metadata": {},
   "source": [
    "## Setup"
   ]
  },
  {
   "cell_type": "code",
   "execution_count": 1,
   "metadata": {
    "slideshow": {
     "slide_type": "-"
    }
   },
   "outputs": [],
   "source": [
    "# specify your student id and your name, then press Shift+Enter\n",
    "\n",
    "student_id = 'W00000000'\n",
    "student_name = 'Firstname Surname'"
   ]
  },
  {
   "cell_type": "code",
   "execution_count": 2,
   "metadata": {},
   "outputs": [
    {
     "data": {
      "text/html": [
       "<script>alert('Make sure to specify your student ID and your name in the Setup section of this notebook.');</script>"
      ],
      "text/plain": [
       "<IPython.core.display.HTML object>"
      ]
     },
     "metadata": {},
     "output_type": "display_data"
    },
    {
     "data": {
      "text/html": [
       "<style>\n",
       "\n",
       "\n",
       "\n",
       "/* counting headers and my styling */\n",
       "\n",
       ".navbar-collapse.collapse {\n",
       "display: block!important;\n",
       "}\n",
       "\n",
       ".navbar-nav>li, .navbar-nav {\n",
       "float: left !important;\n",
       "}\n",
       "\n",
       ".navbar-nav.navbar-right:last-child {\n",
       "margin-right: -15px !important;\n",
       "}\n",
       "\n",
       ".navbar-right {\n",
       "float: right!important;\n",
       "}\n",
       "\n",
       "#notebook_name {\n",
       "    font-weight: 600;\n",
       "}\n",
       "\n",
       "h1 {\n",
       "\ttext-align: center;\n",
       "\tbackground-color: rgba(0,255,1,0.15);\n",
       "\tborder-bottom: 1px solid #cccccc;\n",
       "\tcounter-reset: h2counter;\t\n",
       "}\n",
       "\n",
       "h2 {\n",
       "\ttext-align: center;\n",
       "\twidth: 75%;\n",
       "\tmargin-left: 25%;\n",
       "\tbackground-color: rgba(255,255,1,0.15);\n",
       "\tborder-bottom: 1px solid #cccccc;\n",
       "\tcounter-reset: h3counter;\t\n",
       "}\n",
       "h2:before {\n",
       "\tcounter-increment: h2counter;\n",
       "}\n",
       "\n",
       "h3 {\n",
       "\tborder-bottom: 1px solid #cccccc;\t\n",
       "}\n",
       "h3:before {\n",
       "\tcounter-increment: h3counter;\n",
       "}\n",
       "\n",
       "h4 {\n",
       "\tborder-bottom: 1px solid #cccccc;\t\n",
       "}\n",
       "h4:before {\n",
       "\tcounter-increment: h4counter;\n",
       "}\n",
       " </style>Python practical setup tools version 0.2. See <a target=\"_blank\" href=\"http://kmurphy.bitbucket.io/modules/Discrete_Mathematics/topics/00-Module_Introduction/33-Python_Practicals\">kmurphy.bitbucket.io/modules/Discrete_mathematics</a>"
      ],
      "text/plain": [
       "<IPython.core.display.HTML object>"
      ]
     },
     "execution_count": 2,
     "metadata": {},
     "output_type": "execute_result"
    }
   ],
   "source": [
    "# setup magic, do not edit this! Just press Shift+Enter\n",
    "\n",
    "%matplotlib inline\n",
    "import urllib.request\n",
    "content = urllib.request.urlretrieve (\"http://kmurphy.bitbucket.io/modules/Discrete_Mathematics/files/setup_practical_magic.py\")\n",
    "exec(open(content[0]).read())\n",
    "setup_practical(locals())"
   ]
  },
  {
   "cell_type": "markdown",
   "metadata": {},
   "source": [
    "## Introduction"
   ]
  },
  {
   "cell_type": "markdown",
   "metadata": {},
   "source": [
    "In this practical we will\n",
    " \n",
    "  * Introduce the Python programming language and the Jupyter interface for interactive programming.\n",
    "  * Cover the procedure used for downloading practical notebooks and for uploading completed notebooks to \n",
    "  [moodle](https://moodle.wit.ie/course/view.php?id=120068)\n",
    "\n",
    "\n",
    "### Mathematics Concepts\n",
    "\n",
    " * None, this practical session is all about getting used to Python and the Jupyter notebook \n",
    "\n",
    "\n",
    "### Python Syntax/Modules/Commands\n",
    "\n",
    " * Evaluating/executing cells.\n",
    " * Difference between **Markdown** and **Code** cells.\n",
    " \n",
    " "
   ]
  },
  {
   "cell_type": "markdown",
   "metadata": {},
   "source": [
    "## Using Python as a Calculator \n",
    "\n",
    "We can use python as an expensive calculator ... in each of the following exercises follow the instructions and use Shift+Enter to evaluate/run."
   ]
  },
  {
   "cell_type": "markdown",
   "metadata": {},
   "source": [
    "**Question 1** (standard arithmetic operations)\n",
    "\n",
    "Evaluate the expression:  \\\\(2+3*5\\\\)\n",
    "\n",
    "_Notes:_\n",
    " \n",
    " * The four standard arithmetic operations \\\\(+,-,*,/\\\\) and the use of parenthesis are supported in python, \n",
    " * Standard BOMDAS rules for the order of operations apply. \n",
    " * The `#` character is used to mark the start of a comment."
   ]
  },
  {
   "cell_type": "code",
   "execution_count": 3,
   "metadata": {
    "code_folding": []
   },
   "outputs": [],
   "source": [
    "# Question 1\n"
   ]
  },
  {
   "cell_type": "markdown",
   "metadata": {},
   "source": [
    "**Question 2** (powers)\n",
    "\n",
    "Evaluate the expression:  \\\\(2^{1000}\\\\).\n",
    "\n",
    "Notes:\n",
    "\n",
    " * Python supports arbitrary large numbers. \n",
    " * To get powers in python use `**`.  So while in math we \\\\(2^8\\\\), in python we write `2**8`"
   ]
  },
  {
   "cell_type": "code",
   "execution_count": 4,
   "metadata": {},
   "outputs": [],
   "source": [
    "# Question 2\n"
   ]
  },
  {
   "cell_type": "markdown",
   "metadata": {},
   "source": [
    "**Question 3** (Integer division and reminder)\n",
    "\n",
    "Evaluate the expression:  \\\\(13 \\bmod 5\\\\).\n",
    "\n",
    "Notes:\n",
    "\n",
    " * The modules operator returns the reminder on division, it is written as `%` in python.\n",
    " * The integer division in python is written using `//` as in `13//5=2`."
   ]
  },
  {
   "cell_type": "code",
   "execution_count": 5,
   "metadata": {},
   "outputs": [],
   "source": [
    "# Question 3\n"
   ]
  },
  {
   "cell_type": "markdown",
   "metadata": {},
   "source": [
    "## Extra - A Python Playground\n",
    "\n",
    "In this section we will demonstrate some of the features of python and Jupyter notebooks. "
   ]
  },
  {
   "cell_type": "code",
   "execution_count": null,
   "metadata": {},
   "outputs": [],
   "source": []
  }
 ],
 "metadata": {
  "kernelspec": {
   "display_name": "Python 3",
   "language": "python",
   "name": "python3"
  },
  "language_info": {
   "codemirror_mode": {
    "name": "ipython",
    "version": 3
   },
   "file_extension": ".py",
   "mimetype": "text/x-python",
   "name": "python",
   "nbconvert_exporter": "python",
   "pygments_lexer": "ipython3",
   "version": "3.6.5"
  },
  "toc": {
   "toc_cell": false,
   "toc_number_sections": true,
   "toc_threshold": 6,
   "toc_window_display": false
  },
  "widgets": {
   "application/vnd.jupyter.widget-state+json": {
    "state": {},
    "version_major": 2,
    "version_minor": 0
   }
  }
 },
 "nbformat": 4,
 "nbformat_minor": 2
}
