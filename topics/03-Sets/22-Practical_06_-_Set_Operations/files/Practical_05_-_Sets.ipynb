{
 "cells": [
  {
   "cell_type": "markdown",
   "metadata": {
    "label": "title"
   },
   "source": [
    "# Practical 05 - Sets"
   ]
  },
  {
   "cell_type": "markdown",
   "metadata": {
    "label": "setup"
   },
   "source": [
    "## Setup"
   ]
  },
  {
   "cell_type": "code",
   "execution_count": 1,
   "metadata": {
    "label": "bio"
   },
   "outputs": [],
   "source": [
    "# specify your student id and your name, then press Shift+Enter\n",
    "\n",
    "student_id = 'W00000000'\n",
    "student_name = 'Firstname Surname'"
   ]
  },
  {
   "cell_type": "code",
   "execution_count": 3,
   "metadata": {
    "label": "setup"
   },
   "outputs": [
    {
     "data": {
      "text/html": [
       "<script>alert('Make sure to specify your student ID and your name in the Setup section of this notebook.');</script>"
      ],
      "text/plain": [
       "<IPython.core.display.HTML object>"
      ]
     },
     "metadata": {},
     "output_type": "display_data"
    },
    {
     "data": {
      "text/html": [
       "<style>\n",
       "\n",
       "\n",
       "\n",
       "/* counting headers and my styling */\n",
       "\n",
       ".navbar-collapse.collapse {\n",
       "display: block!important;\n",
       "}\n",
       "\n",
       ".navbar-nav>li, .navbar-nav {\n",
       "float: left !important;\n",
       "}\n",
       "\n",
       ".navbar-nav.navbar-right:last-child {\n",
       "margin-right: -15px !important;\n",
       "}\n",
       "\n",
       ".navbar-right {\n",
       "float: right!important;\n",
       "}\n",
       "\n",
       "#notebook_name {\n",
       "    font-weight: 600;\n",
       "}\n",
       "\n",
       "h1 {\n",
       "\ttext-align: center;\n",
       "\tbackground-color: rgba(0,255,1,0.15);\n",
       "\tborder-bottom: 1px solid #cccccc;\n",
       "\tcounter-reset: h2counter;\t\n",
       "}\n",
       "\n",
       "h2 {\n",
       "\ttext-align: center;\n",
       "\twidth: 75%;\n",
       "\tmargin-left: 25%;\n",
       "\tbackground-color: rgba(255,255,1,0.15);\n",
       "\tborder-bottom: 1px solid #cccccc;\n",
       "\tcounter-reset: h3counter;\t\n",
       "}\n",
       "h2:before {\n",
       "\tcounter-increment: h2counter;\n",
       "}\n",
       "\n",
       "h3 {\n",
       "\tborder-bottom: 1px solid #cccccc;\t\n",
       "}\n",
       "h3:before {\n",
       "\tcounter-increment: h3counter;\n",
       "}\n",
       "\n",
       "h4 {\n",
       "\tborder-bottom: 1px solid #cccccc;\t\n",
       "}\n",
       "h4:before {\n",
       "\tcounter-increment: h4counter;\n",
       "}\n",
       " </style>Python practical setup tools version 0.2. See <a target=\"_blank\" href=\"http://kmurphy.bitbucket.io/modules/Discrete_Mathematics/topics/00-Module_Introduction/33-Python_Practicals\">kmurphy.bitbucket.io/modules/Discrete_mathematics</a>"
      ],
      "text/plain": [
       "<IPython.core.display.HTML object>"
      ]
     },
     "execution_count": 3,
     "metadata": {},
     "output_type": "execute_result"
    }
   ],
   "source": [
    "# setup magic, do not edit this! Just press Shift+Enter\n",
    "\n",
    "%matplotlib inline\n",
    "import urllib.request\n",
    "\n",
    "try:\n",
    "    content = urllib.request.urlretrieve (\"http://kmurphy.bitbucket.io/modules/Discrete_Mathematics/files/setup_practical_magic.py\")\n",
    "    exec(open(content[0]).read())\n",
    "except:\n",
    "    from setup_practical_magic import *\n",
    "setup_practical(locals())"
   ]
  },
  {
   "cell_type": "markdown",
   "metadata": {
    "label": "Introduction"
   },
   "source": [
    "## Introduction"
   ]
  },
  {
   "cell_type": "markdown",
   "metadata": {},
   "source": [
    "In this practical we will\n",
    " \n",
    "  * Demonstrate the Python implementation of sets\n",
    "  * Builder notation in Python\n",
    "  \n",
    "In the next practical (__Sets Operations and Relations__) we will cover\n",
    "\n",
    "  * Determine relationship between sets (subset, etc.)\n",
    "  * Demonstrate set operations (union, intersection, etc.)\n",
    "  * Prove set identities using membership tables.\n",
    "\n",
    "\n",
    "### Mathematics Concepts\n",
    "\n",
    " * Sets, definition and membership  \\\\(\\in\\\\) vs \\\\(\\notin\\\\)\n",
    " * Builder notation\n",
    " \n",
    "### Python Syntax/Modules/Commands\n",
    "\n",
    " * Create an empty set: __set()__ \n",
    " * Define a set by listing its elements.\n",
    " * Check for membership, using __in__ operator.\n",
    " * Generating a sequence using __range__\n",
    " \n",
    " "
   ]
  },
  {
   "cell_type": "markdown",
   "metadata": {},
   "source": [
    "## Defining Sets and Membership\n",
    "\n",
    "Define an empty set using  \n",
    "\n",
    "~~~.python\n",
    "a = set()\n",
    "~~~\n",
    "\n",
    "Then add element __3__ to the set using \n",
    "\n",
    "~~~.python\n",
    "a.add(3)\n",
    "~~~\n",
    "\n",
    "and check for membership using __in__ as \n",
    "\n",
    "~~~.python\n",
    "4 in a \n",
    "~~~"
   ]
  },
  {
   "cell_type": "markdown",
   "metadata": {},
   "source": [
    "**Example 1**\n",
    "\n",
    "Write code to \n",
    "\n",
    " * create a empty set, \n",
    " * add the numbers 1, 4 and 5 to it.\n",
    " * check if 2 is a member of the set."
   ]
  },
  {
   "cell_type": "code",
   "execution_count": 15,
   "metadata": {},
   "outputs": [
    {
     "data": {
      "text/plain": [
       "False"
      ]
     },
     "execution_count": 15,
     "metadata": {},
     "output_type": "execute_result"
    }
   ],
   "source": [
    "a = set()\n",
    "a.add(1)\n",
    "a.add(4)\n",
    "a.add(5)\n",
    "2 in a"
   ]
  },
  {
   "cell_type": "markdown",
   "metadata": {},
   "source": [
    "### Exercises"
   ]
  },
  {
   "cell_type": "markdown",
   "metadata": {},
   "source": [
    "**Question 1**\n",
    "\n",
    "Write code to \n",
    "\n",
    " * create a empty set. \n",
    " * add the letters 'a', 'b' and 'g' to it.\n",
    " * check if 'g' is a member of the set."
   ]
  },
  {
   "cell_type": "code",
   "execution_count": 5,
   "metadata": {
    "label": "Q1"
   },
   "outputs": [],
   "source": [
    "# Quesiton 1\n"
   ]
  },
  {
   "cell_type": "markdown",
   "metadata": {},
   "source": [
    "**Question 2**\n",
    "\n",
    "Write code to \n",
    "\n",
    " * Create a set containing the primes less than 50.\n",
    " * Determine how many primes are less than 50 using the __len__ function."
   ]
  },
  {
   "cell_type": "code",
   "execution_count": 19,
   "metadata": {
    "label": "Q2"
   },
   "outputs": [],
   "source": [
    "# Quesiton 2\n"
   ]
  },
  {
   "cell_type": "markdown",
   "metadata": {
    "label": "Q1"
   },
   "source": [
    "## Generating Larger Sets using Range Function\n",
    "\n",
    "The adding of individual elements that we did above is painful.  It would make life easier if we have a simple function to generate sequences of numbers satisfying a pattern.  The Python function __range__ does exactly that - all we need do is convert the sequence to a set using __set__ function. For example\n",
    "\n",
    "Set containing integers from 0 to 10, including 0 and excluding 10.\n",
    "\n",
    "~~~.python\n",
    "set(range(10))\n",
    "~~~\n",
    "\n",
    "Set containing integers from 3 to 10, including 3 and excluding 10.\n",
    "\n",
    "~~~.python\n",
    "set(range(3,10))\n",
    "~~~    \n",
    "\n",
    "Set containing integers from 3 to 10, including 3 and excluding 10, in steps of 2. So 3,5,7,9\n",
    "\n",
    "~~~.python\n",
    "set(range(3,10,2))\n",
    "~~~    "
   ]
  },
  {
   "cell_type": "markdown",
   "metadata": {},
   "source": [
    "### Exercises"
   ]
  },
  {
   "cell_type": "markdown",
   "metadata": {},
   "source": [
    "**Question 3**\n",
    "\n",
    "Write code to generate set of all odd positive integers less than 10"
   ]
  },
  {
   "cell_type": "code",
   "execution_count": 18,
   "metadata": {
    "label": "Q3"
   },
   "outputs": [],
   "source": [
    "# Quesiton 3\n"
   ]
  },
  {
   "cell_type": "markdown",
   "metadata": {},
   "source": [
    "**Question 4**\n",
    "\n",
    "Write code to generate a set of multiples of 17 between 0 and 1000 inclusive, and determine how many elements in the set."
   ]
  },
  {
   "cell_type": "code",
   "execution_count": 14,
   "metadata": {
    "label": "Q4"
   },
   "outputs": [],
   "source": [
    "# Quesiton 4\n"
   ]
  },
  {
   "cell_type": "markdown",
   "metadata": {},
   "source": [
    "## Generating Sets using Builder Notation\n",
    "\n",
    "We covered the builder notation in class\n",
    "\\\\[\n",
    "    A = \\{\\text{pattern} \\mid \\text{rule} \\}\n",
    "\\\\]\n",
    "For example the set of positive odd numbers less than 100 was \n",
    "\\\\[\n",
    "    A = \\{x \\mid x=2k+1, 0<x<100, k\\in \\mathbb{N} \\}\n",
    "\\\\]\n",
    "which is same as \n",
    "\\\\[\n",
    "    A = \\{2k+1 \\mid 0\\le k<49, k\\in \\mathbb{N} \\}\n",
    "\\\\]\n",
    "\n",
    "In python we implement this using \n",
    "\n",
    "~~~.python\n",
    "set(2*k+1 for k in range(49))\n",
    "~~~\n",
    "or more simply \n",
    "\n",
    "~~~.python\n",
    "{2*k+1 for k in range(49)}\n",
    "~~~\n",
    "\n",
    "Alternatively we can use step=2 in range \n",
    "\n",
    "~~~.python\n",
    "{k for k in range(1,100,2)}\n",
    "~~~\n",
    "\n",
    "Alternatively we can filter out the even numbers using \n",
    "\n",
    "\n",
    "~~~.python\n",
    "{k for k in range(1,100) if k%2==1}\n",
    "~~~\n",
    "\n",
    "Note here __k%2__ gives the remainder of dividing k by 2."
   ]
  },
  {
   "cell_type": "markdown",
   "metadata": {},
   "source": [
    "### Exercises"
   ]
  },
  {
   "cell_type": "markdown",
   "metadata": {},
   "source": [
    "**Question 5**\n",
    "\n",
    "Write code to generate a set of positive integers less than 1000 that are multiples of 3. Output the number of elements in the set."
   ]
  },
  {
   "cell_type": "code",
   "execution_count": 9,
   "metadata": {
    "label": "Q5"
   },
   "outputs": [],
   "source": [
    "# Quesiton 5\n"
   ]
  },
  {
   "cell_type": "markdown",
   "metadata": {},
   "source": [
    "**Question 6**\n",
    "\n",
    "Write code to generate a set of positive integers less than 1000 that are multiples of 5. Output the number of elements in the set."
   ]
  },
  {
   "cell_type": "code",
   "execution_count": 10,
   "metadata": {
    "label": "Q6"
   },
   "outputs": [],
   "source": [
    "# Quesiton 6\n",
    "\n"
   ]
  },
  {
   "cell_type": "markdown",
   "metadata": {},
   "source": [
    "**Question 7**\n",
    "\n",
    "Write code to generate a set of positive integers less than 1000 that are multiples of 3 and/or multiples of 5. Output the number of elements in the set.\n",
    "\n",
    "Hint: Use a filter (as shown above)"
   ]
  },
  {
   "cell_type": "code",
   "execution_count": 12,
   "metadata": {
    "label": "Q7"
   },
   "outputs": [],
   "source": [
    "# Quesiton 7\n"
   ]
  }
 ],
 "metadata": {
  "kernelspec": {
   "display_name": "Python 3",
   "language": "python",
   "name": "python3"
  },
  "language_info": {
   "codemirror_mode": {
    "name": "ipython",
    "version": 3
   },
   "file_extension": ".py",
   "mimetype": "text/x-python",
   "name": "python",
   "nbconvert_exporter": "python",
   "pygments_lexer": "ipython3",
   "version": "3.6.5"
  },
  "toc": {
   "toc_cell": false,
   "toc_number_sections": true,
   "toc_threshold": 6,
   "toc_window_display": false
  }
 },
 "nbformat": 4,
 "nbformat_minor": 2
}
