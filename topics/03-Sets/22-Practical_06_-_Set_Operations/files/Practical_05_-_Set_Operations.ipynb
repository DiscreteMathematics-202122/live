{
 "cells": [
  {
   "cell_type": "markdown",
   "metadata": {
    "label": "title"
   },
   "source": [
    "# Practical 05 - Set Operations"
   ]
  },
  {
   "cell_type": "markdown",
   "metadata": {
    "label": "setup"
   },
   "source": [
    "## Setup"
   ]
  },
  {
   "cell_type": "code",
   "execution_count": null,
   "metadata": {
    "label": "bio"
   },
   "outputs": [],
   "source": [
    "#@markdown **Please enter your following details and press Shift-Enter to save:**\n",
    "your_student_number = '' #@param {type: \"string\"}\n",
    "your_name = '' #@param {type: \"string\"}"
   ]
  },
  {
   "cell_type": "code",
   "execution_count": null,
   "metadata": {
    "label": "setup"
   },
   "outputs": [],
   "source": [
    "# setup magic, do not edit this cell! Just press Shift+Enter or click on arrow at top-left\n",
    "\n",
    "import urllib.request\n",
    "content = urllib.request.urlretrieve (\"http://discretemathematics-202122.github.io/live/resources/setup_practical_magic.py\")\n",
    "exec(open(content[0]).read())\n",
    "setup_practical(locals())"
   ]
  },
  {
   "cell_type": "markdown",
   "metadata": {
    "label": "Introduction"
   },
   "source": [
    "---\n",
    "## Introduction\n",
    "\n",
    "In this practical we will\n",
    " \n",
    "  * Determine relationship between sets (subset, etc.)\n",
    "  * Demonstrate set operations (union, intersection, etc.)\n",
    "  * Prove set identities using membership tables."
   ]
  },
  {
   "cell_type": "markdown",
   "metadata": {},
   "source": [
    "### Mathematics Concepts\n",
    "\n",
    " * Set relations: subset $\\subseteq$, superset $\\supseteq$\n",
    " * Set operations: intersection $\\cap$, union $\\cup$, set difference $\\setminus$, symmetric difference $\\oplus$."
   ]
  },
  {
   "cell_type": "markdown",
   "metadata": {},
   "source": [
    "### Python Concepts\n",
    "\n",
    " * Set relations: subset  $A \\subseteq B$\n",
    " \n",
    "~~~python\n",
    "    A.issubset(B)\n",
    "~~~\n",
    "\n",
    " * Set relations: subset  $A \\supseteq B$\n",
    " \n",
    "~~~python\n",
    "    A.issuperset(B)\n",
    "~~~\n",
    "\n",
    " * Set operations: intersection $\\cap$\n",
    "\n",
    "~~~python\n",
    "    C = A.intersection(B)\n",
    "~~~\n",
    "\n",
    "\n",
    " * Set operations: union $\\cup$\n",
    "\n",
    "~~~python\n",
    "    C = A.union(B)\n",
    "~~~\n",
    "\n",
    " * Set operations: set difference $A\\setminus B$\n",
    "\n",
    "~~~python\n",
    "    C = A.difference(B)\n",
    "~~~\n",
    "\n",
    " * Set operations: Cartesian product $A\\times B$\n",
    "\n",
    "~~~python\n",
    "    C = { (a,b) for a in A for b in B }\n",
    "~~~\n",
    "\n",
    " * Set operations: Relation, for example \"less than\" \n",
    "\n",
    "~~~python\n",
    "    C = { (a,b) for a in A for b in B if a<b}\n",
    "~~~"
   ]
  },
  {
   "cell_type": "markdown",
   "metadata": {},
   "source": [
    "Finally, remember from last week's practical:\n",
    "\n",
    " * To create an empty set:\n",
    " \n",
    "~~~python\n",
    "    A = set()\n",
    "~~~\n",
    "\n",
    " * Create a set with a given list of elements, say primes less than ten:\n",
    " \n",
    "~~~python\n",
    "   A = set(2,3,5,7)\n",
    "~~~\n",
    "\n",
    " * To print a set, $A$, with a label:\n",
    " \n",
    "~~~python\n",
    "   print(\"A = \", A)\n",
    "~~~\n",
    "\n",
    " * To print the number of elements in a set, $A$, with a label:\n",
    " \n",
    "~~~python\n",
    "   print(\"A = \", len(A))\n",
    "~~~"
   ]
  },
  {
   "cell_type": "markdown",
   "metadata": {},
   "source": [
    "---\n",
    "## Set Operations"
   ]
  },
  {
   "cell_type": "markdown",
   "metadata": {},
   "source": [
    "### Question 1\n",
    "\n",
    "Write code to:\n",
    "\n",
    " * Create set $A$ containg natural numbers up to but not including 20.\n",
    " * Output the set $B$ with a label using `print`.\n",
    " * Create set $B$ containg even natural numbers up to but not including 10.\n",
    " * Output the set $B$ with a label using `print`.\n",
    " * Define set $C=A\\setminus B$.\n",
    " * Output the set $C$ with a label using `print`.\n",
    "\n",
    "\n",
    "Hint: When generating the sets $A$ and $B$, you _could_ list the numbers but try to create set using `range` function or set builder notation."
   ]
  },
  {
   "cell_type": "code",
   "execution_count": null,
   "metadata": {
    "label": "Q1"
   },
   "outputs": [],
   "source": [
    "# Question 1\n"
   ]
  },
  {
   "cell_type": "markdown",
   "metadata": {},
   "source": [
    "### Question 2 (Multiple of 3 and 5)\n",
    "\n",
    "Write code to:\n",
    "\n",
    " * Create set $A$ containing natural numbers up to but not including 100 that are multiples of 3.\n",
    " * Output the set $A$ with a label using `print`.\n",
    " * Create set $B$ containing natural numbers up to but not including 100 that are multiples of 5.\n",
    " * Output the set $B$ with a label using `print`.\n",
    " * Output set $C=A\\cap B$.\n",
    " * Output the set $C$ with a label using `print`.\n"
   ]
  },
  {
   "cell_type": "code",
   "execution_count": null,
   "metadata": {
    "label": "Q2"
   },
   "outputs": [],
   "source": [
    "# Question 2\n"
   ]
  },
  {
   "cell_type": "markdown",
   "metadata": {},
   "source": [
    "### Question 3 (properties of sets)\n",
    "\n",
    "In this question we want to use the `issubset` method that checks the subset property, i.e., $A \\subseteq B$.\n",
    "\n",
    "Write code to:\n",
    "\n",
    " * Create set $A$ containing natural numbers up to but not including 100 that are multiples of 3.\n",
    " * Output the set $A$ with a label using `print`.\n",
    " * Create set $B$ containing natural numbers up to but not including 100 that are multiples of 5.\n",
    " * Output the set $B$ with a label using `print`.\n",
    " * Create set $C$ containing natural numbers up to but not including 100 that are multiples of 15.\n",
    " * Output the set $C$ with a label using `print`.\n",
    " \n",
    "Now, if the sets are constructed correctly we should have $C\\subseteq A$ and $C\\subseteq B$, but $A\\not\\subseteq B$. Let's check this ...\n",
    "\n",
    "To check $C\\subseteq A$ use code\n",
    "~~~python\n",
    "print (\"Is C is a subset of A?\", C.issubset(A))\n",
    "~~~\n",
    "\n",
    "Now, write code to check the truth value of each of the following (and compare the results with your expectations)\n",
    "\n",
    " * $C\\subseteq B$\n",
    " * $A\\subseteq B$\n",
    " * $C\\subseteq C$\n",
    " \n",
    "Why you are checking properties, write python code to check if $C=A \\cap B$. "
   ]
  },
  {
   "cell_type": "code",
   "execution_count": null,
   "metadata": {},
   "outputs": [],
   "source": [
    "# Question 4\n"
   ]
  },
  {
   "cell_type": "markdown",
   "metadata": {},
   "source": [
    "### Question 4 (Counting primes)\n",
    "\n",
    "We want to write code to determine how many primes are less than 100 (answer=25). To do this we create a set $A$ of integers greater than one and less than 100. And then remove, using set minus operation, multiples of 2, multiples of 3, ... up to multiples of 10. \n",
    "\n",
    "Then we determine the size of the resulting set.\n",
    "\n",
    "Write code to:\n",
    "\n",
    " 1. Create set $A$ containing integers, greater than 1, up to but not including 100.\n",
    " 1. Output the set $A$ with a label using `print`.\n",
    " 1. Create set $B$ containing positive integers up to but not including 100 that are multiples of 2.\n",
    " 1. Output the set $A$ with a label using `print`.\n",
    " 1. Remove this from set $A$, and save the result back in to $A$.\n",
    " 1. Repeat for steps 3&ndash;5 with multiples of 3, multiples of 5, etc.\n",
    " \n",
    "Finally\n",
    "\n",
    " 1. Output the size of final set with a label using `print`.\n",
    " \n",
    "Note: You could manually list the numbers 2,3,5,7 for step 3, or you could use the `min` function on the set $A$."
   ]
  },
  {
   "cell_type": "code",
   "execution_count": null,
   "metadata": {
    "label": "Q3"
   },
   "outputs": [],
   "source": [
    "# Question 4\n"
   ]
  },
  {
   "cell_type": "markdown",
   "metadata": {},
   "source": [
    "---\n",
    "## Relations"
   ]
  },
  {
   "cell_type": "markdown",
   "metadata": {},
   "source": [
    "### Question 5\n",
    "\n",
    "Write code to \n",
    "\n",
    " * Create set $A$ containing positive integers up to but not including 5.\n",
    " * Output the set $A$ with a label using `print`.\n",
    " * Create set $B$ containing positive integers up to but not including 17.\n",
    " * Output the set $B$ with a label using `print`.\n",
    " * Create a relation $R$ from $A$ to $B$ where $ (a,b)\\in R$ iff $a^2=b$.\n",
    " * Output the set $B$ with a label using `print`.\n",
    "\n",
    "Finally draw a diagram representing the relation using \n",
    "\n",
    "```python\n",
    "draw_relation(A,B,R)\n",
    "```\n",
    "\n",
    "Remember: To get powers in python use `**`"
   ]
  },
  {
   "cell_type": "code",
   "execution_count": null,
   "metadata": {
    "label": "Q4"
   },
   "outputs": [],
   "source": [
    "# Question 5\n"
   ]
  },
  {
   "cell_type": "markdown",
   "metadata": {},
   "source": [
    "### Question 6\n",
    "\n",
    "\n",
    "Write code to \n",
    "\n",
    " * Create set $A$ containing digits 0 to 9 inclusive.\n",
    " * Output the set $A$ with a label using `print`.\n",
    " * Create set $B$ containing digits 0 to 9 inclusive.\n",
    " * Output the set $B$ with a label using `print`.\n",
    " * Create a relation $R$ from $A$ to $B$ where $ (a,b)\\in R$ iff number of letters in $a$ is the same as the number of letters in $b$ when writing digits in English.\n",
    " * Output the set $B$ with a label using `print`.\n",
    " * Generate relation diagram using `draw_relation(A,B,R)`.\n"
   ]
  },
  {
   "cell_type": "code",
   "execution_count": null,
   "metadata": {
    "label": "Q5"
   },
   "outputs": [],
   "source": [
    "# Question 6"
   ]
  },
  {
   "cell_type": "markdown",
   "metadata": {},
   "source": [
    "---\n",
    "## Review/Feedback (P05)"
   ]
  },
  {
   "cell_type": "code",
   "execution_count": null,
   "metadata": {},
   "outputs": [],
   "source": [
    "#@markdown This a a short questionnaire for you to provide feedback on how you think the semester is progressing and in particular for __Discrete Mathematics__, how easy/difficult, interesting/boring, useful/confusing you find the material. By completing the following you will help us improve our delivery.<br />Please enter your feedback and click on arrow at top-left to save. \n",
    "\n",
    "#@markdown **This practical**\n",
    "\n",
    "#@markdown How difficult did you find this practical?\n",
    "practical_difficulty = 'No opinion' #@param ['No opinion', \"Too easy', 'Easy', 'About right', 'Some bits were hard but overall it was doable', 'Too difficult', 'Impossible']\n",
    "\n",
    "#@markdown Including online session time, how long (in minutes) did it take for you to finish this practical?\n",
    "practical_duration = 0 #@param {type: \"number\"}\n",
    "\n",
    "#@markdown **This week's material**\n",
    "\n",
    "#@markdown How difficult did you find each of the following this week?\n",
    "lecture_difficulty = 'No opinion' #@param ['No opinion', \"Too easy', 'Easy', 'About right', 'Some bits were hard but overall it was doable', 'Too difficult', 'Impossible']\n",
    "\n",
    "tutorial_questions_difficulty = 'No opinion' #@param ['No opinion', \"Too easy', 'Easy', 'About right', 'Some bits were hard but overall it was doable', 'Too difficult', 'Impossible']\n",
    "\n",
    "#@markdown Use the line below to enter any comments &mdash; what you liked, what you did not like. Again all feedback is welcome.\n",
    "general_comment = \"\" #@param {type: \"string\"}"
   ]
  },
  {
   "cell_type": "code",
   "execution_count": null,
   "metadata": {},
   "outputs": [],
   "source": []
  }
 ],
 "metadata": {
  "kernelspec": {
   "display_name": "Python 3",
   "language": "python",
   "name": "python3"
  },
  "language_info": {
   "codemirror_mode": {
    "name": "ipython",
    "version": 3
   },
   "file_extension": ".py",
   "mimetype": "text/x-python",
   "name": "python",
   "nbconvert_exporter": "python",
   "pygments_lexer": "ipython3",
   "version": "3.8.6"
  },
  "toc": {
   "toc_cell": false,
   "toc_number_sections": true,
   "toc_threshold": 6,
   "toc_window_display": false
  }
 },
 "nbformat": 4,
 "nbformat_minor": 4
}
