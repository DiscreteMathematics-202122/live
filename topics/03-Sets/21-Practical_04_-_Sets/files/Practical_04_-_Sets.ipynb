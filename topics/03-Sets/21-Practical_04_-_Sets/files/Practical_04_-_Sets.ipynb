{
 "cells": [
  {
   "cell_type": "markdown",
   "metadata": {
    "id": "GbC9UdF9Q8b_",
    "label": "title"
   },
   "source": [
    "# Practical 04 - Sets"
   ]
  },
  {
   "cell_type": "markdown",
   "metadata": {
    "id": "_-UuIfogtpi2",
    "label": "setup"
   },
   "source": [
    "## Setup"
   ]
  },
  {
   "cell_type": "code",
   "execution_count": null,
   "metadata": {
    "cellView": "form",
    "id": "yW3AQAQHt02b"
   },
   "outputs": [],
   "source": [
    "#@markdown **Please enter your following details and press Shift-Enter to save:**\n",
    "your_student_number = '' #@param {type: \"string\"}\n",
    "your_name = '' #@param {type: \"string\"}"
   ]
  },
  {
   "cell_type": "code",
   "execution_count": null,
   "metadata": {
    "id": "PMOHc55Ft4xa"
   },
   "outputs": [],
   "source": [
    "# setup magic, do not edit this cell! Just press Shift+Enter or click on arrow at top-left\n",
    "\n",
    "import urllib.request\n",
    "content = urllib.request.urlretrieve (\"http://discretemathematics-202122.github.io/live/resources/setup_practical_magic.py\")\n",
    "exec(open(content[0]).read())\n",
    "setup_practical(locals())"
   ]
  },
  {
   "cell_type": "markdown",
   "metadata": {
    "id": "oK5ZteDstpi3",
    "label": "Introduction"
   },
   "source": [
    "---\n",
    "## Introduction\n",
    "\n",
    "In this practical we will\n",
    " \n",
    "  * Demonstrate the Python implementation of sets\n",
    "  * Builder notation in Python"
   ]
  },
  {
   "cell_type": "markdown",
   "metadata": {
    "id": "G8GHkwbDQ8cO"
   },
   "source": [
    "### Mathematics Concepts\n",
    "\n",
    " * Sets, definition and membership  \\\\(\\in\\\\) vs \\\\(\\notin\\\\)\n",
    " * Builder notation\n"
   ]
  },
  {
   "cell_type": "markdown",
   "metadata": {
    "id": "bHJ_wW9gQ8cP"
   },
   "source": [
    "### Python Concepts\n",
    "\n",
    " * Create an empty set: `set()` \n",
    " * Define a set by listing its elements.\n",
    " * Check for membership, using `in` operator.\n",
    " * Generating a sequence using `range`"
   ]
  },
  {
   "cell_type": "markdown",
   "metadata": {
    "id": "EOvqtEKFQ8cQ"
   },
   "source": [
    "---\n",
    "\n",
    "## Defining Sets and Membership\n",
    "\n",
    "Define an empty set using  \n",
    "\n",
    "~~~python\n",
    "A = set()\n",
    "~~~\n",
    "\n",
    "Then add element `3` to the set using \n",
    "\n",
    "~~~python\n",
    "A.add(3)\n",
    "~~~\n",
    "\n",
    "and check for membership using `in` as \n",
    "\n",
    "~~~python\n",
    "4 in A\n",
    "~~~\n",
    "\n",
    "to print the set use\n",
    "\n",
    "~~~python\n",
    "print(A)\n",
    "~~~\n",
    "\n",
    "**Notes:**\n",
    "\n",
    " * To cut down on unwanted output, the output of all commands (except for the last command) and all assignment commands are not shown. So, if you want to see more output you should use the `print` command. Also rather than just using\n",
    "\n",
    "~~~python\n",
    "print(A)\n",
    "~~~\n",
    "\n",
    "   consider making your print statements more informative by including extra information such as \n",
    "  \n",
    "~~~python\n",
    "print(\"A = \", A)\n",
    "~~~  \n",
    "\n",
    " * We are using uppercase letters for our sets &mdash; this is the usual convention in Mathematics for sets. Note: your programming lecturers have hopefully talked to you about naming conventions (in Processing/Java) and would use lowercase letters here. The default naming convention in Processing/Java is great but as a programmer you should know when to break from it  (see [Hungarian Wars](https://blog.codinghorror.com/hungarian-wars/))."
   ]
  },
  {
   "cell_type": "markdown",
   "metadata": {
    "id": "Kc7nPuEwQ8cQ"
   },
   "source": [
    "### Example 1\n",
    "\n",
    "Write code to \n",
    "\n",
    " * create a empty set,\n",
    " * output the set,\n",
    " * add the numbers 1, 4 and 5 to it,\n",
    " * output the set,\n",
    " * check if 2 is a member of the set."
   ]
  },
  {
   "cell_type": "code",
   "execution_count": null,
   "metadata": {
    "id": "5_SteEfFQ8cR"
   },
   "outputs": [],
   "source": [
    "A = set()\n",
    "print(\"A =\", A)\n",
    "A.add(1)\n",
    "A.add(4)\n",
    "A.add(5)\n",
    "print(\"A =\", A)\n",
    "2 in A"
   ]
  },
  {
   "cell_type": "markdown",
   "metadata": {
    "id": "7NugzJfnQ8cU"
   },
   "source": [
    "### Question 1\n",
    "\n",
    "Write code to \n",
    "\n",
    " * create a empty set, called `C`,\n",
    " * Add the letters 'a', 'b' and 'g' to it,\n",
    " * Display/print the set with a label,\n",
    " * Check if 'g' is a member of the set.\n",
    " \n",
    "**Note:** Characters must be within quotes &mdash; use `'g'` or `\"g\"` and not `g` "
   ]
  },
  {
   "cell_type": "code",
   "execution_count": null,
   "metadata": {
    "id": "Q-LvUtwYQ8cU",
    "label": "Q1"
   },
   "outputs": [],
   "source": [
    "# Quesiton 1\n"
   ]
  },
  {
   "cell_type": "markdown",
   "metadata": {
    "id": "7T0_TvsqQ8cX"
   },
   "source": [
    "### Question 2\n",
    "\n",
    "Write code to \n",
    "\n",
    " * Create a set, called `P`, containing the primes less than 50.\n",
    " * Determine how many primes are less than 50 using the `len` function."
   ]
  },
  {
   "cell_type": "code",
   "execution_count": null,
   "metadata": {
    "id": "ZaCWhXI9Q8cY",
    "label": "Q2"
   },
   "outputs": [],
   "source": [
    "# Quesiton 2\n"
   ]
  },
  {
   "cell_type": "markdown",
   "metadata": {
    "id": "IVnDfN72Q8cb",
    "label": "Q1"
   },
   "source": [
    "---\n",
    "## Generating Larger Sets using Range Function\n",
    "\n",
    "The listing of individual elements that we did above is painful.  It would make life easier if we have a simple function to generate sequences of numbers satisfying a pattern.  The Python function `range` does exactly that &mdash; all we need do is convert the sequence to a set using `set` function. For example\n",
    "\n",
    "Set containing integers from 0 to 10, including 0 and excluding 10.\n",
    "\n",
    "~~~python\n",
    "set(range(10))             # -> {0, 1, 2, 3, 4, 5, 6, 7, 8, 9}\n",
    "~~~\n",
    "\n",
    "Set containing integers from 3 to 10, including 3 and excluding 10.\n",
    "\n",
    "~~~python\n",
    "set(range(3,10))           # -> {3, 4, 5, 6, 7, 8, 9}\n",
    "~~~    \n",
    "\n",
    "Set containing integers from 3 to 10, including 3 and excluding 10, in steps of 2.\n",
    "\n",
    "~~~python\n",
    "set(range(3,10,2))         # -> {3, 5, 7, 9}\n",
    "~~~    "
   ]
  },
  {
   "cell_type": "markdown",
   "metadata": {
    "id": "5euvhQ80Q8cf"
   },
   "source": [
    "### Question 3\n",
    "\n",
    "Write code to generate and display the set, `D`, the set of all odd positive integers less than 10"
   ]
  },
  {
   "cell_type": "code",
   "execution_count": null,
   "metadata": {
    "id": "XMI6qMjaQ8cf",
    "label": "Q3"
   },
   "outputs": [],
   "source": [
    "# Quesiton 3\n"
   ]
  },
  {
   "cell_type": "markdown",
   "metadata": {
    "id": "3Jm87NtbQ8ci"
   },
   "source": [
    "### Question 4\n",
    "\n",
    "Write code to generate and display the set, `E`, a set of multiples of 17 between 0 and 1000 inclusive, and determine how many elements in the set."
   ]
  },
  {
   "cell_type": "code",
   "execution_count": null,
   "metadata": {
    "id": "qeL8kmc4Q8cj",
    "label": "Q4"
   },
   "outputs": [],
   "source": [
    "# Quesiton 4\n"
   ]
  },
  {
   "cell_type": "markdown",
   "metadata": {
    "id": "VmP8JAksQ8cl"
   },
   "source": [
    "---\n",
    "## Generating Sets using Builder Notation\n",
    "\n",
    "We covered the builder notation in class\n",
    "$$\n",
    "    A = \\{\\text{pattern} \\mid \\text{rule} \\}\n",
    "$$\n",
    "For example the set of positive odd numbers less than 100 was \n",
    "$$\n",
    "    A = \\{x \\mid x=2k+1, 0<x<100, k\\in \\mathbb{N} \\}\n",
    "$$\n",
    "which is same as \n",
    "$$\n",
    "    A = \\{2k+1 \\mid 0\\le k<49, k\\in \\mathbb{N} \\}\n",
    "$$\n",
    "\n",
    "In python we implement this using \n",
    "\n",
    "~~~python\n",
    "set(2*k+1 for k in range(49))\n",
    "~~~\n",
    "or more simply \n",
    "\n",
    "~~~python\n",
    "{2*k+1 for k in range(49)}\n",
    "~~~\n",
    "\n",
    "Alternatively we can use `step=2` in `range` command \n",
    "\n",
    "~~~python\n",
    "{k for k in range(1,100,2)}\n",
    "~~~\n",
    "\n",
    "Alternatively we can filter out the even numbers using an `if` clause \n",
    "\n",
    "\n",
    "~~~python\n",
    "{k for k in range(1,100) if k%2==1}\n",
    "~~~\n",
    "\n",
    "Note here `k%2` gives the remainder of dividing `k` by `2`."
   ]
  },
  {
   "cell_type": "markdown",
   "metadata": {
    "id": "kPO3bcFTQ8cl"
   },
   "source": [
    "### Question 5\n",
    "\n",
    "Write code to generate and display the set, `F`, a set of positive integers less than 1000 that are multiples of 3. Also output the number of elements in the set."
   ]
  },
  {
   "cell_type": "code",
   "execution_count": null,
   "metadata": {
    "id": "b5h8jp6IQ8cl",
    "label": "Q5"
   },
   "outputs": [],
   "source": [
    "# Quesiton 5\n"
   ]
  },
  {
   "cell_type": "markdown",
   "metadata": {
    "id": "W1GLmiRgQ8co"
   },
   "source": [
    "### Question 6\n",
    "\n",
    "Write code to generate and display the set, `G`, a set of positive integers less than 1000 that are multiples of 5. Also output the number of elements in the set."
   ]
  },
  {
   "cell_type": "code",
   "execution_count": null,
   "metadata": {
    "id": "vcRS97p0Q8cp",
    "label": "Q6"
   },
   "outputs": [],
   "source": [
    "# Quesiton 6\n",
    "\n"
   ]
  },
  {
   "cell_type": "markdown",
   "metadata": {
    "id": "xnF7o6QMQ8cr"
   },
   "source": [
    "### Question 7\n",
    "\n",
    "Write code to generate and display the set, `HAlso o`, a set of positive integers less than 1000 that are multiples of 3 or multiples of 5. Also output the number of elements in the set.\n",
    "\n",
    "Hint: Use a filter (as shown above)"
   ]
  },
  {
   "cell_type": "code",
   "execution_count": null,
   "metadata": {
    "id": "N5Yosx_nQ8cs",
    "label": "Q7"
   },
   "outputs": [],
   "source": [
    "# Quesiton 7\n"
   ]
  },
  {
   "cell_type": "markdown",
   "metadata": {
    "id": "CCHysYiYuEhY"
   },
   "source": [
    "---\n",
    "## Review/Feedback (P04)"
   ]
  },
  {
   "cell_type": "code",
   "execution_count": null,
   "metadata": {
    "cellView": "form",
    "id": "H7PIHTZVt_ww"
   },
   "outputs": [],
   "source": [
    "#@markdown This a a short questionnaire for you to provide feedback on how you think the semester is progressing and in particular for __Discrete Mathematics__, how easy/difficult, interesting/boring, useful/confusing you find the material. By completing the following you will help us improve our delivery.<br />Please enter your feedback and click on arrow at top-left to save. \n",
    "\n",
    "#@markdown **This practical**\n",
    "\n",
    "#@markdown How difficult did you find this practical?\n",
    "practical_difficulty = 'No opinion' #@param ['No opinion', \"Too easy', 'Easy', 'About right', 'Some bits were hard but overall it was doable', 'Too difficult', 'Impossible']\n",
    "\n",
    "#@markdown Including online session time, how long (in minutes) did it take for you to finish this practical?\n",
    "practical_duration = 0 #@param {type: \"number\"}\n",
    "\n",
    "#@markdown **This week's material**\n",
    "\n",
    "#@markdown How difficult did you find each of the following this week?\n",
    "lecture_difficulty = 'No opinion' #@param ['No opinion', \"Too easy', 'Easy', 'About right', 'Some bits were hard but overall it was doable', 'Too difficult', 'Impossible']\n",
    "\n",
    "tutorial_questions_difficulty = 'No opinion' #@param ['No opinion', \"Too easy', 'Easy', 'About right', 'Some bits were hard but overall it was doable', 'Too difficult', 'Impossible']\n",
    "\n",
    "#@markdown Use the line below to enter any comments &mdash; what you liked, what you did not like. Again all feedback is welcome.\n",
    "general_comment = \"\" #@param {type: \"string\"}"
   ]
  }
 ],
 "metadata": {
  "colab": {
   "collapsed_sections": [],
   "name": "DM_Practical_04_-_Sets.ipynb",
   "provenance": [],
   "toc_visible": true
  },
  "kernelspec": {
   "display_name": "Python 3",
   "language": "python",
   "name": "python3"
  },
  "language_info": {
   "codemirror_mode": {
    "name": "ipython",
    "version": 3
   },
   "file_extension": ".py",
   "mimetype": "text/x-python",
   "name": "python",
   "nbconvert_exporter": "python",
   "pygments_lexer": "ipython3",
   "version": "3.8.6"
  },
  "toc": {
   "toc_cell": false,
   "toc_number_sections": true,
   "toc_threshold": 6,
   "toc_window_display": false
  }
 },
 "nbformat": 4,
 "nbformat_minor": 4
}
